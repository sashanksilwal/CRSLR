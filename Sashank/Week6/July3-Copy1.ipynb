{
 "cells": [
  {
   "cell_type": "markdown",
   "metadata": {},
   "source": [
    "### Checking whether the funcitonn to add true north is dynamic "
   ]
  },
  {
   "cell_type": "code",
   "execution_count": 1,
   "metadata": {},
   "outputs": [
    {
     "name": "stderr",
     "output_type": "stream",
     "text": [
      "/opt/anaconda3/envs/SLResearch/lib/python3.8/site-packages/geopandas/_compat.py:106: UserWarning: The Shapely GEOS version (3.8.1-CAPI-1.13.3) is incompatible with the GEOS version PyGEOS was compiled with (3.9.1-CAPI-1.14.2). Conversions between both will be slow.\n",
      "  warnings.warn(\n"
     ]
    }
   ],
   "source": [
    "import geopandas as gpd\n",
    "from pattern.text.en import singularize\n",
    "import cartopy.crs as ccrs\n",
    "import numpy as np\n",
    "\n",
    "\n",
    "import seaborn as sns\n",
    "sns.set_theme(style=\"darkgrid\")\n",
    "\n",
    "import matplotlib.pyplot as plt \n",
    "from matplotlib_scalebar.scalebar import ScaleBar"
   ]
  },
  {
   "cell_type": "code",
   "execution_count": 2,
   "metadata": {},
   "outputs": [],
   "source": [
    "def scale_bar(ax, length=None, location=(0.5, 0.05), linewidth=3):\n",
    "    \"\"\"\n",
    "    ax is the axes to draw the scalebar on.\n",
    "    length is the length of the scalebar in km.\n",
    "    location is center of the scalebar in axis coordinates.\n",
    "    (ie. 0.5 is the middle of the plot)\n",
    "    linewidth is the thickness of the scalebar.\n",
    "    \"\"\"\n",
    "    #Get the limits of the axis in lat long\n",
    "    llx0, llx1, lly0, lly1 = ax.get_extent(ccrs.PlateCarree())\n",
    "    #Make tmc horizontally centred on the middle of the map,\n",
    "    #vertically at scale bar location\n",
    "    sbllx = (llx1 + llx0) / 2\n",
    "    sblly = lly0 + (lly1 - lly0) * location[1]\n",
    "    tmc = ccrs.TransverseMercator(sbllx, sblly)\n",
    "    #Get the extent of the plotted area in coordinates in metres\n",
    "    x0, x1, y0, y1 = ax.get_extent(tmc)\n",
    "    #Turn the specified scalebar location into coordinates in metres\n",
    "    sbx = x0 + (x1 - x0) * location[0]\n",
    "    sby = y0 + (y1 - y0) * location[1]\n",
    "\n",
    "    #Calculate a scale bar length if none has been given\n",
    "    #(Theres probably a more pythonic way of rounding the number but this works)\n",
    "    if not length: \n",
    "        length = (x1 - x0) / 5000 #in km\n",
    "        ndim = int(np.floor(np.log10(length))) #number of digits in number\n",
    "        length = round(length, -ndim) #round to 1sf\n",
    "        #Returns numbers starting with the list\n",
    "        def scale_number(x):\n",
    "            if str(x)[0] in ['1', '2', '5']: return int(x)        \n",
    "            else: return scale_number(x - 10 ** ndim)\n",
    "        length = scale_number(length) \n",
    "\n",
    "    #Generate the x coordinate for the ends of the scalebar\n",
    "    bar_xs = [sbx - length * 500, sbx + length * 500]\n",
    "    #Plot the scalebar\n",
    "    ax.plot(bar_xs, [sby, sby], transform=tmc, color='k', linewidth=linewidth)\n",
    "    #Plot the scalebar label\n",
    "    ax.text(sbx, sby, str(length) + ' km', transform=tmc,\n",
    "            horizontalalignment='center', verticalalignment='bottom')"
   ]
  },
  {
   "cell_type": "code",
   "execution_count": 3,
   "metadata": {},
   "outputs": [],
   "source": [
    "shapefile = gpd.read_file(r\"/Users/sashanksilwal/Desktop/SLResearch/NoteBooks/Week2/Example_data/Conwy.shx\")"
   ]
  },
  {
   "cell_type": "code",
   "execution_count": 4,
   "metadata": {},
   "outputs": [
    {
     "data": {
      "text/html": [
       "<div>\n",
       "<style scoped>\n",
       "    .dataframe tbody tr th:only-of-type {\n",
       "        vertical-align: middle;\n",
       "    }\n",
       "\n",
       "    .dataframe tbody tr th {\n",
       "        vertical-align: top;\n",
       "    }\n",
       "\n",
       "    .dataframe thead th {\n",
       "        text-align: right;\n",
       "    }\n",
       "</style>\n",
       "<table border=\"1\" class=\"dataframe\">\n",
       "  <thead>\n",
       "    <tr style=\"text-align: right;\">\n",
       "      <th></th>\n",
       "      <th>LU</th>\n",
       "      <th>Status</th>\n",
       "      <th>Slope</th>\n",
       "      <th>geometry</th>\n",
       "    </tr>\n",
       "  </thead>\n",
       "  <tbody>\n",
       "    <tr>\n",
       "      <th>0</th>\n",
       "      <td>1.0</td>\n",
       "      <td>4.0</td>\n",
       "      <td>8.0</td>\n",
       "      <td>POLYGON ((281250.000 382000.000, 281450.000 38...</td>\n",
       "    </tr>\n",
       "    <tr>\n",
       "      <th>1</th>\n",
       "      <td>2.0</td>\n",
       "      <td>4.0</td>\n",
       "      <td>10.0</td>\n",
       "      <td>POLYGON ((281450.000 382000.000, 281650.000 38...</td>\n",
       "    </tr>\n",
       "    <tr>\n",
       "      <th>2</th>\n",
       "      <td>2.0</td>\n",
       "      <td>NaN</td>\n",
       "      <td>13.0</td>\n",
       "      <td>POLYGON ((281670.000 381800.000, 281850.000 38...</td>\n",
       "    </tr>\n",
       "    <tr>\n",
       "      <th>3</th>\n",
       "      <td>1.0</td>\n",
       "      <td>4.0</td>\n",
       "      <td>8.0</td>\n",
       "      <td>POLYGON ((281230.000 381800.000, 281250.000 38...</td>\n",
       "    </tr>\n",
       "    <tr>\n",
       "      <th>4</th>\n",
       "      <td>1.0</td>\n",
       "      <td>NaN</td>\n",
       "      <td>6.0</td>\n",
       "      <td>POLYGON ((280850.000 381800.000, 281230.000 38...</td>\n",
       "    </tr>\n",
       "    <tr>\n",
       "      <th>...</th>\n",
       "      <td>...</td>\n",
       "      <td>...</td>\n",
       "      <td>...</td>\n",
       "      <td>...</td>\n",
       "    </tr>\n",
       "    <tr>\n",
       "      <th>1624</th>\n",
       "      <td>NaN</td>\n",
       "      <td>4.0</td>\n",
       "      <td>7.0</td>\n",
       "      <td>MULTIPOLYGON (((281850.000 352300.000, 282250....</td>\n",
       "    </tr>\n",
       "    <tr>\n",
       "      <th>1625</th>\n",
       "      <td>NaN</td>\n",
       "      <td>4.0</td>\n",
       "      <td>7.0</td>\n",
       "      <td>MULTIPOLYGON (((281850.000 352300.000, 282250....</td>\n",
       "    </tr>\n",
       "    <tr>\n",
       "      <th>1626</th>\n",
       "      <td>NaN</td>\n",
       "      <td>4.0</td>\n",
       "      <td>7.0</td>\n",
       "      <td>MULTIPOLYGON (((281850.000 352300.000, 282250....</td>\n",
       "    </tr>\n",
       "    <tr>\n",
       "      <th>1627</th>\n",
       "      <td>NaN</td>\n",
       "      <td>4.0</td>\n",
       "      <td>6.0</td>\n",
       "      <td>MULTIPOLYGON (((281850.000 352300.000, 282250....</td>\n",
       "    </tr>\n",
       "    <tr>\n",
       "      <th>1628</th>\n",
       "      <td>NaN</td>\n",
       "      <td>4.0</td>\n",
       "      <td>6.0</td>\n",
       "      <td>MULTIPOLYGON (((281850.000 352300.000, 282250....</td>\n",
       "    </tr>\n",
       "  </tbody>\n",
       "</table>\n",
       "<p>1629 rows × 4 columns</p>\n",
       "</div>"
      ],
      "text/plain": [
       "       LU  Status  Slope                                           geometry\n",
       "0     1.0     4.0    8.0  POLYGON ((281250.000 382000.000, 281450.000 38...\n",
       "1     2.0     4.0   10.0  POLYGON ((281450.000 382000.000, 281650.000 38...\n",
       "2     2.0     NaN   13.0  POLYGON ((281670.000 381800.000, 281850.000 38...\n",
       "3     1.0     4.0    8.0  POLYGON ((281230.000 381800.000, 281250.000 38...\n",
       "4     1.0     NaN    6.0  POLYGON ((280850.000 381800.000, 281230.000 38...\n",
       "...   ...     ...    ...                                                ...\n",
       "1624  NaN     4.0    7.0  MULTIPOLYGON (((281850.000 352300.000, 282250....\n",
       "1625  NaN     4.0    7.0  MULTIPOLYGON (((281850.000 352300.000, 282250....\n",
       "1626  NaN     4.0    7.0  MULTIPOLYGON (((281850.000 352300.000, 282250....\n",
       "1627  NaN     4.0    6.0  MULTIPOLYGON (((281850.000 352300.000, 282250....\n",
       "1628  NaN     4.0    6.0  MULTIPOLYGON (((281850.000 352300.000, 282250....\n",
       "\n",
       "[1629 rows x 4 columns]"
      ]
     },
     "execution_count": 4,
     "metadata": {},
     "output_type": "execute_result"
    }
   ],
   "source": [
    "shapefile"
   ]
  },
  {
   "cell_type": "code",
   "execution_count": 8,
   "metadata": {},
   "outputs": [
    {
     "data": {
      "text/plain": [
       "<Projected CRS: EPSG:27700>\n",
       "Name: OSGB 1936 / British National Grid\n",
       "Axis Info [cartesian]:\n",
       "- E[east]: Easting (metre)\n",
       "- N[north]: Northing (metre)\n",
       "Area of Use:\n",
       "- name: UK - Britain and UKCS 49°45'N to 61°N, 9°W to 2°E\n",
       "- bounds: (-9.0, 49.75, 2.01, 61.01)\n",
       "Coordinate Operation:\n",
       "- name: British National Grid\n",
       "- method: Transverse Mercator\n",
       "Datum: OSGB 1936\n",
       "- Ellipsoid: Airy 1830\n",
       "- Prime Meridian: Greenwich"
      ]
     },
     "execution_count": 8,
     "metadata": {},
     "output_type": "execute_result"
    }
   ],
   "source": [
    "shapefile.crs"
   ]
  },
  {
   "cell_type": "code",
   "execution_count": 24,
   "metadata": {},
   "outputs": [
    {
     "data": {
      "text/plain": [
       "Text(0.9, 0.8, 'N')"
      ]
     },
     "execution_count": 24,
     "metadata": {},
     "output_type": "execute_result"
    },
    {
     "data": {
      "image/png": "[encoded data removed]",
      "text/plain": [
       "<Figure size 720x720 with 1 Axes>"
      ]
     },
     "metadata": {},
     "output_type": "display_data"
    }
   ],
   "source": [
    "fig, ax = plt.subplots(1, figsize=(10,10))\n",
    "shapefile.plot(ax=ax, cmap='jet', legend=True, legend_kwds={'loc': 'lower right'});\n",
    "leg = ax.get_legend()\n",
    "# leg.set_bbox_to_anchor((1.3, 0., 0.2, 0.2))\n",
    "scalebar = ScaleBar(10, \"km\", length_fraction=0.05, location='lower right')\n",
    "# scalebar = ScaleBar(location='lower right')\n",
    "# scale_bar(ax, 100)\n",
    "ax.add_artist(scalebar)\n",
    "\n",
    "x, y, arrow_length = .9, 0.9, 0.1\n",
    "ax.annotate('N', xy=(x, y), xytext=(x, y-arrow_length),\n",
    "            arrowprops=dict(facecolor='black', width=5, headwidth=15),\n",
    "            ha='center', va='center', fontsize=20,\n",
    "            xycoords=ax.transAxes)"
   ]
  },
  {
   "cell_type": "markdown",
   "metadata": {},
   "source": [
    "https://stackoverflow.com/questions/32333870/how-can-i-show-a-km-ruler-on-a-cartopy-matplotlib-plot\n",
    "https://stackoverflow.com/questions/63727080/geopandas-uniting-land-masses-and-coastal-buffer-polygons"
   ]
  },
  {
   "cell_type": "code",
   "execution_count": null,
   "metadata": {},
   "outputs": [],
   "source": []
  },
  {
   "cell_type": "code",
   "execution_count": 12,
   "metadata": {},
   "outputs": [
    {
     "data": {
      "text/html": [
       "<div>\n",
       "<style scoped>\n",
       "    .dataframe tbody tr th:only-of-type {\n",
       "        vertical-align: middle;\n",
       "    }\n",
       "\n",
       "    .dataframe tbody tr th {\n",
       "        vertical-align: top;\n",
       "    }\n",
       "\n",
       "    .dataframe thead th {\n",
       "        text-align: right;\n",
       "    }\n",
       "</style>\n",
       "<table border=\"1\" class=\"dataframe\">\n",
       "  <thead>\n",
       "    <tr style=\"text-align: right;\">\n",
       "      <th></th>\n",
       "      <th>OBJECTID</th>\n",
       "      <th>Id</th>\n",
       "      <th>HabitatTyp</th>\n",
       "      <th>HabitatT_1</th>\n",
       "      <th>HabitatSub</th>\n",
       "      <th>HabitatS_1</th>\n",
       "      <th>RuleID</th>\n",
       "      <th>Shape_Leng</th>\n",
       "      <th>Shape_Area</th>\n",
       "      <th>Habitats</th>\n",
       "      <th>geometry</th>\n",
       "    </tr>\n",
       "  </thead>\n",
       "  <tbody>\n",
       "    <tr>\n",
       "      <th>0</th>\n",
       "      <td>1</td>\n",
       "      <td>1</td>\n",
       "      <td>1000</td>\n",
       "      <td>Intertidal Habitats</td>\n",
       "      <td>1010</td>\n",
       "      <td>Mudflats And Sand Exposed At Low Tide</td>\n",
       "      <td>14</td>\n",
       "      <td>7.524321e+03</td>\n",
       "      <td>2.115300e+06</td>\n",
       "      <td>Intertidal Habitats</td>\n",
       "      <td>POLYGON ((53.99011 24.13066, 53.99039 24.13065...</td>\n",
       "    </tr>\n",
       "    <tr>\n",
       "      <th>1</th>\n",
       "      <td>2</td>\n",
       "      <td>2</td>\n",
       "      <td>1000</td>\n",
       "      <td>Intertidal Habitats</td>\n",
       "      <td>1010</td>\n",
       "      <td>Mudflats And Sand Exposed At Low Tide</td>\n",
       "      <td>14</td>\n",
       "      <td>4.870493e+04</td>\n",
       "      <td>7.777595e+06</td>\n",
       "      <td>Intertidal Habitats</td>\n",
       "      <td>POLYGON ((54.07207 24.15920, 54.07776 24.15455...</td>\n",
       "    </tr>\n",
       "    <tr>\n",
       "      <th>2</th>\n",
       "      <td>3</td>\n",
       "      <td>3</td>\n",
       "      <td>1000</td>\n",
       "      <td>Intertidal Habitats</td>\n",
       "      <td>1010</td>\n",
       "      <td>Mudflats And Sand Exposed At Low Tide</td>\n",
       "      <td>14</td>\n",
       "      <td>2.721521e+03</td>\n",
       "      <td>1.367130e+05</td>\n",
       "      <td>Intertidal Habitats</td>\n",
       "      <td>POLYGON ((54.10483 24.16618, 54.10465 24.16584...</td>\n",
       "    </tr>\n",
       "    <tr>\n",
       "      <th>3</th>\n",
       "      <td>4</td>\n",
       "      <td>4</td>\n",
       "      <td>1000</td>\n",
       "      <td>Intertidal Habitats</td>\n",
       "      <td>1010</td>\n",
       "      <td>Mudflats And Sand Exposed At Low Tide</td>\n",
       "      <td>14</td>\n",
       "      <td>1.001023e+04</td>\n",
       "      <td>1.424318e+06</td>\n",
       "      <td>Intertidal Habitats</td>\n",
       "      <td>POLYGON ((54.03827 24.17414, 54.03834 24.17400...</td>\n",
       "    </tr>\n",
       "    <tr>\n",
       "      <th>4</th>\n",
       "      <td>5</td>\n",
       "      <td>5</td>\n",
       "      <td>1000</td>\n",
       "      <td>Intertidal Habitats</td>\n",
       "      <td>1010</td>\n",
       "      <td>Mudflats And Sand Exposed At Low Tide</td>\n",
       "      <td>14</td>\n",
       "      <td>6.023903e+04</td>\n",
       "      <td>1.222009e+07</td>\n",
       "      <td>Intertidal Habitats</td>\n",
       "      <td>POLYGON ((54.17323 24.19203, 54.17294 24.19172...</td>\n",
       "    </tr>\n",
       "    <tr>\n",
       "      <th>...</th>\n",
       "      <td>...</td>\n",
       "      <td>...</td>\n",
       "      <td>...</td>\n",
       "      <td>...</td>\n",
       "      <td>...</td>\n",
       "      <td>...</td>\n",
       "      <td>...</td>\n",
       "      <td>...</td>\n",
       "      <td>...</td>\n",
       "      <td>...</td>\n",
       "      <td>...</td>\n",
       "    </tr>\n",
       "    <tr>\n",
       "      <th>68407</th>\n",
       "      <td>68408</td>\n",
       "      <td>27749</td>\n",
       "      <td>17000</td>\n",
       "      <td>Deep Sub-Tidal Seabed</td>\n",
       "      <td>17000</td>\n",
       "      <td>Deep Sub-Tidal Seabed</td>\n",
       "      <td>13</td>\n",
       "      <td>6.779433e+03</td>\n",
       "      <td>2.321405e+06</td>\n",
       "      <td>Deep Sub-Tidal Seabed</td>\n",
       "      <td>POLYGON ((51.86066 24.64255, 51.85864 24.64164...</td>\n",
       "    </tr>\n",
       "    <tr>\n",
       "      <th>68408</th>\n",
       "      <td>68409</td>\n",
       "      <td>27750</td>\n",
       "      <td>17000</td>\n",
       "      <td>Deep Sub-Tidal Seabed</td>\n",
       "      <td>17000</td>\n",
       "      <td>Deep Sub-Tidal Seabed</td>\n",
       "      <td>13</td>\n",
       "      <td>2.949082e+03</td>\n",
       "      <td>4.308493e+05</td>\n",
       "      <td>Deep Sub-Tidal Seabed</td>\n",
       "      <td>POLYGON ((51.78022 24.68265, 51.78028 24.68244...</td>\n",
       "    </tr>\n",
       "    <tr>\n",
       "      <th>68409</th>\n",
       "      <td>68410</td>\n",
       "      <td>27751</td>\n",
       "      <td>17000</td>\n",
       "      <td>Deep Sub-Tidal Seabed</td>\n",
       "      <td>17000</td>\n",
       "      <td>Deep Sub-Tidal Seabed</td>\n",
       "      <td>13</td>\n",
       "      <td>8.547824e+04</td>\n",
       "      <td>4.761868e+07</td>\n",
       "      <td>Deep Sub-Tidal Seabed</td>\n",
       "      <td>POLYGON ((51.68765 24.67259, 51.68587 24.67217...</td>\n",
       "    </tr>\n",
       "    <tr>\n",
       "      <th>68410</th>\n",
       "      <td>68411</td>\n",
       "      <td>27752</td>\n",
       "      <td>17000</td>\n",
       "      <td>Deep Sub-Tidal Seabed</td>\n",
       "      <td>17000</td>\n",
       "      <td>Deep Sub-Tidal Seabed</td>\n",
       "      <td>13</td>\n",
       "      <td>1.392197e+05</td>\n",
       "      <td>1.043467e+08</td>\n",
       "      <td>Deep Sub-Tidal Seabed</td>\n",
       "      <td>POLYGON ((51.82734 24.71405, 51.82756 24.71068...</td>\n",
       "    </tr>\n",
       "    <tr>\n",
       "      <th>68411</th>\n",
       "      <td>68412</td>\n",
       "      <td>27753</td>\n",
       "      <td>17000</td>\n",
       "      <td>Deep Sub-Tidal Seabed</td>\n",
       "      <td>17000</td>\n",
       "      <td>Deep Sub-Tidal Seabed</td>\n",
       "      <td>13</td>\n",
       "      <td>5.363927e+06</td>\n",
       "      <td>2.473784e+10</td>\n",
       "      <td>Deep Sub-Tidal Seabed</td>\n",
       "      <td>POLYGON ((52.79894 24.16287, 52.79930 24.16292...</td>\n",
       "    </tr>\n",
       "  </tbody>\n",
       "</table>\n",
       "<p>68412 rows × 11 columns</p>\n",
       "</div>"
      ],
      "text/plain": [
       "       OBJECTID     Id  HabitatTyp             HabitatT_1  HabitatSub  \\\n",
       "0             1      1        1000    Intertidal Habitats        1010   \n",
       "1             2      2        1000    Intertidal Habitats        1010   \n",
       "2             3      3        1000    Intertidal Habitats        1010   \n",
       "3             4      4        1000    Intertidal Habitats        1010   \n",
       "4             5      5        1000    Intertidal Habitats        1010   \n",
       "...         ...    ...         ...                    ...         ...   \n",
       "68407     68408  27749       17000  Deep Sub-Tidal Seabed       17000   \n",
       "68408     68409  27750       17000  Deep Sub-Tidal Seabed       17000   \n",
       "68409     68410  27751       17000  Deep Sub-Tidal Seabed       17000   \n",
       "68410     68411  27752       17000  Deep Sub-Tidal Seabed       17000   \n",
       "68411     68412  27753       17000  Deep Sub-Tidal Seabed       17000   \n",
       "\n",
       "                                  HabitatS_1  RuleID    Shape_Leng  \\\n",
       "0      Mudflats And Sand Exposed At Low Tide      14  7.524321e+03   \n",
       "1      Mudflats And Sand Exposed At Low Tide      14  4.870493e+04   \n",
       "2      Mudflats And Sand Exposed At Low Tide      14  2.721521e+03   \n",
       "3      Mudflats And Sand Exposed At Low Tide      14  1.001023e+04   \n",
       "4      Mudflats And Sand Exposed At Low Tide      14  6.023903e+04   \n",
       "...                                      ...     ...           ...   \n",
       "68407                  Deep Sub-Tidal Seabed      13  6.779433e+03   \n",
       "68408                  Deep Sub-Tidal Seabed      13  2.949082e+03   \n",
       "68409                  Deep Sub-Tidal Seabed      13  8.547824e+04   \n",
       "68410                  Deep Sub-Tidal Seabed      13  1.392197e+05   \n",
       "68411                  Deep Sub-Tidal Seabed      13  5.363927e+06   \n",
       "\n",
       "         Shape_Area               Habitats  \\\n",
       "0      2.115300e+06    Intertidal Habitats   \n",
       "1      7.777595e+06    Intertidal Habitats   \n",
       "2      1.367130e+05    Intertidal Habitats   \n",
       "3      1.424318e+06    Intertidal Habitats   \n",
       "4      1.222009e+07    Intertidal Habitats   \n",
       "...             ...                    ...   \n",
       "68407  2.321405e+06  Deep Sub-Tidal Seabed   \n",
       "68408  4.308493e+05  Deep Sub-Tidal Seabed   \n",
       "68409  4.761868e+07  Deep Sub-Tidal Seabed   \n",
       "68410  1.043467e+08  Deep Sub-Tidal Seabed   \n",
       "68411  2.473784e+10  Deep Sub-Tidal Seabed   \n",
       "\n",
       "                                                geometry  \n",
       "0      POLYGON ((53.99011 24.13066, 53.99039 24.13065...  \n",
       "1      POLYGON ((54.07207 24.15920, 54.07776 24.15455...  \n",
       "2      POLYGON ((54.10483 24.16618, 54.10465 24.16584...  \n",
       "3      POLYGON ((54.03827 24.17414, 54.03834 24.17400...  \n",
       "4      POLYGON ((54.17323 24.19203, 54.17294 24.19172...  \n",
       "...                                                  ...  \n",
       "68407  POLYGON ((51.86066 24.64255, 51.85864 24.64164...  \n",
       "68408  POLYGON ((51.78022 24.68265, 51.78028 24.68244...  \n",
       "68409  POLYGON ((51.68765 24.67259, 51.68587 24.67217...  \n",
       "68410  POLYGON ((51.82734 24.71405, 51.82756 24.71068...  \n",
       "68411  POLYGON ((52.79894 24.16287, 52.79930 24.16292...  \n",
       "\n",
       "[68412 rows x 11 columns]"
      ]
     },
     "execution_count": 12,
     "metadata": {},
     "output_type": "execute_result"
    }
   ],
   "source": [
    "import geopandas as gpd\n",
    "soa_shape_map_path = r\"New_example_data/shapefile/shapefile/UAE_habitats_new1.shx\"\n",
    "soa_shape_map = gpd.read_file(soa_shape_map_path)\n",
    "soa_shape_map"
   ]
  },
  {
   "cell_type": "code",
   "execution_count": 13,
   "metadata": {},
   "outputs": [
    {
     "data": {
      "text/plain": [
       "<Geographic 2D CRS: EPSG:4326>\n",
       "Name: WGS 84\n",
       "Axis Info [ellipsoidal]:\n",
       "- Lat[north]: Geodetic latitude (degree)\n",
       "- Lon[east]: Geodetic longitude (degree)\n",
       "Area of Use:\n",
       "- name: World\n",
       "- bounds: (-180.0, -90.0, 180.0, 90.0)\n",
       "Datum: World Geodetic System 1984\n",
       "- Ellipsoid: WGS 84\n",
       "- Prime Meridian: Greenwich"
      ]
     },
     "execution_count": 13,
     "metadata": {},
     "output_type": "execute_result"
    }
   ],
   "source": [
    "soa_shape_map.crs"
   ]
  },
  {
   "cell_type": "code",
   "execution_count": 14,
   "metadata": {},
   "outputs": [
    {
     "name": "stdout",
     "output_type": "stream",
     "text": [
      "       OBJECTID     Id  HabitatTyp             HabitatT_1  HabitatSub  \\\n",
      "0             1      1        1000    Intertidal Habitats        1010   \n",
      "1             2      2        1000    Intertidal Habitats        1010   \n",
      "2             3      3        1000    Intertidal Habitats        1010   \n",
      "3             4      4        1000    Intertidal Habitats        1010   \n",
      "4             5      5        1000    Intertidal Habitats        1010   \n",
      "...         ...    ...         ...                    ...         ...   \n",
      "68407     68408  27749       17000  Deep Sub-Tidal Seabed       17000   \n",
      "68408     68409  27750       17000  Deep Sub-Tidal Seabed       17000   \n",
      "68409     68410  27751       17000  Deep Sub-Tidal Seabed       17000   \n",
      "68410     68411  27752       17000  Deep Sub-Tidal Seabed       17000   \n",
      "68411     68412  27753       17000  Deep Sub-Tidal Seabed       17000   \n",
      "\n",
      "                                  HabitatS_1  RuleID    Shape_Leng  \\\n",
      "0      Mudflats And Sand Exposed At Low Tide      14  7.524321e+03   \n",
      "1      Mudflats And Sand Exposed At Low Tide      14  4.870493e+04   \n",
      "2      Mudflats And Sand Exposed At Low Tide      14  2.721521e+03   \n",
      "3      Mudflats And Sand Exposed At Low Tide      14  1.001023e+04   \n",
      "4      Mudflats And Sand Exposed At Low Tide      14  6.023903e+04   \n",
      "...                                      ...     ...           ...   \n",
      "68407                  Deep Sub-Tidal Seabed      13  6.779433e+03   \n",
      "68408                  Deep Sub-Tidal Seabed      13  2.949082e+03   \n",
      "68409                  Deep Sub-Tidal Seabed      13  8.547824e+04   \n",
      "68410                  Deep Sub-Tidal Seabed      13  1.392197e+05   \n",
      "68411                  Deep Sub-Tidal Seabed      13  5.363927e+06   \n",
      "\n",
      "         Shape_Area               Habitats  \\\n",
      "0      2.115300e+06    Intertidal Habitats   \n",
      "1      7.777595e+06    Intertidal Habitats   \n",
      "2      1.367130e+05    Intertidal Habitats   \n",
      "3      1.424318e+06    Intertidal Habitats   \n",
      "4      1.222009e+07    Intertidal Habitats   \n",
      "...             ...                    ...   \n",
      "68407  2.321405e+06  Deep Sub-Tidal Seabed   \n",
      "68408  4.308493e+05  Deep Sub-Tidal Seabed   \n",
      "68409  4.761868e+07  Deep Sub-Tidal Seabed   \n",
      "68410  1.043467e+08  Deep Sub-Tidal Seabed   \n",
      "68411  2.473784e+10  Deep Sub-Tidal Seabed   \n",
      "\n",
      "                                                geometry  \n",
      "0      POLYGON ((53.99011 24.13066, 53.99039 24.13065...  \n",
      "1      POLYGON ((54.07207 24.15920, 54.07776 24.15455...  \n",
      "2      POLYGON ((54.10483 24.16618, 54.10465 24.16584...  \n",
      "3      POLYGON ((54.03827 24.17414, 54.03834 24.17400...  \n",
      "4      POLYGON ((54.17323 24.19203, 54.17294 24.19172...  \n",
      "...                                                  ...  \n",
      "68407  POLYGON ((51.86066 24.64255, 51.85864 24.64164...  \n",
      "68408  POLYGON ((51.78022 24.68265, 51.78028 24.68244...  \n",
      "68409  POLYGON ((51.68765 24.67259, 51.68587 24.67217...  \n",
      "68410  POLYGON ((51.82734 24.71405, 51.82756 24.71068...  \n",
      "68411  POLYGON ((52.79894 24.16287, 52.79930 24.16292...  \n",
      "\n",
      "[68412 rows x 11 columns]\n"
     ]
    }
   ],
   "source": [
    "soa_shape_map_geo = soa_shape_map\n",
    "print(soa_shape_map_geo)"
   ]
  },
  {
   "cell_type": "code",
   "execution_count": 15,
   "metadata": {},
   "outputs": [
    {
     "name": "stdout",
     "output_type": "stream",
     "text": [
      "24.12542566442906 53.99526467366637\n"
     ]
    }
   ],
   "source": [
    "print(soa_shape_map_geo.iloc[0].geometry.centroid.y, soa_shape_map_geo.iloc[0].geometry.centroid.x)"
   ]
  },
  {
   "cell_type": "code",
   "execution_count": 16,
   "metadata": {},
   "outputs": [],
   "source": [
    "# .to_crs(epsg=4326, inplace=True)"
   ]
  },
  {
   "cell_type": "code",
   "execution_count": 17,
   "metadata": {},
   "outputs": [
    {
     "data": {
      "text/plain": [
       "Farmland                     16494\n",
       "Hard-Bottom                   9995\n",
       "Developed                     7113\n",
       "Unconsolidated Bottom         6641\n",
       "Forest Plantations            5557\n",
       "Seagrass Bed                  4967\n",
       "Coral Reefs                   4673\n",
       "Sand Sheets and Dunes         4463\n",
       "Gravel Plains                 2682\n",
       "Mountains                     1067\n",
       "Dredged Area Wall              817\n",
       "Coastal Salt Flats             742\n",
       "Inland Salt Flats              606\n",
       "Mangroves                      557\n",
       "Intertidal Habitats            487\n",
       "Marine Structure               447\n",
       "Lakes or Artificial Lakes      193\n",
       "Mega Dunes                     191\n",
       "Saltmarsh                      175\n",
       "Coastal Sand Plains            173\n",
       "Dredged Seabed                 162\n",
       "Sandy Beaches                   79\n",
       "Deep Sub-Tidal Seabed           51\n",
       "Wetlands                        36\n",
       "Rocky Beaches                   31\n",
       "Coastal Rocky Plains            12\n",
       "Coastal Cliff                    1\n",
       "Name: Habitats, dtype: int64"
      ]
     },
     "execution_count": 17,
     "metadata": {},
     "output_type": "execute_result"
    }
   ],
   "source": [
    "soa_shape_map.Habitats.value_counts()"
   ]
  },
  {
   "cell_type": "code",
   "execution_count": 18,
   "metadata": {},
   "outputs": [
    {
     "data": {
      "image/png": "[encoded data removed]",
      "text/plain": [
       "<Figure size 882x504 with 1 Axes>"
      ]
     },
     "metadata": {},
     "output_type": "display_data"
    }
   ],
   "source": [
    "sns.displot(soa_shape_map, x=\"Habitats\", height=7, aspect=1.75)\n",
    "labels = plt.xticks(rotation=90)"
   ]
  },
  {
   "cell_type": "markdown",
   "metadata": {},
   "source": [
    "https://contextily.readthedocs.io/en/latest/intro_guide.html"
   ]
  },
  {
   "cell_type": "code",
   "execution_count": null,
   "metadata": {},
   "outputs": [],
   "source": []
  },
  {
   "cell_type": "code",
   "execution_count": null,
   "metadata": {},
   "outputs": [],
   "source": []
  },
  {
   "cell_type": "code",
   "execution_count": null,
   "metadata": {},
   "outputs": [],
   "source": []
  }
 ],
 "metadata": {
  "kernelspec": {
   "display_name": "Python 3",
   "language": "python",
   "name": "python3"
  },
  "language_info": {
   "codemirror_mode": {
    "name": "ipython",
    "version": 3
   },
   "file_extension": ".py",
   "mimetype": "text/x-python",
   "name": "python",
   "nbconvert_exporter": "python",
   "pygments_lexer": "ipython3",
   "version": "3.8.5"
  }
 },
 "nbformat": 4,
 "nbformat_minor": 4
}
