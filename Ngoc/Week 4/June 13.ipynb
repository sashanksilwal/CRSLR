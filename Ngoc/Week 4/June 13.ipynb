{
 "cells": [
  {
   "cell_type": "code",
   "execution_count": 1,
   "id": "8a2b337d",
   "metadata": {},
   "outputs": [],
   "source": [
    "import pandas as pd\n",
    "import numpy as np"
   ]
  },
  {
   "cell_type": "code",
   "execution_count": 6,
   "id": "d40c8669",
   "metadata": {},
   "outputs": [
    {
     "data": {
      "text/html": [
       "<div>\n",
       "<style scoped>\n",
       "    .dataframe tbody tr th:only-of-type {\n",
       "        vertical-align: middle;\n",
       "    }\n",
       "\n",
       "    .dataframe tbody tr th {\n",
       "        vertical-align: top;\n",
       "    }\n",
       "\n",
       "    .dataframe thead th {\n",
       "        text-align: right;\n",
       "    }\n",
       "</style>\n",
       "<table border=\"1\" class=\"dataframe\">\n",
       "  <thead>\n",
       "    <tr style=\"text-align: right;\">\n",
       "      <th></th>\n",
       "      <th>PassengerId</th>\n",
       "      <th>Survived</th>\n",
       "      <th>Pclass</th>\n",
       "      <th>Name</th>\n",
       "      <th>Sex</th>\n",
       "      <th>Age</th>\n",
       "      <th>SibSp</th>\n",
       "      <th>Parch</th>\n",
       "      <th>Ticket</th>\n",
       "      <th>Fare</th>\n",
       "      <th>Cabin</th>\n",
       "      <th>Embarked</th>\n",
       "    </tr>\n",
       "  </thead>\n",
       "  <tbody>\n",
       "    <tr>\n",
       "      <th>0</th>\n",
       "      <td>1</td>\n",
       "      <td>0</td>\n",
       "      <td>3</td>\n",
       "      <td>Braund, Mr. Owen Harris</td>\n",
       "      <td>male</td>\n",
       "      <td>22.0</td>\n",
       "      <td>1</td>\n",
       "      <td>0</td>\n",
       "      <td>A/5 21171</td>\n",
       "      <td>7.2500</td>\n",
       "      <td>NaN</td>\n",
       "      <td>S</td>\n",
       "    </tr>\n",
       "    <tr>\n",
       "      <th>1</th>\n",
       "      <td>2</td>\n",
       "      <td>1</td>\n",
       "      <td>1</td>\n",
       "      <td>Cumings, Mrs. John Bradley (Florence Briggs Th...</td>\n",
       "      <td>female</td>\n",
       "      <td>38.0</td>\n",
       "      <td>1</td>\n",
       "      <td>0</td>\n",
       "      <td>PC 17599</td>\n",
       "      <td>71.2833</td>\n",
       "      <td>C85</td>\n",
       "      <td>C</td>\n",
       "    </tr>\n",
       "    <tr>\n",
       "      <th>2</th>\n",
       "      <td>3</td>\n",
       "      <td>1</td>\n",
       "      <td>3</td>\n",
       "      <td>Heikkinen, Miss. Laina</td>\n",
       "      <td>female</td>\n",
       "      <td>26.0</td>\n",
       "      <td>0</td>\n",
       "      <td>0</td>\n",
       "      <td>STON/O2. 3101282</td>\n",
       "      <td>7.9250</td>\n",
       "      <td>NaN</td>\n",
       "      <td>S</td>\n",
       "    </tr>\n",
       "    <tr>\n",
       "      <th>3</th>\n",
       "      <td>4</td>\n",
       "      <td>1</td>\n",
       "      <td>1</td>\n",
       "      <td>Futrelle, Mrs. Jacques Heath (Lily May Peel)</td>\n",
       "      <td>female</td>\n",
       "      <td>35.0</td>\n",
       "      <td>1</td>\n",
       "      <td>0</td>\n",
       "      <td>113803</td>\n",
       "      <td>53.1000</td>\n",
       "      <td>C123</td>\n",
       "      <td>S</td>\n",
       "    </tr>\n",
       "    <tr>\n",
       "      <th>4</th>\n",
       "      <td>5</td>\n",
       "      <td>0</td>\n",
       "      <td>3</td>\n",
       "      <td>Allen, Mr. William Henry</td>\n",
       "      <td>male</td>\n",
       "      <td>35.0</td>\n",
       "      <td>0</td>\n",
       "      <td>0</td>\n",
       "      <td>373450</td>\n",
       "      <td>8.0500</td>\n",
       "      <td>NaN</td>\n",
       "      <td>S</td>\n",
       "    </tr>\n",
       "  </tbody>\n",
       "</table>\n",
       "</div>"
      ],
      "text/plain": [
       "   PassengerId  Survived  Pclass  \\\n",
       "0            1         0       3   \n",
       "1            2         1       1   \n",
       "2            3         1       3   \n",
       "3            4         1       1   \n",
       "4            5         0       3   \n",
       "\n",
       "                                                Name     Sex   Age  SibSp  \\\n",
       "0                            Braund, Mr. Owen Harris    male  22.0      1   \n",
       "1  Cumings, Mrs. John Bradley (Florence Briggs Th...  female  38.0      1   \n",
       "2                             Heikkinen, Miss. Laina  female  26.0      0   \n",
       "3       Futrelle, Mrs. Jacques Heath (Lily May Peel)  female  35.0      1   \n",
       "4                           Allen, Mr. William Henry    male  35.0      0   \n",
       "\n",
       "   Parch            Ticket     Fare Cabin Embarked  \n",
       "0      0         A/5 21171   7.2500   NaN        S  \n",
       "1      0          PC 17599  71.2833   C85        C  \n",
       "2      0  STON/O2. 3101282   7.9250   NaN        S  \n",
       "3      0            113803  53.1000  C123        S  \n",
       "4      0            373450   8.0500   NaN        S  "
      ]
     },
     "execution_count": 6,
     "metadata": {},
     "output_type": "execute_result"
    }
   ],
   "source": [
    "data = pd.read_csv('clean_data.csv', index_col='Unnamed: 0')\n",
    "data.head()"
   ]
  },
  {
   "cell_type": "markdown",
   "id": "9736b1b2",
   "metadata": {},
   "source": [
    "## Label encoding\n",
    "<code>Fare</code>: 0, 1, 2 depending on how expensive (clustering using KMeans)\\\n",
    "<code>PClass</code>: 1, 2, 3 $\\rightarrow$ 0, 1, 2\\\n",
    "<code>Age</code> $\\rightarrow$ 0 - childhood (0 - 15), 1 - adult (15 - 55), 2 - old (> 55)\\\n",
    "<code>Cabin</code>: 0 (null), 1 (not null)\\\n",
    "<code>Sex</code>: male, female $\\rightarrow$ 0, 1"
   ]
  },
  {
   "cell_type": "markdown",
   "id": "287ee2dd",
   "metadata": {},
   "source": [
    "## Encoding <code>Fare</code>"
   ]
  },
  {
   "cell_type": "code",
   "execution_count": 17,
   "id": "ad496ade",
   "metadata": {},
   "outputs": [],
   "source": [
    "from sklearn.cluster import KMeans"
   ]
  },
  {
   "cell_type": "code",
   "execution_count": 27,
   "id": "aa9dbfaf",
   "metadata": {},
   "outputs": [],
   "source": [
    "fare = data['Fare'].values\n",
    "clf = KMeans(n_clusters=3).fit(fare.reshape(-1, 1))\n",
    "fare_clf = clf.predict(fare.reshape(-1, 1))"
   ]
  },
  {
   "cell_type": "code",
   "execution_count": 62,
   "id": "79cb8235",
   "metadata": {},
   "outputs": [],
   "source": [
    "comp = pd.DataFrame(zip(fare, fare_clf), columns=['Old', 'New'])"
   ]
  },
  {
   "cell_type": "code",
   "execution_count": 69,
   "id": "f3a7c3fd",
   "metadata": {},
   "outputs": [
    {
     "data": {
      "text/html": [
       "<div>\n",
       "<style scoped>\n",
       "    .dataframe tbody tr th:only-of-type {\n",
       "        vertical-align: middle;\n",
       "    }\n",
       "\n",
       "    .dataframe tbody tr th {\n",
       "        vertical-align: top;\n",
       "    }\n",
       "\n",
       "    .dataframe thead th {\n",
       "        text-align: right;\n",
       "    }\n",
       "</style>\n",
       "<table border=\"1\" class=\"dataframe\">\n",
       "  <thead>\n",
       "    <tr style=\"text-align: right;\">\n",
       "      <th></th>\n",
       "      <th>Old</th>\n",
       "      <th>New</th>\n",
       "    </tr>\n",
       "  </thead>\n",
       "  <tbody>\n",
       "    <tr>\n",
       "      <th>count</th>\n",
       "      <td>207.000000</td>\n",
       "      <td>207.0</td>\n",
       "    </tr>\n",
       "    <tr>\n",
       "      <th>mean</th>\n",
       "      <td>82.760729</td>\n",
       "      <td>2.0</td>\n",
       "    </tr>\n",
       "    <tr>\n",
       "      <th>std</th>\n",
       "      <td>30.669238</td>\n",
       "      <td>0.0</td>\n",
       "    </tr>\n",
       "    <tr>\n",
       "      <th>min</th>\n",
       "      <td>49.500000</td>\n",
       "      <td>2.0</td>\n",
       "    </tr>\n",
       "    <tr>\n",
       "      <th>25%</th>\n",
       "      <td>57.750000</td>\n",
       "      <td>2.0</td>\n",
       "    </tr>\n",
       "    <tr>\n",
       "      <th>50%</th>\n",
       "      <td>75.250000</td>\n",
       "      <td>2.0</td>\n",
       "    </tr>\n",
       "    <tr>\n",
       "      <th>75%</th>\n",
       "      <td>90.539600</td>\n",
       "      <td>2.0</td>\n",
       "    </tr>\n",
       "    <tr>\n",
       "      <th>max</th>\n",
       "      <td>164.866700</td>\n",
       "      <td>2.0</td>\n",
       "    </tr>\n",
       "  </tbody>\n",
       "</table>\n",
       "</div>"
      ],
      "text/plain": [
       "              Old    New\n",
       "count  207.000000  207.0\n",
       "mean    82.760729    2.0\n",
       "std     30.669238    0.0\n",
       "min     49.500000    2.0\n",
       "25%     57.750000    2.0\n",
       "50%     75.250000    2.0\n",
       "75%     90.539600    2.0\n",
       "max    164.866700    2.0"
      ]
     },
     "execution_count": 69,
     "metadata": {},
     "output_type": "execute_result"
    }
   ],
   "source": [
    "# comp[comp.New == 0].describe()\n",
    "# Class 0: min 0, max 47.1, mean 15.3, total count: 1061\n",
    "# comp[comp.New == 1].describe()\n",
    "# Class 1: min 211.3, max 512.3, mean 266.7, total count: 38\n",
    "# comp[comp.New == 2].describe()\n",
    "# Class 2: min 49.5, max 164.9, mean 82.8, total count: 207"
   ]
  },
  {
   "cell_type": "code",
   "execution_count": 70,
   "id": "e4eed879",
   "metadata": {},
   "outputs": [],
   "source": [
    "data['Fare'] = fare_clf"
   ]
  },
  {
   "cell_type": "markdown",
   "id": "f1dadb28",
   "metadata": {},
   "source": [
    "## Encoding <code>Pclass</code>"
   ]
  },
  {
   "cell_type": "code",
   "execution_count": 73,
   "id": "a71ee00a",
   "metadata": {},
   "outputs": [],
   "source": [
    "data['Pclass'] = data['Pclass'] - 1"
   ]
  },
  {
   "cell_type": "markdown",
   "id": "78992f89",
   "metadata": {},
   "source": [
    "## Encoding <code>Age</code>"
   ]
  },
  {
   "cell_type": "code",
   "execution_count": 84,
   "id": "d46d3125",
   "metadata": {},
   "outputs": [
    {
     "data": {
      "text/plain": [
       "True"
      ]
     },
     "execution_count": 84,
     "metadata": {},
     "output_type": "execute_result"
    }
   ],
   "source": [
    "len(data[data.Age < 15]) + len(data[(data.Age >= 15) & (data.Age < 55)]) + len(data[data.Age >= 55]) == len(data)"
   ]
  },
  {
   "cell_type": "code",
   "execution_count": 85,
   "id": "42f33b02",
   "metadata": {},
   "outputs": [],
   "source": [
    "data.loc[data.Age < 15,'Age'] = 0\n",
    "data.loc[(data.Age >= 15) & (data.Age < 55), 'Age'] = 1\n",
    "data.loc[data.Age >= 55, 'Age'] = 2"
   ]
  },
  {
   "cell_type": "code",
   "execution_count": 88,
   "id": "d16e660c",
   "metadata": {},
   "outputs": [
    {
     "data": {
      "text/plain": [
       "True"
      ]
     },
     "execution_count": 88,
     "metadata": {},
     "output_type": "execute_result"
    }
   ],
   "source": [
    "len(data[data.Age == 0]) + len(data[data.Age == 1]) + len(data[data.Age == 2]) == len(data)"
   ]
  },
  {
   "cell_type": "markdown",
   "id": "75bdd2e5",
   "metadata": {},
   "source": [
    "## Encoding <code>Cabin</code>"
   ]
  },
  {
   "cell_type": "code",
   "execution_count": 89,
   "id": "dca2a5e1",
   "metadata": {},
   "outputs": [],
   "source": [
    "data.loc[data.Cabin.isnull(), 'Cabin'] = 0\n",
    "data.loc[data.Cabin.notnull(), 'Cabin'] = 1"
   ]
  },
  {
   "cell_type": "code",
   "execution_count": 90,
   "id": "c36e9c69",
   "metadata": {},
   "outputs": [
    {
     "data": {
      "text/plain": [
       "True"
      ]
     },
     "execution_count": 90,
     "metadata": {},
     "output_type": "execute_result"
    }
   ],
   "source": [
    "len(data[data.Cabin == 0]) + len(data[data.Cabin == 1]) == len(data)"
   ]
  },
  {
   "cell_type": "markdown",
   "id": "91de46b2",
   "metadata": {},
   "source": [
    "## Encoding <code>Sex</code>"
   ]
  },
  {
   "cell_type": "code",
   "execution_count": 91,
   "id": "aef3c005",
   "metadata": {},
   "outputs": [],
   "source": [
    "data.loc[data.Sex == 'male', 'Sex'] = 0\n",
    "data.loc[data.Sex == 'female', 'Sex'] = 1"
   ]
  },
  {
   "cell_type": "code",
   "execution_count": 92,
   "id": "28b154d8",
   "metadata": {},
   "outputs": [
    {
     "data": {
      "text/plain": [
       "True"
      ]
     },
     "execution_count": 92,
     "metadata": {},
     "output_type": "execute_result"
    }
   ],
   "source": [
    "len(data[data.Sex == 0]) + len(data[data.Sex == 1]) == len(data)"
   ]
  },
  {
   "cell_type": "markdown",
   "id": "75f069c0",
   "metadata": {},
   "source": [
    "## Dropping unused columns"
   ]
  },
  {
   "cell_type": "code",
   "execution_count": 94,
   "id": "7ca31022",
   "metadata": {},
   "outputs": [],
   "source": [
    "to_drop = ['PassengerId', 'Name', 'SibSp', 'Parch', 'Ticket', 'Embarked']\n",
    "final = data.drop(columns = to_drop, axis=1)"
   ]
  },
  {
   "cell_type": "code",
   "execution_count": 97,
   "id": "332dc5d5",
   "metadata": {},
   "outputs": [
    {
     "data": {
      "text/html": [
       "<div>\n",
       "<style scoped>\n",
       "    .dataframe tbody tr th:only-of-type {\n",
       "        vertical-align: middle;\n",
       "    }\n",
       "\n",
       "    .dataframe tbody tr th {\n",
       "        vertical-align: top;\n",
       "    }\n",
       "\n",
       "    .dataframe thead th {\n",
       "        text-align: right;\n",
       "    }\n",
       "</style>\n",
       "<table border=\"1\" class=\"dataframe\">\n",
       "  <thead>\n",
       "    <tr style=\"text-align: right;\">\n",
       "      <th></th>\n",
       "      <th>Survived</th>\n",
       "      <th>Pclass</th>\n",
       "      <th>Sex</th>\n",
       "      <th>Age</th>\n",
       "      <th>Fare</th>\n",
       "      <th>Cabin</th>\n",
       "    </tr>\n",
       "  </thead>\n",
       "  <tbody>\n",
       "    <tr>\n",
       "      <th>0</th>\n",
       "      <td>0</td>\n",
       "      <td>2</td>\n",
       "      <td>0</td>\n",
       "      <td>1</td>\n",
       "      <td>0</td>\n",
       "      <td>1</td>\n",
       "    </tr>\n",
       "    <tr>\n",
       "      <th>1</th>\n",
       "      <td>1</td>\n",
       "      <td>0</td>\n",
       "      <td>1</td>\n",
       "      <td>1</td>\n",
       "      <td>2</td>\n",
       "      <td>1</td>\n",
       "    </tr>\n",
       "    <tr>\n",
       "      <th>2</th>\n",
       "      <td>1</td>\n",
       "      <td>2</td>\n",
       "      <td>1</td>\n",
       "      <td>1</td>\n",
       "      <td>0</td>\n",
       "      <td>1</td>\n",
       "    </tr>\n",
       "    <tr>\n",
       "      <th>3</th>\n",
       "      <td>1</td>\n",
       "      <td>0</td>\n",
       "      <td>1</td>\n",
       "      <td>1</td>\n",
       "      <td>2</td>\n",
       "      <td>1</td>\n",
       "    </tr>\n",
       "    <tr>\n",
       "      <th>4</th>\n",
       "      <td>0</td>\n",
       "      <td>2</td>\n",
       "      <td>0</td>\n",
       "      <td>1</td>\n",
       "      <td>0</td>\n",
       "      <td>1</td>\n",
       "    </tr>\n",
       "    <tr>\n",
       "      <th>...</th>\n",
       "      <td>...</td>\n",
       "      <td>...</td>\n",
       "      <td>...</td>\n",
       "      <td>...</td>\n",
       "      <td>...</td>\n",
       "      <td>...</td>\n",
       "    </tr>\n",
       "    <tr>\n",
       "      <th>1301</th>\n",
       "      <td>0</td>\n",
       "      <td>2</td>\n",
       "      <td>0</td>\n",
       "      <td>1</td>\n",
       "      <td>0</td>\n",
       "      <td>1</td>\n",
       "    </tr>\n",
       "    <tr>\n",
       "      <th>1302</th>\n",
       "      <td>1</td>\n",
       "      <td>0</td>\n",
       "      <td>1</td>\n",
       "      <td>1</td>\n",
       "      <td>2</td>\n",
       "      <td>1</td>\n",
       "    </tr>\n",
       "    <tr>\n",
       "      <th>1303</th>\n",
       "      <td>0</td>\n",
       "      <td>2</td>\n",
       "      <td>0</td>\n",
       "      <td>1</td>\n",
       "      <td>0</td>\n",
       "      <td>1</td>\n",
       "    </tr>\n",
       "    <tr>\n",
       "      <th>1304</th>\n",
       "      <td>0</td>\n",
       "      <td>2</td>\n",
       "      <td>0</td>\n",
       "      <td>1</td>\n",
       "      <td>0</td>\n",
       "      <td>1</td>\n",
       "    </tr>\n",
       "    <tr>\n",
       "      <th>1305</th>\n",
       "      <td>0</td>\n",
       "      <td>2</td>\n",
       "      <td>0</td>\n",
       "      <td>0</td>\n",
       "      <td>0</td>\n",
       "      <td>1</td>\n",
       "    </tr>\n",
       "  </tbody>\n",
       "</table>\n",
       "<p>1306 rows × 6 columns</p>\n",
       "</div>"
      ],
      "text/plain": [
       "      Survived  Pclass Sex  Age  Fare Cabin\n",
       "0            0       2   0    1     0     1\n",
       "1            1       0   1    1     2     1\n",
       "2            1       2   1    1     0     1\n",
       "3            1       0   1    1     2     1\n",
       "4            0       2   0    1     0     1\n",
       "...        ...     ...  ..  ...   ...   ...\n",
       "1301         0       2   0    1     0     1\n",
       "1302         1       0   1    1     2     1\n",
       "1303         0       2   0    1     0     1\n",
       "1304         0       2   0    1     0     1\n",
       "1305         0       2   0    0     0     1\n",
       "\n",
       "[1306 rows x 6 columns]"
      ]
     },
     "execution_count": 97,
     "metadata": {},
     "output_type": "execute_result"
    }
   ],
   "source": [
    "final.Age = final.Age.astype(int)\n",
    "final"
   ]
  },
  {
   "cell_type": "markdown",
   "id": "3e6a87fb",
   "metadata": {},
   "source": [
    "## Building model"
   ]
  },
  {
   "cell_type": "markdown",
   "id": "9e88ddbc",
   "metadata": {},
   "source": [
    "<img src=\"model.jpg\">"
   ]
  },
  {
   "cell_type": "code",
   "execution_count": 142,
   "id": "2a156c87",
   "metadata": {},
   "outputs": [],
   "source": [
    "from pgmpy.models import BayesianModel\n",
    "from pgmpy.estimators import BayesianEstimator\n",
    "import pgmpy.inference\n",
    "import networkx as nx\n",
    "import pylab as plt"
   ]
  },
  {
   "cell_type": "code",
   "execution_count": 270,
   "id": "726fdf27",
   "metadata": {},
   "outputs": [],
   "source": [
    "model = BayesianModel([('Fare', 'Pclass'),\n",
    "                       ('Pclass', 'Survived'),\n",
    "                       ('Age', 'Survived'),\n",
    "                       ('Cabin', 'Survived'),\n",
    "                       ('Sex', 'Survived')])"
   ]
  },
  {
   "cell_type": "code",
   "execution_count": 271,
   "id": "db2b83e0",
   "metadata": {},
   "outputs": [
    {
     "name": "stderr",
     "output_type": "stream",
     "text": [
      "Finding Elimination Order: : 100%|██████████| 4/4 [09:19<00:00, 139.82s/it]\n",
      "Finding Elimination Order: : 100%|██████████| 4/4 [09:02<00:00, 135.64s/it]\n",
      "Finding Elimination Order: : 100%|██████████| 4/4 [08:58<00:00, 134.50s/it]\n",
      "Finding Elimination Order: : 100%|██████████| 4/4 [08:52<00:00, 133.15s/it]\n",
      "Finding Elimination Order: : 100%|██████████| 4/4 [08:47<00:00, 131.76s/it]\n",
      "Finding Elimination Order: : 100%|██████████| 4/4 [09:24<00:00, 141.19s/it]\n"
     ]
    },
    {
     "data": {
      "image/png": "[encoded data removed]",
      "text/plain": [
       "<Figure size 432x288 with 1 Axes>"
      ]
     },
     "metadata": {},
     "output_type": "display_data"
    }
   ],
   "source": [
    "nx.draw(model, with_labels=True)"
   ]
  },
  {
   "cell_type": "markdown",
   "id": "a26747dd",
   "metadata": {},
   "source": [
    "## Training and evaluating model"
   ]
  },
  {
   "cell_type": "code",
   "execution_count": 166,
   "id": "37f200cf",
   "metadata": {},
   "outputs": [],
   "source": [
    "from sklearn.model_selection import train_test_split\n",
    "from sklearn.metrics import accuracy_score\n",
    "from sklearn.model_selection import cross_validate, cross_val_score"
   ]
  },
  {
   "cell_type": "markdown",
   "id": "6e162248",
   "metadata": {},
   "source": [
    "### One time"
   ]
  },
  {
   "cell_type": "code",
   "execution_count": 155,
   "id": "6c842367",
   "metadata": {},
   "outputs": [],
   "source": [
    "X_train, X_test, y_train, y_test = train_test_split(final, final, test_size=0.2, random_state=42)"
   ]
  },
  {
   "cell_type": "code",
   "execution_count": 255,
   "id": "29b7b3d9",
   "metadata": {},
   "outputs": [
    {
     "name": "stderr",
     "output_type": "stream",
     "text": [
      "WARNING:root:Replacing existing CPD for Fare\n",
      "WARNING:root:Replacing existing CPD for Pclass\n",
      "WARNING:root:Replacing existing CPD for Survived\n",
      "WARNING:root:Replacing existing CPD for Age\n",
      "WARNING:root:Replacing existing CPD for Cabin\n",
      "WARNING:root:Replacing existing CPD for Sex\n"
     ]
    }
   ],
   "source": [
    "model.fit(X_train, estimator=BayesianEstimator, prior_type=\"BDeu\")"
   ]
  },
  {
   "cell_type": "code",
   "execution_count": 256,
   "id": "19b30a84",
   "metadata": {},
   "outputs": [
    {
     "name": "stderr",
     "output_type": "stream",
     "text": [
      "100%|██████████| 23/23 [00:00<00:00, 187.86it/s]\n"
     ]
    }
   ],
   "source": [
    "test_data = X_test.drop(columns=['Survived'], axis=1)\n",
    "y_pred = model.predict(test_data)"
   ]
  },
  {
   "cell_type": "code",
   "execution_count": 257,
   "id": "af84379e",
   "metadata": {},
   "outputs": [
    {
     "data": {
      "text/plain": [
       "0.8396946564885496"
      ]
     },
     "execution_count": 257,
     "metadata": {},
     "output_type": "execute_result"
    }
   ],
   "source": [
    "accuracy_score(y_pred['Survived'], X_test['Survived'])"
   ]
  },
  {
   "cell_type": "code",
   "execution_count": 268,
   "id": "40acf67f",
   "metadata": {},
   "outputs": [
    {
     "name": "stderr",
     "output_type": "stream",
     "text": [
      "\n",
      "\n",
      "\n",
      "\n",
      "\n",
      "  0%|          | 0/4 [00:00<?, ?it/s]\u001b[A\u001b[A\u001b[A\u001b[A\u001b[A\n",
      "\n",
      "\n",
      "\n",
      "\n",
      "Finding Elimination Order: :   0%|          | 0/4 [00:00<?, ?it/s]\u001b[A\u001b[A\u001b[A\u001b[A\u001b[A\n",
      "\n",
      "\n",
      "\n",
      "\n",
      "\n",
      "\n",
      "  0%|          | 0/4 [00:00<?, ?it/s]\u001b[A\u001b[A\u001b[A\u001b[A\u001b[A\u001b[A\u001b[A\n",
      "\n",
      "\n",
      "\n",
      "\n",
      "\n",
      "\n",
      "Eliminating: Fare:   0%|          | 0/4 [00:00<?, ?it/s]\u001b[A\u001b[A\u001b[A\u001b[A\u001b[A\u001b[A\u001b[A\n",
      "\n",
      "\n",
      "\n",
      "\n",
      "\n",
      "\n",
      "Eliminating: Cabin:   0%|          | 0/4 [00:00<?, ?it/s]\u001b[A\u001b[A\u001b[A\u001b[A\u001b[A\u001b[A\u001b[A\n",
      "\n",
      "\n",
      "\n",
      "\n",
      "\n",
      "\n",
      "Eliminating: Age:   0%|          | 0/4 [00:00<?, ?it/s]  \u001b[A\u001b[A\u001b[A\u001b[A\u001b[A\u001b[A\u001b[A\n",
      "\n",
      "\n",
      "\n",
      "\n",
      "\n",
      "\n",
      "Eliminating: Pclass: 100%|██████████| 4/4 [00:00<00:00, 329.22it/s]\u001b[A\u001b[A\u001b[A\u001b[A"
     ]
    },
    {
     "name": "stdout",
     "output_type": "stream",
     "text": [
      "+-------------+-----------------+\n",
      "| Survived    |   phi(Survived) |\n",
      "+=============+=================+\n",
      "| Survived(0) |          0.1962 |\n",
      "+-------------+-----------------+\n",
      "| Survived(1) |          0.8038 |\n",
      "+-------------+-----------------+\n"
     ]
    },
    {
     "name": "stderr",
     "output_type": "stream",
     "text": [
      "\n"
     ]
    }
   ],
   "source": [
    "from pgmpy.inference import VariableElimination\n",
    "model_infer = VariableElimination(model)\n",
    "q = model_infer.query(variables=['Survived'], evidence={'Sex': 1})\n",
    "print(q)"
   ]
  },
  {
   "cell_type": "markdown",
   "id": "161a08f6",
   "metadata": {},
   "source": [
    "### 10-fold cross validation"
   ]
  },
  {
   "cell_type": "code",
   "execution_count": 168,
   "id": "fde2cd4f",
   "metadata": {},
   "outputs": [],
   "source": [
    "# cv = cross_validate(model, X, y, cv=10, scoring='accuracy')\n",
    "# cv = cross_val_score(model, X, y, cv=10, scoring='accuracy')"
   ]
  },
  {
   "cell_type": "code",
   "execution_count": 272,
   "id": "d636fc29",
   "metadata": {},
   "outputs": [],
   "source": [
    "def partition(data, n):\n",
    "    splits = []\n",
    "    remaining = data.copy(deep=True)\n",
    "    for i in range(n):\n",
    "        split = remaining.sample(frac=1/(n-i), random_state=10)\n",
    "        splits.append(split)\n",
    "        remaining = remaining.drop(split.index)\n",
    "    return splits"
   ]
  },
  {
   "cell_type": "code",
   "execution_count": 273,
   "id": "a4796102",
   "metadata": {},
   "outputs": [],
   "source": [
    "def cross_val(model, data, n, target):\n",
    "    scores = []\n",
    "    splits = partition(data, n)\n",
    "    for i in range(n):\n",
    "        train_list = splits[:i] + splits[i+1:]\n",
    "        train = pd.concat(train_list)\n",
    "        test = splits[i]\n",
    "        y_true = test[target]\n",
    "        test = test.drop(columns=[target], axis=1)\n",
    "        model.fit(train, estimator=BayesianEstimator, prior_type=\"BDeu\")\n",
    "        y_pred = model.predict(test)\n",
    "        acc = accuracy_score(y_pred[target], y_true)\n",
    "        scores.append(acc)\n",
    "    return scores"
   ]
  },
  {
   "cell_type": "code",
   "execution_count": 274,
   "id": "b36861f1",
   "metadata": {},
   "outputs": [
    {
     "name": "stderr",
     "output_type": "stream",
     "text": [
      "100%|██████████| 19/19 [00:02<00:00,  7.13it/s]\n",
      "WARNING:root:Replacing existing CPD for Fare\n",
      "WARNING:root:Replacing existing CPD for Pclass\n",
      "WARNING:root:Replacing existing CPD for Survived\n",
      "WARNING:root:Replacing existing CPD for Age\n",
      "WARNING:root:Replacing existing CPD for Cabin\n",
      "WARNING:root:Replacing existing CPD for Sex\n",
      "100%|██████████| 18/18 [00:00<00:00, 1099.23it/s]\n",
      "WARNING:root:Replacing existing CPD for Fare\n",
      "WARNING:root:Replacing existing CPD for Pclass\n",
      "WARNING:root:Replacing existing CPD for Survived\n",
      "WARNING:root:Replacing existing CPD for Age\n",
      "WARNING:root:Replacing existing CPD for Cabin\n",
      "WARNING:root:Replacing existing CPD for Sex\n",
      "100%|██████████| 19/19 [00:00<00:00, 515.69it/s]\n",
      "WARNING:root:Replacing existing CPD for Fare\n",
      "WARNING:root:Replacing existing CPD for Pclass\n",
      "WARNING:root:Replacing existing CPD for Survived\n",
      "WARNING:root:Replacing existing CPD for Age\n",
      "WARNING:root:Replacing existing CPD for Cabin\n",
      "WARNING:root:Replacing existing CPD for Sex\n",
      "100%|██████████| 22/22 [00:00<00:00, 1061.79it/s]\n",
      "WARNING:root:Replacing existing CPD for Fare\n",
      "WARNING:root:Replacing existing CPD for Pclass\n",
      "WARNING:root:Replacing existing CPD for Survived\n",
      "WARNING:root:Replacing existing CPD for Age\n",
      "WARNING:root:Replacing existing CPD for Cabin\n",
      "WARNING:root:Replacing existing CPD for Sex\n",
      "100%|██████████| 23/23 [00:00<00:00, 1610.74it/s]\n",
      "WARNING:root:Replacing existing CPD for Fare\n",
      "WARNING:root:Replacing existing CPD for Pclass\n",
      "WARNING:root:Replacing existing CPD for Survived\n",
      "WARNING:root:Replacing existing CPD for Age\n",
      "WARNING:root:Replacing existing CPD for Cabin\n",
      "WARNING:root:Replacing existing CPD for Sex\n",
      "100%|██████████| 20/20 [00:00<00:00, 1175.29it/s]\n",
      "WARNING:root:Replacing existing CPD for Fare\n",
      "WARNING:root:Replacing existing CPD for Pclass\n",
      "WARNING:root:Replacing existing CPD for Survived\n",
      "WARNING:root:Replacing existing CPD for Age\n",
      "WARNING:root:Replacing existing CPD for Cabin\n",
      "WARNING:root:Replacing existing CPD for Sex\n",
      "100%|██████████| 20/20 [00:00<00:00, 954.75it/s]\n",
      "WARNING:root:Replacing existing CPD for Fare\n",
      "WARNING:root:Replacing existing CPD for Pclass\n",
      "WARNING:root:Replacing existing CPD for Survived\n",
      "WARNING:root:Replacing existing CPD for Age\n",
      "WARNING:root:Replacing existing CPD for Cabin\n",
      "WARNING:root:Replacing existing CPD for Sex\n",
      "100%|██████████| 19/19 [00:00<00:00, 754.66it/s]\n",
      "WARNING:root:Replacing existing CPD for Fare\n",
      "WARNING:root:Replacing existing CPD for Pclass\n",
      "WARNING:root:Replacing existing CPD for Survived\n",
      "WARNING:root:Replacing existing CPD for Age\n",
      "WARNING:root:Replacing existing CPD for Cabin\n",
      "WARNING:root:Replacing existing CPD for Sex\n",
      "100%|██████████| 19/19 [00:00<00:00, 1096.37it/s]\n",
      "WARNING:root:Replacing existing CPD for Fare\n",
      "WARNING:root:Replacing existing CPD for Pclass\n",
      "WARNING:root:Replacing existing CPD for Survived\n",
      "WARNING:root:Replacing existing CPD for Age\n",
      "WARNING:root:Replacing existing CPD for Cabin\n",
      "WARNING:root:Replacing existing CPD for Sex\n",
      "100%|██████████| 23/23 [00:00<00:00, 695.77it/s]\n"
     ]
    }
   ],
   "source": [
    "scores = cross_val(model, final, 10, target=\"Survived\")"
   ]
  },
  {
   "cell_type": "code",
   "execution_count": 275,
   "id": "280b1096",
   "metadata": {},
   "outputs": [
    {
     "name": "stdout",
     "output_type": "stream",
     "text": [
      "Mean score: 0.8468115091015853\n"
     ]
    },
    {
     "data": {
      "text/plain": [
       "[0.9007633587786259,\n",
       " 0.8244274809160306,\n",
       " 0.8769230769230769,\n",
       " 0.8473282442748091,\n",
       " 0.8076923076923077,\n",
       " 0.8549618320610687,\n",
       " 0.8,\n",
       " 0.8549618320610687,\n",
       " 0.8384615384615385,\n",
       " 0.8625954198473282]"
      ]
     },
     "execution_count": 275,
     "metadata": {},
     "output_type": "execute_result"
    }
   ],
   "source": [
    "print(\"Mean score:\", np.mean(scores))\n",
    "scores"
   ]
  },
  {
   "cell_type": "markdown",
   "id": "b36829a0",
   "metadata": {},
   "source": [
    "### Experimenting with sampling"
   ]
  },
  {
   "cell_type": "code",
   "execution_count": 182,
   "id": "6b414a50",
   "metadata": {},
   "outputs": [
    {
     "data": {
      "text/plain": [
       "True"
      ]
     },
     "execution_count": 182,
     "metadata": {},
     "output_type": "execute_result"
    }
   ],
   "source": [
    "split0 = final.sample(frac=0.1, random_state=10)\n",
    "remaining = final.drop(split0.index)\n",
    "set(final.index).difference(set(remaining.index)) == set(split0.index)"
   ]
  },
  {
   "cell_type": "code",
   "execution_count": 184,
   "id": "fb4edf7e",
   "metadata": {},
   "outputs": [],
   "source": [
    "partitions = partition(final, n=10, random_state=10)"
   ]
  },
  {
   "cell_type": "markdown",
   "id": "b7b2429e",
   "metadata": {},
   "source": [
    "Verifying that <code>partition()</code> returns a partition of data into <code>n</code> non-overlapping parts"
   ]
  },
  {
   "cell_type": "code",
   "execution_count": 189,
   "id": "0d808b92",
   "metadata": {},
   "outputs": [
    {
     "data": {
      "text/plain": [
       "1306"
      ]
     },
     "execution_count": 189,
     "metadata": {},
     "output_type": "execute_result"
    }
   ],
   "source": [
    "num_datapoints = sum([len(p) for p in partitions])\n",
    "num_datapoints"
   ]
  },
  {
   "cell_type": "code",
   "execution_count": 208,
   "id": "f528cc8a",
   "metadata": {},
   "outputs": [],
   "source": [
    "indices = [p.index for p in partitions]"
   ]
  },
  {
   "cell_type": "code",
   "execution_count": 216,
   "id": "aef1219f",
   "metadata": {},
   "outputs": [
    {
     "data": {
      "text/plain": [
       "131"
      ]
     },
     "execution_count": 216,
     "metadata": {},
     "output_type": "execute_result"
    }
   ],
   "source": [
    "list_indices = [list(i) for i in indices]\n",
    "len(list_indices[0])"
   ]
  },
  {
   "cell_type": "code",
   "execution_count": 217,
   "id": "977bd059",
   "metadata": {},
   "outputs": [],
   "source": [
    "flat_indices = [i for sub in list_indices for i in sub]"
   ]
  },
  {
   "cell_type": "code",
   "execution_count": 220,
   "id": "44d4c5f5",
   "metadata": {},
   "outputs": [
    {
     "data": {
      "text/plain": [
       "True"
      ]
     },
     "execution_count": 220,
     "metadata": {},
     "output_type": "execute_result"
    }
   ],
   "source": [
    "set(flat_indices) == set(final.index)"
   ]
  },
  {
   "cell_type": "code",
   "execution_count": 227,
   "id": "34c84431",
   "metadata": {},
   "outputs": [
    {
     "data": {
      "text/plain": [
       "[0, 1, 2, 3, 4, 5, 6, 7, 8, 9]"
      ]
     },
     "execution_count": 227,
     "metadata": {},
     "output_type": "execute_result"
    }
   ],
   "source": [
    "l = list(range(10))\n",
    "l"
   ]
  },
  {
   "cell_type": "code",
   "execution_count": 229,
   "id": "46096632",
   "metadata": {},
   "outputs": [
    {
     "name": "stdout",
     "output_type": "stream",
     "text": [
      "Test: 0\n",
      "Train: [1, 2, 3, 4, 5, 6, 7, 8, 9]\n",
      "Test: 1\n",
      "Train: [0, 2, 3, 4, 5, 6, 7, 8, 9]\n",
      "Test: 2\n",
      "Train: [0, 1, 3, 4, 5, 6, 7, 8, 9]\n",
      "Test: 3\n",
      "Train: [0, 1, 2, 4, 5, 6, 7, 8, 9]\n",
      "Test: 4\n",
      "Train: [0, 1, 2, 3, 5, 6, 7, 8, 9]\n",
      "Test: 5\n",
      "Train: [0, 1, 2, 3, 4, 6, 7, 8, 9]\n",
      "Test: 6\n",
      "Train: [0, 1, 2, 3, 4, 5, 7, 8, 9]\n",
      "Test: 7\n",
      "Train: [0, 1, 2, 3, 4, 5, 6, 8, 9]\n",
      "Test: 8\n",
      "Train: [0, 1, 2, 3, 4, 5, 6, 7, 9]\n",
      "Test: 9\n",
      "Train: [0, 1, 2, 3, 4, 5, 6, 7, 8]\n"
     ]
    }
   ],
   "source": [
    "for i in range(len(l)):\n",
    "    print(f\"Test: {i}\")\n",
    "    print(f\"Train: {l[:i] + l[i+1:]}\")"
   ]
  },
  {
   "cell_type": "code",
   "execution_count": 235,
   "id": "9d7711e1",
   "metadata": {},
   "outputs": [
    {
     "data": {
      "text/html": [
       "<div>\n",
       "<style scoped>\n",
       "    .dataframe tbody tr th:only-of-type {\n",
       "        vertical-align: middle;\n",
       "    }\n",
       "\n",
       "    .dataframe tbody tr th {\n",
       "        vertical-align: top;\n",
       "    }\n",
       "\n",
       "    .dataframe thead th {\n",
       "        text-align: right;\n",
       "    }\n",
       "</style>\n",
       "<table border=\"1\" class=\"dataframe\">\n",
       "  <thead>\n",
       "    <tr style=\"text-align: right;\">\n",
       "      <th></th>\n",
       "      <th>Survived</th>\n",
       "      <th>Pclass</th>\n",
       "      <th>Sex</th>\n",
       "      <th>Age</th>\n",
       "      <th>Fare</th>\n",
       "      <th>Cabin</th>\n",
       "    </tr>\n",
       "  </thead>\n",
       "  <tbody>\n",
       "    <tr>\n",
       "      <th>442</th>\n",
       "      <td>0</td>\n",
       "      <td>2</td>\n",
       "      <td>0</td>\n",
       "      <td>1</td>\n",
       "      <td>0</td>\n",
       "      <td>1</td>\n",
       "    </tr>\n",
       "    <tr>\n",
       "      <th>374</th>\n",
       "      <td>0</td>\n",
       "      <td>2</td>\n",
       "      <td>1</td>\n",
       "      <td>0</td>\n",
       "      <td>0</td>\n",
       "      <td>1</td>\n",
       "    </tr>\n",
       "    <tr>\n",
       "      <th>1296</th>\n",
       "      <td>1</td>\n",
       "      <td>2</td>\n",
       "      <td>1</td>\n",
       "      <td>1</td>\n",
       "      <td>0</td>\n",
       "      <td>1</td>\n",
       "    </tr>\n",
       "    <tr>\n",
       "      <th>348</th>\n",
       "      <td>1</td>\n",
       "      <td>2</td>\n",
       "      <td>0</td>\n",
       "      <td>0</td>\n",
       "      <td>0</td>\n",
       "      <td>1</td>\n",
       "    </tr>\n",
       "    <tr>\n",
       "      <th>1191</th>\n",
       "      <td>0</td>\n",
       "      <td>2</td>\n",
       "      <td>0</td>\n",
       "      <td>1</td>\n",
       "      <td>0</td>\n",
       "      <td>1</td>\n",
       "    </tr>\n",
       "    <tr>\n",
       "      <th>...</th>\n",
       "      <td>...</td>\n",
       "      <td>...</td>\n",
       "      <td>...</td>\n",
       "      <td>...</td>\n",
       "      <td>...</td>\n",
       "      <td>...</td>\n",
       "    </tr>\n",
       "    <tr>\n",
       "      <th>404</th>\n",
       "      <td>0</td>\n",
       "      <td>2</td>\n",
       "      <td>1</td>\n",
       "      <td>1</td>\n",
       "      <td>0</td>\n",
       "      <td>1</td>\n",
       "    </tr>\n",
       "    <tr>\n",
       "      <th>455</th>\n",
       "      <td>1</td>\n",
       "      <td>2</td>\n",
       "      <td>0</td>\n",
       "      <td>1</td>\n",
       "      <td>0</td>\n",
       "      <td>1</td>\n",
       "    </tr>\n",
       "    <tr>\n",
       "      <th>422</th>\n",
       "      <td>0</td>\n",
       "      <td>2</td>\n",
       "      <td>0</td>\n",
       "      <td>1</td>\n",
       "      <td>0</td>\n",
       "      <td>1</td>\n",
       "    </tr>\n",
       "    <tr>\n",
       "      <th>97</th>\n",
       "      <td>1</td>\n",
       "      <td>0</td>\n",
       "      <td>0</td>\n",
       "      <td>1</td>\n",
       "      <td>2</td>\n",
       "      <td>1</td>\n",
       "    </tr>\n",
       "    <tr>\n",
       "      <th>112</th>\n",
       "      <td>0</td>\n",
       "      <td>2</td>\n",
       "      <td>0</td>\n",
       "      <td>1</td>\n",
       "      <td>0</td>\n",
       "      <td>1</td>\n",
       "    </tr>\n",
       "  </tbody>\n",
       "</table>\n",
       "<p>392 rows × 6 columns</p>\n",
       "</div>"
      ],
      "text/plain": [
       "      Survived  Pclass Sex  Age  Fare Cabin\n",
       "442          0       2   0    1     0     1\n",
       "374          0       2   1    0     0     1\n",
       "1296         1       2   1    1     0     1\n",
       "348          1       2   0    0     0     1\n",
       "1191         0       2   0    1     0     1\n",
       "...        ...     ...  ..  ...   ...   ...\n",
       "404          0       2   1    1     0     1\n",
       "455          1       2   0    1     0     1\n",
       "422          0       2   0    1     0     1\n",
       "97           1       0   0    1     2     1\n",
       "112          0       2   0    1     0     1\n",
       "\n",
       "[392 rows x 6 columns]"
      ]
     },
     "execution_count": 235,
     "metadata": {},
     "output_type": "execute_result"
    }
   ],
   "source": [
    "pd.concat(partitions[:3])"
   ]
  },
  {
   "cell_type": "code",
   "execution_count": null,
   "id": "10a8cecd",
   "metadata": {},
   "outputs": [],
   "source": []
  }
 ],
 "metadata": {
  "kernelspec": {
   "display_name": "Python 3",
   "language": "python",
   "name": "python3"
  },
  "language_info": {
   "codemirror_mode": {
    "name": "ipython",
    "version": 3
   },
   "file_extension": ".py",
   "mimetype": "text/x-python",
   "name": "python",
   "nbconvert_exporter": "python",
   "pygments_lexer": "ipython3",
   "version": "3.8.5"
  }
 },
 "nbformat": 4,
 "nbformat_minor": 5
}
