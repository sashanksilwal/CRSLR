{
 "cells": [
  {
   "cell_type": "markdown",
   "id": "33ae07fc",
   "metadata": {},
   "source": [
    "### Goal: change variables encoding to see if accuracy can be improved\n",
    "- Different clustering of <code>Fare</code>\n",
    "- Try dropping <code>Cabin</code>?\n",
    "- One-hot encoding <code>Sex</code> into 2 columns"
   ]
  },
  {
   "cell_type": "code",
   "execution_count": 1,
   "id": "72774beb",
   "metadata": {},
   "outputs": [],
   "source": [
    "import pandas as pd\n",
    "import numpy as np\n",
    "import matplotlib.pyplot as plt"
   ]
  },
  {
   "cell_type": "code",
   "execution_count": 2,
   "id": "12e69b85",
   "metadata": {
    "scrolled": true
   },
   "outputs": [
    {
     "data": {
      "text/html": [
       "<div>\n",
       "<style scoped>\n",
       "    .dataframe tbody tr th:only-of-type {\n",
       "        vertical-align: middle;\n",
       "    }\n",
       "\n",
       "    .dataframe tbody tr th {\n",
       "        vertical-align: top;\n",
       "    }\n",
       "\n",
       "    .dataframe thead th {\n",
       "        text-align: right;\n",
       "    }\n",
       "</style>\n",
       "<table border=\"1\" class=\"dataframe\">\n",
       "  <thead>\n",
       "    <tr style=\"text-align: right;\">\n",
       "      <th></th>\n",
       "      <th>PassengerId</th>\n",
       "      <th>Survived</th>\n",
       "      <th>Pclass</th>\n",
       "      <th>Name</th>\n",
       "      <th>Sex</th>\n",
       "      <th>Age</th>\n",
       "      <th>SibSp</th>\n",
       "      <th>Parch</th>\n",
       "      <th>Ticket</th>\n",
       "      <th>Fare</th>\n",
       "      <th>Cabin</th>\n",
       "      <th>Embarked</th>\n",
       "    </tr>\n",
       "  </thead>\n",
       "  <tbody>\n",
       "    <tr>\n",
       "      <th>0</th>\n",
       "      <td>1</td>\n",
       "      <td>0</td>\n",
       "      <td>3</td>\n",
       "      <td>Braund, Mr. Owen Harris</td>\n",
       "      <td>male</td>\n",
       "      <td>22.0</td>\n",
       "      <td>1</td>\n",
       "      <td>0</td>\n",
       "      <td>A/5 21171</td>\n",
       "      <td>7.2500</td>\n",
       "      <td>NaN</td>\n",
       "      <td>S</td>\n",
       "    </tr>\n",
       "    <tr>\n",
       "      <th>1</th>\n",
       "      <td>2</td>\n",
       "      <td>1</td>\n",
       "      <td>1</td>\n",
       "      <td>Cumings, Mrs. John Bradley (Florence Briggs Th...</td>\n",
       "      <td>female</td>\n",
       "      <td>38.0</td>\n",
       "      <td>1</td>\n",
       "      <td>0</td>\n",
       "      <td>PC 17599</td>\n",
       "      <td>71.2833</td>\n",
       "      <td>C85</td>\n",
       "      <td>C</td>\n",
       "    </tr>\n",
       "    <tr>\n",
       "      <th>2</th>\n",
       "      <td>3</td>\n",
       "      <td>1</td>\n",
       "      <td>3</td>\n",
       "      <td>Heikkinen, Miss. Laina</td>\n",
       "      <td>female</td>\n",
       "      <td>26.0</td>\n",
       "      <td>0</td>\n",
       "      <td>0</td>\n",
       "      <td>STON/O2. 3101282</td>\n",
       "      <td>7.9250</td>\n",
       "      <td>NaN</td>\n",
       "      <td>S</td>\n",
       "    </tr>\n",
       "    <tr>\n",
       "      <th>3</th>\n",
       "      <td>4</td>\n",
       "      <td>1</td>\n",
       "      <td>1</td>\n",
       "      <td>Futrelle, Mrs. Jacques Heath (Lily May Peel)</td>\n",
       "      <td>female</td>\n",
       "      <td>35.0</td>\n",
       "      <td>1</td>\n",
       "      <td>0</td>\n",
       "      <td>113803</td>\n",
       "      <td>53.1000</td>\n",
       "      <td>C123</td>\n",
       "      <td>S</td>\n",
       "    </tr>\n",
       "    <tr>\n",
       "      <th>4</th>\n",
       "      <td>5</td>\n",
       "      <td>0</td>\n",
       "      <td>3</td>\n",
       "      <td>Allen, Mr. William Henry</td>\n",
       "      <td>male</td>\n",
       "      <td>35.0</td>\n",
       "      <td>0</td>\n",
       "      <td>0</td>\n",
       "      <td>373450</td>\n",
       "      <td>8.0500</td>\n",
       "      <td>NaN</td>\n",
       "      <td>S</td>\n",
       "    </tr>\n",
       "  </tbody>\n",
       "</table>\n",
       "</div>"
      ],
      "text/plain": [
       "   PassengerId  Survived  Pclass  \\\n",
       "0            1         0       3   \n",
       "1            2         1       1   \n",
       "2            3         1       3   \n",
       "3            4         1       1   \n",
       "4            5         0       3   \n",
       "\n",
       "                                                Name     Sex   Age  SibSp  \\\n",
       "0                            Braund, Mr. Owen Harris    male  22.0      1   \n",
       "1  Cumings, Mrs. John Bradley (Florence Briggs Th...  female  38.0      1   \n",
       "2                             Heikkinen, Miss. Laina  female  26.0      0   \n",
       "3       Futrelle, Mrs. Jacques Heath (Lily May Peel)  female  35.0      1   \n",
       "4                           Allen, Mr. William Henry    male  35.0      0   \n",
       "\n",
       "   Parch            Ticket     Fare Cabin Embarked  \n",
       "0      0         A/5 21171   7.2500   NaN        S  \n",
       "1      0          PC 17599  71.2833   C85        C  \n",
       "2      0  STON/O2. 3101282   7.9250   NaN        S  \n",
       "3      0            113803  53.1000  C123        S  \n",
       "4      0            373450   8.0500   NaN        S  "
      ]
     },
     "execution_count": 2,
     "metadata": {},
     "output_type": "execute_result"
    }
   ],
   "source": [
    "data = pd.read_csv('clean_data.csv', index_col='Unnamed: 0')\n",
    "data.head()"
   ]
  },
  {
   "cell_type": "markdown",
   "id": "a950c156",
   "metadata": {},
   "source": [
    "### Tuning <code>Fare</code> (conclusion: no improvement 🥲)"
   ]
  },
  {
   "cell_type": "code",
   "execution_count": 3,
   "id": "1d85fdae",
   "metadata": {},
   "outputs": [
    {
     "data": {
      "image/png": "[encoded data removed]",
      "text/plain": [
       "<Figure size 720x432 with 1 Axes>"
      ]
     },
     "metadata": {
      "needs_background": "light"
     },
     "output_type": "display_data"
    }
   ],
   "source": [
    "fig = plt.figure(figsize=(10, 6))\n",
    "plt.hist(data.Fare.values, bins=50)\n",
    "plt.grid(True)\n",
    "plt.show()"
   ]
  },
  {
   "cell_type": "code",
   "execution_count": 4,
   "id": "f5ef3ecf",
   "metadata": {},
   "outputs": [],
   "source": [
    "from sklearn.model_selection import ParameterGrid\n",
    "from sklearn.cluster import KMeans\n",
    "from sklearn.metrics import silhouette_score"
   ]
  },
  {
   "cell_type": "code",
   "execution_count": 5,
   "id": "731126e6",
   "metadata": {},
   "outputs": [
    {
     "name": "stdout",
     "output_type": "stream",
     "text": [
      "Parameter: {'n_clusters': 3}, Score: 0.7690165991511371\n",
      "Parameter: {'n_clusters': 4}, Score: 0.7652973885346566\n",
      "Parameter: {'n_clusters': 5}, Score: 0.7595185403828791\n",
      "Parameter: {'n_clusters': 6}, Score: 0.7160151664623494\n",
      "Parameter: {'n_clusters': 7}, Score: 0.7194898799342638\n",
      "Parameter: {'n_clusters': 8}, Score: 0.7219618241418816\n",
      "Parameter: {'n_clusters': 9}, Score: 0.7262827364285757\n",
      "Parameter: {'n_clusters': 10}, Score: 0.6829663367892026\n",
      "Parameter: {'n_clusters': 11}, Score: 0.6861036543662523\n",
      "Parameter: {'n_clusters': 12}, Score: 0.6837836901216036\n",
      "Parameter: {'n_clusters': 13}, Score: 0.6819291473635908\n",
      "Parameter: {'n_clusters': 14}, Score: 0.6773923999275064\n",
      "Parameter: {'n_clusters': 15}, Score: 0.6860879776644537\n"
     ]
    }
   ],
   "source": [
    "fare = data.Fare.values.reshape(-1, 1)\n",
    "params = range(3, 16)\n",
    "param_grid = ParameterGrid({'n_clusters': params})\n",
    "best_score = -1\n",
    "kmeans_model = KMeans()\n",
    "silhouette_scores = []\n",
    "for p in param_grid:\n",
    "    kmeans_model.set_params(**p)\n",
    "    kmeans_model.fit(fare)\n",
    "    ss = silhouette_score(fare, kmeans_model.labels_)\n",
    "    silhouette_scores += [ss]\n",
    "    print('Parameter: {}, Score: {}'.format(p, ss))\n",
    "    if ss > best_score:\n",
    "        best_score = ss\n",
    "        best_grid = p"
   ]
  },
  {
   "cell_type": "code",
   "execution_count": 6,
   "id": "1e0156bd",
   "metadata": {},
   "outputs": [
    {
     "data": {
      "image/png": "[encoded data removed]",
      "text/plain": [
       "<Figure size 720x480 with 1 Axes>"
      ]
     },
     "metadata": {
      "needs_background": "light"
     },
     "output_type": "display_data"
    }
   ],
   "source": [
    "plt.figure(figsize=(12, 8), dpi=60)\n",
    "plt.bar(range(len(silhouette_scores)), list(silhouette_scores), align='center', color='g', width=0.5, alpha=0.8)\n",
    "plt.xticks(range(len(silhouette_scores)), list(params))\n",
    "plt.xlabel('Number of clusters')\n",
    "plt.show()"
   ]
  },
  {
   "cell_type": "markdown",
   "id": "d938a3d7",
   "metadata": {},
   "source": [
    "So there's no better clustering than 3 clusters."
   ]
  },
  {
   "cell_type": "markdown",
   "id": "0d9a9640",
   "metadata": {},
   "source": [
    "### Tuning <code>Sex</code> (conclusion: I was originally using 0 & 1 so one-hot encoding is exactly the same thing, I forgot 😓)"
   ]
  },
  {
   "cell_type": "code",
   "execution_count": 23,
   "id": "0b2bb639",
   "metadata": {},
   "outputs": [
    {
     "data": {
      "text/html": [
       "<div>\n",
       "<style scoped>\n",
       "    .dataframe tbody tr th:only-of-type {\n",
       "        vertical-align: middle;\n",
       "    }\n",
       "\n",
       "    .dataframe tbody tr th {\n",
       "        vertical-align: top;\n",
       "    }\n",
       "\n",
       "    .dataframe thead th {\n",
       "        text-align: right;\n",
       "    }\n",
       "</style>\n",
       "<table border=\"1\" class=\"dataframe\">\n",
       "  <thead>\n",
       "    <tr style=\"text-align: right;\">\n",
       "      <th></th>\n",
       "      <th>Survived</th>\n",
       "      <th>Pclass</th>\n",
       "      <th>Sex</th>\n",
       "      <th>Age</th>\n",
       "      <th>Fare</th>\n",
       "      <th>Cabin</th>\n",
       "    </tr>\n",
       "  </thead>\n",
       "  <tbody>\n",
       "    <tr>\n",
       "      <th>0</th>\n",
       "      <td>0</td>\n",
       "      <td>2</td>\n",
       "      <td>0</td>\n",
       "      <td>1</td>\n",
       "      <td>1</td>\n",
       "      <td>1</td>\n",
       "    </tr>\n",
       "    <tr>\n",
       "      <th>1</th>\n",
       "      <td>1</td>\n",
       "      <td>0</td>\n",
       "      <td>1</td>\n",
       "      <td>1</td>\n",
       "      <td>2</td>\n",
       "      <td>1</td>\n",
       "    </tr>\n",
       "    <tr>\n",
       "      <th>2</th>\n",
       "      <td>1</td>\n",
       "      <td>2</td>\n",
       "      <td>1</td>\n",
       "      <td>1</td>\n",
       "      <td>1</td>\n",
       "      <td>1</td>\n",
       "    </tr>\n",
       "    <tr>\n",
       "      <th>3</th>\n",
       "      <td>1</td>\n",
       "      <td>0</td>\n",
       "      <td>1</td>\n",
       "      <td>1</td>\n",
       "      <td>2</td>\n",
       "      <td>1</td>\n",
       "    </tr>\n",
       "    <tr>\n",
       "      <th>4</th>\n",
       "      <td>0</td>\n",
       "      <td>2</td>\n",
       "      <td>0</td>\n",
       "      <td>1</td>\n",
       "      <td>1</td>\n",
       "      <td>1</td>\n",
       "    </tr>\n",
       "  </tbody>\n",
       "</table>\n",
       "</div>"
      ],
      "text/plain": [
       "   Survived  Pclass  Sex  Age  Fare  Cabin\n",
       "0         0       2    0    1     1      1\n",
       "1         1       0    1    1     2      1\n",
       "2         1       2    1    1     1      1\n",
       "3         1       0    1    1     2      1\n",
       "4         0       2    0    1     1      1"
      ]
     },
     "execution_count": 23,
     "metadata": {},
     "output_type": "execute_result"
    }
   ],
   "source": [
    "df = pd.read_csv('final.csv', index_col='Unnamed: 0')\n",
    "df.head()"
   ]
  },
  {
   "cell_type": "code",
   "execution_count": 24,
   "id": "f483a2ef",
   "metadata": {},
   "outputs": [],
   "source": [
    "# Current encoding: 0 - male, 1 - female\n",
    "df.loc[df.Sex == 0, 'Sex_m'] = 1\n",
    "df.loc[df.Sex == 1, 'Sex_m'] = 0\n",
    "df.loc[df.Sex == 0, 'Sex_f'] = 0\n",
    "df.loc[df.Sex == 1, 'Sex_f'] = 1\n",
    "\n",
    "df.Sex_m = df.Sex_m.astype(int)\n",
    "df.Sex_f = df.Sex_f.astype(int)"
   ]
  },
  {
   "cell_type": "code",
   "execution_count": 25,
   "id": "3aa5c51a",
   "metadata": {},
   "outputs": [
    {
     "data": {
      "text/html": [
       "<div>\n",
       "<style scoped>\n",
       "    .dataframe tbody tr th:only-of-type {\n",
       "        vertical-align: middle;\n",
       "    }\n",
       "\n",
       "    .dataframe tbody tr th {\n",
       "        vertical-align: top;\n",
       "    }\n",
       "\n",
       "    .dataframe thead th {\n",
       "        text-align: right;\n",
       "    }\n",
       "</style>\n",
       "<table border=\"1\" class=\"dataframe\">\n",
       "  <thead>\n",
       "    <tr style=\"text-align: right;\">\n",
       "      <th></th>\n",
       "      <th>Survived</th>\n",
       "      <th>Pclass</th>\n",
       "      <th>Sex</th>\n",
       "      <th>Age</th>\n",
       "      <th>Fare</th>\n",
       "      <th>Cabin</th>\n",
       "      <th>Sex_m</th>\n",
       "      <th>Sex_f</th>\n",
       "    </tr>\n",
       "  </thead>\n",
       "  <tbody>\n",
       "    <tr>\n",
       "      <th>0</th>\n",
       "      <td>0</td>\n",
       "      <td>2</td>\n",
       "      <td>0</td>\n",
       "      <td>1</td>\n",
       "      <td>1</td>\n",
       "      <td>1</td>\n",
       "      <td>1</td>\n",
       "      <td>0</td>\n",
       "    </tr>\n",
       "    <tr>\n",
       "      <th>1</th>\n",
       "      <td>1</td>\n",
       "      <td>0</td>\n",
       "      <td>1</td>\n",
       "      <td>1</td>\n",
       "      <td>2</td>\n",
       "      <td>1</td>\n",
       "      <td>0</td>\n",
       "      <td>1</td>\n",
       "    </tr>\n",
       "    <tr>\n",
       "      <th>2</th>\n",
       "      <td>1</td>\n",
       "      <td>2</td>\n",
       "      <td>1</td>\n",
       "      <td>1</td>\n",
       "      <td>1</td>\n",
       "      <td>1</td>\n",
       "      <td>0</td>\n",
       "      <td>1</td>\n",
       "    </tr>\n",
       "    <tr>\n",
       "      <th>3</th>\n",
       "      <td>1</td>\n",
       "      <td>0</td>\n",
       "      <td>1</td>\n",
       "      <td>1</td>\n",
       "      <td>2</td>\n",
       "      <td>1</td>\n",
       "      <td>0</td>\n",
       "      <td>1</td>\n",
       "    </tr>\n",
       "    <tr>\n",
       "      <th>4</th>\n",
       "      <td>0</td>\n",
       "      <td>2</td>\n",
       "      <td>0</td>\n",
       "      <td>1</td>\n",
       "      <td>1</td>\n",
       "      <td>1</td>\n",
       "      <td>1</td>\n",
       "      <td>0</td>\n",
       "    </tr>\n",
       "    <tr>\n",
       "      <th>...</th>\n",
       "      <td>...</td>\n",
       "      <td>...</td>\n",
       "      <td>...</td>\n",
       "      <td>...</td>\n",
       "      <td>...</td>\n",
       "      <td>...</td>\n",
       "      <td>...</td>\n",
       "      <td>...</td>\n",
       "    </tr>\n",
       "    <tr>\n",
       "      <th>1301</th>\n",
       "      <td>0</td>\n",
       "      <td>2</td>\n",
       "      <td>0</td>\n",
       "      <td>1</td>\n",
       "      <td>1</td>\n",
       "      <td>1</td>\n",
       "      <td>1</td>\n",
       "      <td>0</td>\n",
       "    </tr>\n",
       "    <tr>\n",
       "      <th>1302</th>\n",
       "      <td>1</td>\n",
       "      <td>0</td>\n",
       "      <td>1</td>\n",
       "      <td>1</td>\n",
       "      <td>2</td>\n",
       "      <td>1</td>\n",
       "      <td>0</td>\n",
       "      <td>1</td>\n",
       "    </tr>\n",
       "    <tr>\n",
       "      <th>1303</th>\n",
       "      <td>0</td>\n",
       "      <td>2</td>\n",
       "      <td>0</td>\n",
       "      <td>1</td>\n",
       "      <td>1</td>\n",
       "      <td>1</td>\n",
       "      <td>1</td>\n",
       "      <td>0</td>\n",
       "    </tr>\n",
       "    <tr>\n",
       "      <th>1304</th>\n",
       "      <td>0</td>\n",
       "      <td>2</td>\n",
       "      <td>0</td>\n",
       "      <td>1</td>\n",
       "      <td>1</td>\n",
       "      <td>1</td>\n",
       "      <td>1</td>\n",
       "      <td>0</td>\n",
       "    </tr>\n",
       "    <tr>\n",
       "      <th>1305</th>\n",
       "      <td>0</td>\n",
       "      <td>2</td>\n",
       "      <td>0</td>\n",
       "      <td>0</td>\n",
       "      <td>1</td>\n",
       "      <td>1</td>\n",
       "      <td>1</td>\n",
       "      <td>0</td>\n",
       "    </tr>\n",
       "  </tbody>\n",
       "</table>\n",
       "<p>1306 rows × 8 columns</p>\n",
       "</div>"
      ],
      "text/plain": [
       "      Survived  Pclass  Sex  Age  Fare  Cabin  Sex_m  Sex_f\n",
       "0            0       2    0    1     1      1      1      0\n",
       "1            1       0    1    1     2      1      0      1\n",
       "2            1       2    1    1     1      1      0      1\n",
       "3            1       0    1    1     2      1      0      1\n",
       "4            0       2    0    1     1      1      1      0\n",
       "...        ...     ...  ...  ...   ...    ...    ...    ...\n",
       "1301         0       2    0    1     1      1      1      0\n",
       "1302         1       0    1    1     2      1      0      1\n",
       "1303         0       2    0    1     1      1      1      0\n",
       "1304         0       2    0    1     1      1      1      0\n",
       "1305         0       2    0    0     1      1      1      0\n",
       "\n",
       "[1306 rows x 8 columns]"
      ]
     },
     "execution_count": 25,
     "metadata": {},
     "output_type": "execute_result"
    }
   ],
   "source": [
    "df"
   ]
  },
  {
   "cell_type": "markdown",
   "id": "cce6707a",
   "metadata": {},
   "source": [
    "### Model evaluation: dropping <code>Cabin</code>"
   ]
  },
  {
   "cell_type": "code",
   "execution_count": 26,
   "id": "1d220f1c",
   "metadata": {},
   "outputs": [],
   "source": [
    "to_drop = ['Sex', 'Cabin']\n",
    "df_nocabin = df.drop(columns=to_drop, axis=1)"
   ]
  },
  {
   "cell_type": "code",
   "execution_count": 27,
   "id": "04ef71d7",
   "metadata": {},
   "outputs": [],
   "source": [
    "from pgmpy.models import BayesianModel\n",
    "from pgmpy.estimators import BayesianEstimator\n",
    "import networkx as nx\n",
    "from sklearn.metrics import accuracy_score\n",
    "import cv"
   ]
  },
  {
   "cell_type": "code",
   "execution_count": 28,
   "id": "a366c9e9",
   "metadata": {},
   "outputs": [
    {
     "name": "stderr",
     "output_type": "stream",
     "text": [
      "Finding Elimination Order: : 100%|██████████| 4/4 [01:24<00:00, 21.09s/it]\n",
      "Finding Elimination Order: : 100%|██████████| 4/4 [01:15<00:00, 18.88s/it]\n",
      "Finding Elimination Order: : 100%|██████████| 4/4 [01:08<00:00, 17.24s/it]\n",
      "Finding Elimination Order: : 100%|██████████| 4/4 [01:05<00:00, 16.37s/it]\n"
     ]
    },
    {
     "data": {
      "image/png": "[encoded data removed]",
      "text/plain": [
       "<Figure size 432x288 with 1 Axes>"
      ]
     },
     "metadata": {},
     "output_type": "display_data"
    }
   ],
   "source": [
    "model = BayesianModel([('Fare', 'Pclass'),\n",
    "                       ('Pclass', 'Survived'),\n",
    "                       ('Age', 'Survived'),\n",
    "                       ('Sex_f', 'Survived'),\n",
    "                       ('Sex_m', 'Survived')])\n",
    "nx.draw(model, with_labels=True)"
   ]
  },
  {
   "cell_type": "code",
   "execution_count": 29,
   "id": "25ee427b",
   "metadata": {
    "scrolled": true
   },
   "outputs": [
    {
     "name": "stderr",
     "output_type": "stream",
     "text": [
      "100%|██████████| 19/19 [00:00<00:00, 665.89it/s]\n",
      "WARNING:root:Replacing existing CPD for Fare\n",
      "WARNING:root:Replacing existing CPD for Pclass\n",
      "WARNING:root:Replacing existing CPD for Survived\n",
      "WARNING:root:Replacing existing CPD for Age\n",
      "WARNING:root:Replacing existing CPD for Sex_f\n",
      "WARNING:root:Replacing existing CPD for Sex_m\n",
      "100%|██████████| 18/18 [00:00<00:00, 770.26it/s]\n",
      "WARNING:root:Replacing existing CPD for Fare\n",
      "WARNING:root:Replacing existing CPD for Pclass\n",
      "WARNING:root:Replacing existing CPD for Survived\n",
      "WARNING:root:Replacing existing CPD for Age\n",
      "WARNING:root:Replacing existing CPD for Sex_f\n",
      "WARNING:root:Replacing existing CPD for Sex_m\n",
      "100%|██████████| 19/19 [00:00<00:00, 547.62it/s]\n",
      "WARNING:root:Replacing existing CPD for Fare\n",
      "WARNING:root:Replacing existing CPD for Pclass\n",
      "WARNING:root:Replacing existing CPD for Survived\n",
      "WARNING:root:Replacing existing CPD for Age\n",
      "WARNING:root:Replacing existing CPD for Sex_f\n",
      "WARNING:root:Replacing existing CPD for Sex_m\n",
      "100%|██████████| 22/22 [00:00<00:00, 702.22it/s]\n",
      "WARNING:root:Replacing existing CPD for Fare\n",
      "WARNING:root:Replacing existing CPD for Pclass\n",
      "WARNING:root:Replacing existing CPD for Survived\n",
      "WARNING:root:Replacing existing CPD for Age\n",
      "WARNING:root:Replacing existing CPD for Sex_f\n",
      "WARNING:root:Replacing existing CPD for Sex_m\n",
      "100%|██████████| 23/23 [00:00<00:00, 826.47it/s]\n",
      "WARNING:root:Replacing existing CPD for Fare\n",
      "WARNING:root:Replacing existing CPD for Pclass\n",
      "WARNING:root:Replacing existing CPD for Survived\n",
      "WARNING:root:Replacing existing CPD for Age\n",
      "WARNING:root:Replacing existing CPD for Sex_f\n",
      "WARNING:root:Replacing existing CPD for Sex_m\n",
      "100%|██████████| 20/20 [00:00<00:00, 515.77it/s]\n",
      "WARNING:root:Replacing existing CPD for Fare\n",
      "WARNING:root:Replacing existing CPD for Pclass\n",
      "WARNING:root:Replacing existing CPD for Survived\n",
      "WARNING:root:Replacing existing CPD for Age\n",
      "WARNING:root:Replacing existing CPD for Sex_f\n",
      "WARNING:root:Replacing existing CPD for Sex_m\n",
      "100%|██████████| 20/20 [00:00<00:00, 629.33it/s]\n",
      "WARNING:root:Replacing existing CPD for Fare\n",
      "WARNING:root:Replacing existing CPD for Pclass\n",
      "WARNING:root:Replacing existing CPD for Survived\n",
      "WARNING:root:Replacing existing CPD for Age\n",
      "WARNING:root:Replacing existing CPD for Sex_f\n",
      "WARNING:root:Replacing existing CPD for Sex_m\n",
      "100%|██████████| 19/19 [00:00<00:00, 570.64it/s]\n",
      "WARNING:root:Replacing existing CPD for Fare\n",
      "WARNING:root:Replacing existing CPD for Pclass\n",
      "WARNING:root:Replacing existing CPD for Survived\n",
      "WARNING:root:Replacing existing CPD for Age\n",
      "WARNING:root:Replacing existing CPD for Sex_f\n",
      "WARNING:root:Replacing existing CPD for Sex_m\n",
      "100%|██████████| 19/19 [00:00<00:00, 596.41it/s]\n",
      "WARNING:root:Replacing existing CPD for Fare\n",
      "WARNING:root:Replacing existing CPD for Pclass\n",
      "WARNING:root:Replacing existing CPD for Survived\n",
      "WARNING:root:Replacing existing CPD for Age\n",
      "WARNING:root:Replacing existing CPD for Sex_f\n",
      "WARNING:root:Replacing existing CPD for Sex_m\n",
      "100%|██████████| 23/23 [00:00<00:00, 741.22it/s]\n"
     ]
    }
   ],
   "source": [
    "scores = cv.cross_val(model, df_nocabin, 10, target=\"Survived\")"
   ]
  },
  {
   "cell_type": "code",
   "execution_count": 30,
   "id": "55b97bc3",
   "metadata": {},
   "outputs": [
    {
     "name": "stdout",
     "output_type": "stream",
     "text": [
      "Mean score: 0.8468115091015853\n"
     ]
    },
    {
     "data": {
      "text/plain": [
       "[0.9007633587786259,\n",
       " 0.8244274809160306,\n",
       " 0.8769230769230769,\n",
       " 0.8473282442748091,\n",
       " 0.8076923076923077,\n",
       " 0.8549618320610687,\n",
       " 0.8,\n",
       " 0.8549618320610687,\n",
       " 0.8384615384615385,\n",
       " 0.8625954198473282]"
      ]
     },
     "execution_count": 30,
     "metadata": {},
     "output_type": "execute_result"
    }
   ],
   "source": [
    "print('Mean score:', np.mean(scores))\n",
    "scores"
   ]
  },
  {
   "cell_type": "code",
   "execution_count": 31,
   "id": "2df8ec51",
   "metadata": {},
   "outputs": [],
   "source": [
    "from pgmpy.inference import VariableElimination\n",
    "model_infer = VariableElimination(model)"
   ]
  },
  {
   "cell_type": "code",
   "execution_count": 32,
   "id": "f834901d",
   "metadata": {},
   "outputs": [
    {
     "name": "stderr",
     "output_type": "stream",
     "text": [
      "Finding Elimination Order: :   0%|          | 0/4 [00:00<?, ?it/s]\n",
      "  0%|          | 0/4 [00:00<?, ?it/s]\u001b[A\n",
      "Eliminating: Sex_m:   0%|          | 0/4 [00:00<?, ?it/s]\u001b[A\n",
      "Eliminating: Age:   0%|          | 0/4 [00:00<?, ?it/s]  \u001b[A\n",
      "Eliminating: Pclass:   0%|          | 0/4 [00:00<?, ?it/s]\u001b[A\n",
      "Eliminating: Fare: 100%|██████████| 4/4 [00:00<00:00, 356.73it/s]"
     ]
    },
    {
     "name": "stdout",
     "output_type": "stream",
     "text": [
      "+-------------+-----------------+\n",
      "| Survived    |   phi(Survived) |\n",
      "+=============+=================+\n",
      "| Survived(0) |          0.7258 |\n",
      "+-------------+-----------------+\n",
      "| Survived(1) |          0.2742 |\n",
      "+-------------+-----------------+\n"
     ]
    },
    {
     "name": "stderr",
     "output_type": "stream",
     "text": [
      "\n"
     ]
    }
   ],
   "source": [
    "q = model_infer.query(variables=['Survived'], evidence={'Sex_f': 0})\n",
    "print(q)"
   ]
  },
  {
   "cell_type": "markdown",
   "id": "46c5a217",
   "metadata": {},
   "source": [
    "### Model evaluation: keeping <code>Cabin</code>"
   ]
  },
  {
   "cell_type": "code",
   "execution_count": 33,
   "id": "33cfa5d6",
   "metadata": {},
   "outputs": [],
   "source": [
    "to_drop = ['Sex']\n",
    "df_cabin = df.drop(columns=to_drop, axis=1)"
   ]
  },
  {
   "cell_type": "code",
   "execution_count": 34,
   "id": "9da45baa",
   "metadata": {},
   "outputs": [
    {
     "name": "stderr",
     "output_type": "stream",
     "text": [
      "Finding Elimination Order: : 100%|██████████| 4/4 [00:53<00:00, 13.44s/it]\n"
     ]
    },
    {
     "data": {
      "image/png": "[encoded data removed]",
      "text/plain": [
       "<Figure size 432x288 with 1 Axes>"
      ]
     },
     "metadata": {},
     "output_type": "display_data"
    }
   ],
   "source": [
    "model2 = BayesianModel([('Fare', 'Pclass'),\n",
    "                        ('Pclass', 'Survived'),\n",
    "                        ('Age', 'Survived'),\n",
    "                        ('Sex_f', 'Survived'),\n",
    "                        ('Sex_m', 'Survived'),\n",
    "                        ('Cabin', 'Survived')])\n",
    "nx.draw(model2, with_labels=True)"
   ]
  },
  {
   "cell_type": "code",
   "execution_count": 35,
   "id": "95780633",
   "metadata": {
    "scrolled": true
   },
   "outputs": [
    {
     "name": "stderr",
     "output_type": "stream",
     "text": [
      "100%|██████████| 19/19 [00:00<00:00, 701.72it/s]\n",
      "WARNING:root:Replacing existing CPD for Fare\n",
      "WARNING:root:Replacing existing CPD for Pclass\n",
      "WARNING:root:Replacing existing CPD for Survived\n",
      "WARNING:root:Replacing existing CPD for Age\n",
      "WARNING:root:Replacing existing CPD for Sex_f\n",
      "WARNING:root:Replacing existing CPD for Sex_m\n",
      "WARNING:root:Replacing existing CPD for Cabin\n",
      "100%|██████████| 18/18 [00:00<00:00, 667.26it/s]\n",
      "WARNING:root:Replacing existing CPD for Fare\n",
      "WARNING:root:Replacing existing CPD for Pclass\n",
      "WARNING:root:Replacing existing CPD for Survived\n",
      "WARNING:root:Replacing existing CPD for Age\n",
      "WARNING:root:Replacing existing CPD for Sex_f\n",
      "WARNING:root:Replacing existing CPD for Sex_m\n",
      "WARNING:root:Replacing existing CPD for Cabin\n",
      "100%|██████████| 19/19 [00:00<00:00, 710.87it/s]\n",
      "WARNING:root:Replacing existing CPD for Fare\n",
      "WARNING:root:Replacing existing CPD for Pclass\n",
      "WARNING:root:Replacing existing CPD for Survived\n",
      "WARNING:root:Replacing existing CPD for Age\n",
      "WARNING:root:Replacing existing CPD for Sex_f\n",
      "WARNING:root:Replacing existing CPD for Sex_m\n",
      "WARNING:root:Replacing existing CPD for Cabin\n",
      "100%|██████████| 22/22 [00:00<00:00, 549.30it/s]\n",
      "WARNING:root:Replacing existing CPD for Fare\n",
      "WARNING:root:Replacing existing CPD for Pclass\n",
      "WARNING:root:Replacing existing CPD for Survived\n",
      "WARNING:root:Replacing existing CPD for Age\n",
      "WARNING:root:Replacing existing CPD for Sex_f\n",
      "WARNING:root:Replacing existing CPD for Sex_m\n",
      "WARNING:root:Replacing existing CPD for Cabin\n",
      "100%|██████████| 23/23 [00:00<00:00, 967.27it/s]\n",
      "WARNING:root:Replacing existing CPD for Fare\n",
      "WARNING:root:Replacing existing CPD for Pclass\n",
      "WARNING:root:Replacing existing CPD for Survived\n",
      "WARNING:root:Replacing existing CPD for Age\n",
      "WARNING:root:Replacing existing CPD for Sex_f\n",
      "WARNING:root:Replacing existing CPD for Sex_m\n",
      "WARNING:root:Replacing existing CPD for Cabin\n",
      "100%|██████████| 20/20 [00:00<00:00, 490.22it/s]\n",
      "WARNING:root:Replacing existing CPD for Fare\n",
      "WARNING:root:Replacing existing CPD for Pclass\n",
      "WARNING:root:Replacing existing CPD for Survived\n",
      "WARNING:root:Replacing existing CPD for Age\n",
      "WARNING:root:Replacing existing CPD for Sex_f\n",
      "WARNING:root:Replacing existing CPD for Sex_m\n",
      "WARNING:root:Replacing existing CPD for Cabin\n",
      "100%|██████████| 20/20 [00:00<00:00, 1039.88it/s]\n",
      "WARNING:root:Replacing existing CPD for Fare\n",
      "WARNING:root:Replacing existing CPD for Pclass\n",
      "WARNING:root:Replacing existing CPD for Survived\n",
      "WARNING:root:Replacing existing CPD for Age\n",
      "WARNING:root:Replacing existing CPD for Sex_f\n",
      "WARNING:root:Replacing existing CPD for Sex_m\n",
      "WARNING:root:Replacing existing CPD for Cabin\n",
      "100%|██████████| 19/19 [00:00<00:00, 612.77it/s]\n",
      "WARNING:root:Replacing existing CPD for Fare\n",
      "WARNING:root:Replacing existing CPD for Pclass\n",
      "WARNING:root:Replacing existing CPD for Survived\n",
      "WARNING:root:Replacing existing CPD for Age\n",
      "WARNING:root:Replacing existing CPD for Sex_f\n",
      "WARNING:root:Replacing existing CPD for Sex_m\n",
      "WARNING:root:Replacing existing CPD for Cabin\n",
      "100%|██████████| 19/19 [00:00<00:00, 595.16it/s]\n",
      "WARNING:root:Replacing existing CPD for Fare\n",
      "WARNING:root:Replacing existing CPD for Pclass\n",
      "WARNING:root:Replacing existing CPD for Survived\n",
      "WARNING:root:Replacing existing CPD for Age\n",
      "WARNING:root:Replacing existing CPD for Sex_f\n",
      "WARNING:root:Replacing existing CPD for Sex_m\n",
      "WARNING:root:Replacing existing CPD for Cabin\n",
      "100%|██████████| 23/23 [00:00<00:00, 1144.73it/s]\n"
     ]
    }
   ],
   "source": [
    "scores2 = cv.cross_val(model2, df_cabin, 10, target=\"Survived\")"
   ]
  },
  {
   "cell_type": "code",
   "execution_count": 36,
   "id": "f6a96d2b",
   "metadata": {},
   "outputs": [
    {
     "name": "stdout",
     "output_type": "stream",
     "text": [
      "Mean score: 0.8468115091015853\n"
     ]
    },
    {
     "data": {
      "text/plain": [
       "[0.9007633587786259,\n",
       " 0.8244274809160306,\n",
       " 0.8769230769230769,\n",
       " 0.8473282442748091,\n",
       " 0.8076923076923077,\n",
       " 0.8549618320610687,\n",
       " 0.8,\n",
       " 0.8549618320610687,\n",
       " 0.8384615384615385,\n",
       " 0.8625954198473282]"
      ]
     },
     "execution_count": 36,
     "metadata": {},
     "output_type": "execute_result"
    }
   ],
   "source": [
    "print('Mean score:', np.mean(scores2))\n",
    "scores2"
   ]
  },
  {
   "cell_type": "code",
   "execution_count": 37,
   "id": "eda46e00",
   "metadata": {},
   "outputs": [],
   "source": [
    "model_infer2 = VariableElimination(model2)"
   ]
  },
  {
   "cell_type": "code",
   "execution_count": 42,
   "id": "6ece87d2",
   "metadata": {},
   "outputs": [
    {
     "name": "stderr",
     "output_type": "stream",
     "text": [
      "Finding Elimination Order: :   0%|          | 0/5 [00:00<?, ?it/s]\n",
      "  0%|          | 0/5 [00:00<?, ?it/s]\u001b[A\n",
      "Eliminating: Pclass:   0%|          | 0/5 [00:00<?, ?it/s]\u001b[A\n",
      "Eliminating: Cabin:   0%|          | 0/5 [00:00<?, ?it/s] \u001b[A\n",
      "Eliminating: Fare:   0%|          | 0/5 [00:00<?, ?it/s] \u001b[A\n",
      "Eliminating: Sex_f:   0%|          | 0/5 [00:00<?, ?it/s]\u001b[A\n",
      "Eliminating: Sex_m: 100%|██████████| 5/5 [00:00<00:00, 348.35it/s]"
     ]
    },
    {
     "name": "stdout",
     "output_type": "stream",
     "text": [
      "+-------------+-----------------+\n",
      "| Survived    |   phi(Survived) |\n",
      "+=============+=================+\n",
      "| Survived(0) |          0.5452 |\n",
      "+-------------+-----------------+\n",
      "| Survived(1) |          0.4548 |\n",
      "+-------------+-----------------+\n"
     ]
    },
    {
     "name": "stderr",
     "output_type": "stream",
     "text": [
      "\n"
     ]
    }
   ],
   "source": [
    "q2 = model_infer2.query(variables=['Survived'], evidence={'Age': 0})\n",
    "print(q2)"
   ]
  },
  {
   "cell_type": "markdown",
   "id": "746ca5e2",
   "metadata": {},
   "source": [
    "### Tuning <code>Sex</code> with -1 & 1 and evaluating model"
   ]
  },
  {
   "cell_type": "code",
   "execution_count": 44,
   "id": "b53f71b2",
   "metadata": {},
   "outputs": [
    {
     "data": {
      "text/html": [
       "<div>\n",
       "<style scoped>\n",
       "    .dataframe tbody tr th:only-of-type {\n",
       "        vertical-align: middle;\n",
       "    }\n",
       "\n",
       "    .dataframe tbody tr th {\n",
       "        vertical-align: top;\n",
       "    }\n",
       "\n",
       "    .dataframe thead th {\n",
       "        text-align: right;\n",
       "    }\n",
       "</style>\n",
       "<table border=\"1\" class=\"dataframe\">\n",
       "  <thead>\n",
       "    <tr style=\"text-align: right;\">\n",
       "      <th></th>\n",
       "      <th>Survived</th>\n",
       "      <th>Pclass</th>\n",
       "      <th>Sex</th>\n",
       "      <th>Age</th>\n",
       "      <th>Fare</th>\n",
       "      <th>Cabin</th>\n",
       "    </tr>\n",
       "  </thead>\n",
       "  <tbody>\n",
       "    <tr>\n",
       "      <th>0</th>\n",
       "      <td>0</td>\n",
       "      <td>2</td>\n",
       "      <td>0</td>\n",
       "      <td>1</td>\n",
       "      <td>1</td>\n",
       "      <td>1</td>\n",
       "    </tr>\n",
       "    <tr>\n",
       "      <th>1</th>\n",
       "      <td>1</td>\n",
       "      <td>0</td>\n",
       "      <td>1</td>\n",
       "      <td>1</td>\n",
       "      <td>2</td>\n",
       "      <td>1</td>\n",
       "    </tr>\n",
       "    <tr>\n",
       "      <th>2</th>\n",
       "      <td>1</td>\n",
       "      <td>2</td>\n",
       "      <td>1</td>\n",
       "      <td>1</td>\n",
       "      <td>1</td>\n",
       "      <td>1</td>\n",
       "    </tr>\n",
       "    <tr>\n",
       "      <th>3</th>\n",
       "      <td>1</td>\n",
       "      <td>0</td>\n",
       "      <td>1</td>\n",
       "      <td>1</td>\n",
       "      <td>2</td>\n",
       "      <td>1</td>\n",
       "    </tr>\n",
       "    <tr>\n",
       "      <th>4</th>\n",
       "      <td>0</td>\n",
       "      <td>2</td>\n",
       "      <td>0</td>\n",
       "      <td>1</td>\n",
       "      <td>1</td>\n",
       "      <td>1</td>\n",
       "    </tr>\n",
       "  </tbody>\n",
       "</table>\n",
       "</div>"
      ],
      "text/plain": [
       "   Survived  Pclass  Sex  Age  Fare  Cabin\n",
       "0         0       2    0    1     1      1\n",
       "1         1       0    1    1     2      1\n",
       "2         1       2    1    1     1      1\n",
       "3         1       0    1    1     2      1\n",
       "4         0       2    0    1     1      1"
      ]
     },
     "execution_count": 44,
     "metadata": {},
     "output_type": "execute_result"
    }
   ],
   "source": [
    "df_new = pd.read_csv('final.csv', index_col='Unnamed: 0')\n",
    "df_new.head()"
   ]
  },
  {
   "cell_type": "code",
   "execution_count": 47,
   "id": "8b5a3c11",
   "metadata": {},
   "outputs": [
    {
     "data": {
      "text/html": [
       "<div>\n",
       "<style scoped>\n",
       "    .dataframe tbody tr th:only-of-type {\n",
       "        vertical-align: middle;\n",
       "    }\n",
       "\n",
       "    .dataframe tbody tr th {\n",
       "        vertical-align: top;\n",
       "    }\n",
       "\n",
       "    .dataframe thead th {\n",
       "        text-align: right;\n",
       "    }\n",
       "</style>\n",
       "<table border=\"1\" class=\"dataframe\">\n",
       "  <thead>\n",
       "    <tr style=\"text-align: right;\">\n",
       "      <th></th>\n",
       "      <th>Survived</th>\n",
       "      <th>Pclass</th>\n",
       "      <th>Sex</th>\n",
       "      <th>Age</th>\n",
       "      <th>Fare</th>\n",
       "      <th>Cabin</th>\n",
       "    </tr>\n",
       "  </thead>\n",
       "  <tbody>\n",
       "    <tr>\n",
       "      <th>0</th>\n",
       "      <td>0</td>\n",
       "      <td>2</td>\n",
       "      <td>-1</td>\n",
       "      <td>1</td>\n",
       "      <td>1</td>\n",
       "      <td>1</td>\n",
       "    </tr>\n",
       "    <tr>\n",
       "      <th>1</th>\n",
       "      <td>1</td>\n",
       "      <td>0</td>\n",
       "      <td>1</td>\n",
       "      <td>1</td>\n",
       "      <td>2</td>\n",
       "      <td>1</td>\n",
       "    </tr>\n",
       "    <tr>\n",
       "      <th>2</th>\n",
       "      <td>1</td>\n",
       "      <td>2</td>\n",
       "      <td>1</td>\n",
       "      <td>1</td>\n",
       "      <td>1</td>\n",
       "      <td>1</td>\n",
       "    </tr>\n",
       "    <tr>\n",
       "      <th>3</th>\n",
       "      <td>1</td>\n",
       "      <td>0</td>\n",
       "      <td>1</td>\n",
       "      <td>1</td>\n",
       "      <td>2</td>\n",
       "      <td>1</td>\n",
       "    </tr>\n",
       "    <tr>\n",
       "      <th>4</th>\n",
       "      <td>0</td>\n",
       "      <td>2</td>\n",
       "      <td>-1</td>\n",
       "      <td>1</td>\n",
       "      <td>1</td>\n",
       "      <td>1</td>\n",
       "    </tr>\n",
       "  </tbody>\n",
       "</table>\n",
       "</div>"
      ],
      "text/plain": [
       "   Survived  Pclass  Sex  Age  Fare  Cabin\n",
       "0         0       2   -1    1     1      1\n",
       "1         1       0    1    1     2      1\n",
       "2         1       2    1    1     1      1\n",
       "3         1       0    1    1     2      1\n",
       "4         0       2   -1    1     1      1"
      ]
     },
     "execution_count": 47,
     "metadata": {},
     "output_type": "execute_result"
    }
   ],
   "source": [
    "df_new.loc[df.Sex == 0, \"Sex\"] = -1\n",
    "df_new.head()"
   ]
  },
  {
   "cell_type": "code",
   "execution_count": 48,
   "id": "d02486fa",
   "metadata": {},
   "outputs": [],
   "source": [
    "model3 = BayesianModel([('Fare', 'Pclass'),\n",
    "                        ('Pclass', 'Survived'),\n",
    "                        ('Age', 'Survived'),\n",
    "                        ('Cabin', 'Survived'),\n",
    "                        ('Sex', 'Survived')])"
   ]
  },
  {
   "cell_type": "code",
   "execution_count": 49,
   "id": "f9cb8869",
   "metadata": {},
   "outputs": [
    {
     "name": "stderr",
     "output_type": "stream",
     "text": [
      "Finding Elimination Order: : 100%|██████████| 5/5 [06:37<00:00, 79.40s/it]\n",
      "100%|██████████| 19/19 [00:02<00:00,  7.43it/s]\n",
      "WARNING:root:Replacing existing CPD for Fare\n",
      "WARNING:root:Replacing existing CPD for Pclass\n",
      "WARNING:root:Replacing existing CPD for Survived\n",
      "WARNING:root:Replacing existing CPD for Age\n",
      "WARNING:root:Replacing existing CPD for Cabin\n",
      "WARNING:root:Replacing existing CPD for Sex\n",
      "100%|██████████| 18/18 [00:00<00:00, 1020.87it/s]\n",
      "WARNING:root:Replacing existing CPD for Fare\n",
      "WARNING:root:Replacing existing CPD for Pclass\n",
      "WARNING:root:Replacing existing CPD for Survived\n",
      "WARNING:root:Replacing existing CPD for Age\n",
      "WARNING:root:Replacing existing CPD for Cabin\n",
      "WARNING:root:Replacing existing CPD for Sex\n",
      "100%|██████████| 19/19 [00:00<00:00, 517.54it/s]\n",
      "WARNING:root:Replacing existing CPD for Fare\n",
      "WARNING:root:Replacing existing CPD for Pclass\n",
      "WARNING:root:Replacing existing CPD for Survived\n",
      "WARNING:root:Replacing existing CPD for Age\n",
      "WARNING:root:Replacing existing CPD for Cabin\n",
      "WARNING:root:Replacing existing CPD for Sex\n",
      "100%|██████████| 22/22 [00:00<00:00, 449.91it/s]\n",
      "WARNING:root:Replacing existing CPD for Fare\n",
      "WARNING:root:Replacing existing CPD for Pclass\n",
      "WARNING:root:Replacing existing CPD for Survived\n",
      "WARNING:root:Replacing existing CPD for Age\n",
      "WARNING:root:Replacing existing CPD for Cabin\n",
      "WARNING:root:Replacing existing CPD for Sex\n",
      "100%|██████████| 23/23 [00:00<00:00, 577.32it/s]\n",
      "WARNING:root:Replacing existing CPD for Fare\n",
      "WARNING:root:Replacing existing CPD for Pclass\n",
      "WARNING:root:Replacing existing CPD for Survived\n",
      "WARNING:root:Replacing existing CPD for Age\n",
      "WARNING:root:Replacing existing CPD for Cabin\n",
      "WARNING:root:Replacing existing CPD for Sex\n",
      "100%|██████████| 20/20 [00:00<00:00, 500.40it/s]\n",
      "WARNING:root:Replacing existing CPD for Fare\n",
      "WARNING:root:Replacing existing CPD for Pclass\n",
      "WARNING:root:Replacing existing CPD for Survived\n",
      "WARNING:root:Replacing existing CPD for Age\n",
      "WARNING:root:Replacing existing CPD for Cabin\n",
      "WARNING:root:Replacing existing CPD for Sex\n",
      "100%|██████████| 20/20 [00:00<00:00, 1189.82it/s]\n",
      "WARNING:root:Replacing existing CPD for Fare\n",
      "WARNING:root:Replacing existing CPD for Pclass\n",
      "WARNING:root:Replacing existing CPD for Survived\n",
      "WARNING:root:Replacing existing CPD for Age\n",
      "WARNING:root:Replacing existing CPD for Cabin\n",
      "WARNING:root:Replacing existing CPD for Sex\n",
      "100%|██████████| 19/19 [00:00<00:00, 943.52it/s]\n",
      "WARNING:root:Replacing existing CPD for Fare\n",
      "WARNING:root:Replacing existing CPD for Pclass\n",
      "WARNING:root:Replacing existing CPD for Survived\n",
      "WARNING:root:Replacing existing CPD for Age\n",
      "WARNING:root:Replacing existing CPD for Cabin\n",
      "WARNING:root:Replacing existing CPD for Sex\n",
      "100%|██████████| 19/19 [00:00<00:00, 543.04it/s]\n",
      "WARNING:root:Replacing existing CPD for Fare\n",
      "WARNING:root:Replacing existing CPD for Pclass\n",
      "WARNING:root:Replacing existing CPD for Survived\n",
      "WARNING:root:Replacing existing CPD for Age\n",
      "WARNING:root:Replacing existing CPD for Cabin\n",
      "WARNING:root:Replacing existing CPD for Sex\n",
      "100%|██████████| 23/23 [00:00<00:00, 629.70it/s]\n"
     ]
    }
   ],
   "source": [
    "scores3 = cv.cross_val(model3, df_new, 10, target=\"Survived\")"
   ]
  },
  {
   "cell_type": "code",
   "execution_count": 50,
   "id": "68c3e070",
   "metadata": {},
   "outputs": [
    {
     "name": "stdout",
     "output_type": "stream",
     "text": [
      "Mean score: 0.8468115091015853\n"
     ]
    },
    {
     "data": {
      "text/plain": [
       "[0.9007633587786259,\n",
       " 0.8244274809160306,\n",
       " 0.8769230769230769,\n",
       " 0.8473282442748091,\n",
       " 0.8076923076923077,\n",
       " 0.8549618320610687,\n",
       " 0.8,\n",
       " 0.8549618320610687,\n",
       " 0.8384615384615385,\n",
       " 0.8625954198473282]"
      ]
     },
     "execution_count": 50,
     "metadata": {},
     "output_type": "execute_result"
    }
   ],
   "source": [
    "print('Mean score:', np.mean(scores3))\n",
    "scores3"
   ]
  },
  {
   "cell_type": "code",
   "execution_count": null,
   "id": "d9765784",
   "metadata": {},
   "outputs": [],
   "source": []
  }
 ],
 "metadata": {
  "kernelspec": {
   "display_name": "Python 3",
   "language": "python",
   "name": "python3"
  },
  "language_info": {
   "codemirror_mode": {
    "name": "ipython",
    "version": 3
   },
   "file_extension": ".py",
   "mimetype": "text/x-python",
   "name": "python",
   "nbconvert_exporter": "python",
   "pygments_lexer": "ipython3",
   "version": "3.8.5"
  }
 },
 "nbformat": 4,
 "nbformat_minor": 5
}
