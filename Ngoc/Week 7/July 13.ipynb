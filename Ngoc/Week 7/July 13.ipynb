{
 "cells": [
  {
   "cell_type": "markdown",
   "id": "a871d81e",
   "metadata": {},
   "source": [
    "- Grid data for habitat and elevation in the same area\n",
    "- CPD tables for SLR - bins of same range\n",
    "- Discritization of VLM - bins of same size (~ same number of points) (3 bins?)\n",
    "- Elevation: about 6 classes"
   ]
  },
  {
   "cell_type": "code",
   "execution_count": 1,
   "id": "da4b208b",
   "metadata": {},
   "outputs": [
    {
     "name": "stderr",
     "output_type": "stream",
     "text": [
      "/Users/ngochoang/opt/anaconda3/lib/python3.8/site-packages/geopandas/_compat.py:106: UserWarning: The Shapely GEOS version (3.8.1-CAPI-1.13.3) is incompatible with the GEOS version PyGEOS was compiled with (3.9.1-CAPI-1.14.2). Conversions between both will be slow.\n",
      "  warnings.warn(\n"
     ]
    }
   ],
   "source": [
    "import pandas as pd\n",
    "import geopandas as gpd\n",
    "from osgeo import osr, gdal\n",
    "import matplotlib.pyplot as plt\n",
    "import numpy as np\n",
    "import seaborn as sns\n",
    "sns.set_theme(style=\"darkgrid\")\n",
    "from scipy.interpolate import griddata\n",
    "import rasterio\n",
    "from rasterio.plot import show\n",
    "import georasters as gr"
   ]
  },
  {
   "cell_type": "markdown",
   "id": "98bfd3ba",
   "metadata": {},
   "source": [
    "# Map overlay"
   ]
  },
  {
   "cell_type": "code",
   "execution_count": 2,
   "id": "24af7401",
   "metadata": {},
   "outputs": [],
   "source": [
    "dataset = rasterio.open('../Week 6/Elevation.tif')\n",
    "elevation = dataset.read(1)"
   ]
  },
  {
   "cell_type": "code",
   "execution_count": 3,
   "id": "7f9bfd69",
   "metadata": {},
   "outputs": [],
   "source": [
    "elevation_new = elevation.astype('float')\n",
    "elevation_new[elevation_new == 32767] = np.nan"
   ]
  },
  {
   "cell_type": "code",
   "execution_count": 4,
   "id": "9fe10d64",
   "metadata": {},
   "outputs": [],
   "source": [
    "file = gr.from_file('../Week 6/Elevation.tif')\n",
    "elevation_df = file.to_geopandas()"
   ]
  },
  {
   "cell_type": "code",
   "execution_count": 5,
   "id": "725417ee",
   "metadata": {},
   "outputs": [],
   "source": [
    "habitat_path = r\"../Week 6/UAE_habitats_new1.shp\"\n",
    "habitat = gpd.read_file(habitat_path)"
   ]
  },
  {
   "cell_type": "code",
   "execution_count": 6,
   "id": "9228be00",
   "metadata": {},
   "outputs": [
    {
     "data": {
      "text/plain": [
       "array([51.45556052, 22.63150743, 56.01812514, 25.65303804])"
      ]
     },
     "execution_count": 6,
     "metadata": {},
     "output_type": "execute_result"
    }
   ],
   "source": [
    "bounds = habitat.total_bounds\n",
    "bounds"
   ]
  },
  {
   "cell_type": "code",
   "execution_count": 7,
   "id": "790b0062",
   "metadata": {},
   "outputs": [],
   "source": [
    "# f, ax = plt.subplots(1, 1, figsize=(14, 10))\n",
    "# ax = habitat.plot(column='Habitats', ax=ax, legend=True, cmap='magma')\n",
    "# leg = ax.get_legend()\n",
    "# leg.set_bbox_to_anchor((1.25, 1))\n",
    "# plt.scatter(x=[bounds[0], bounds[0], bounds[2], bounds[2]],\n",
    "#             y=[bounds[1], bounds[3], bounds[1], bounds[3]], s=300, marker='x', c='r')\n",
    "# plt.show()"
   ]
  },
  {
   "cell_type": "code",
   "execution_count": 8,
   "id": "4a4f6aee",
   "metadata": {},
   "outputs": [
    {
     "data": {
      "text/html": [
       "<div>\n",
       "<style scoped>\n",
       "    .dataframe tbody tr th:only-of-type {\n",
       "        vertical-align: middle;\n",
       "    }\n",
       "\n",
       "    .dataframe tbody tr th {\n",
       "        vertical-align: top;\n",
       "    }\n",
       "\n",
       "    .dataframe thead th {\n",
       "        text-align: right;\n",
       "    }\n",
       "</style>\n",
       "<table border=\"1\" class=\"dataframe\">\n",
       "  <thead>\n",
       "    <tr style=\"text-align: right;\">\n",
       "      <th></th>\n",
       "      <th>OBJECTID</th>\n",
       "      <th>Id</th>\n",
       "      <th>HabitatTyp</th>\n",
       "      <th>HabitatT_1</th>\n",
       "      <th>HabitatSub</th>\n",
       "      <th>HabitatS_1</th>\n",
       "      <th>RuleID</th>\n",
       "      <th>Shape_Leng</th>\n",
       "      <th>Shape_Area</th>\n",
       "      <th>Habitats</th>\n",
       "      <th>geometry</th>\n",
       "    </tr>\n",
       "  </thead>\n",
       "  <tbody>\n",
       "    <tr>\n",
       "      <th>0</th>\n",
       "      <td>1</td>\n",
       "      <td>1</td>\n",
       "      <td>1000</td>\n",
       "      <td>Intertidal Habitats</td>\n",
       "      <td>1010</td>\n",
       "      <td>Mudflats And Sand Exposed At Low Tide</td>\n",
       "      <td>14</td>\n",
       "      <td>7524.321019</td>\n",
       "      <td>2.115300e+06</td>\n",
       "      <td>Intertidal Habitats</td>\n",
       "      <td>POLYGON ((53.99011 24.13066, 53.99039 24.13065...</td>\n",
       "    </tr>\n",
       "    <tr>\n",
       "      <th>1</th>\n",
       "      <td>2</td>\n",
       "      <td>2</td>\n",
       "      <td>1000</td>\n",
       "      <td>Intertidal Habitats</td>\n",
       "      <td>1010</td>\n",
       "      <td>Mudflats And Sand Exposed At Low Tide</td>\n",
       "      <td>14</td>\n",
       "      <td>48704.931412</td>\n",
       "      <td>7.777595e+06</td>\n",
       "      <td>Intertidal Habitats</td>\n",
       "      <td>POLYGON ((54.07207 24.15920, 54.07776 24.15455...</td>\n",
       "    </tr>\n",
       "  </tbody>\n",
       "</table>\n",
       "</div>"
      ],
      "text/plain": [
       "   OBJECTID  Id  HabitatTyp           HabitatT_1  HabitatSub  \\\n",
       "0         1   1        1000  Intertidal Habitats        1010   \n",
       "1         2   2        1000  Intertidal Habitats        1010   \n",
       "\n",
       "                              HabitatS_1  RuleID    Shape_Leng    Shape_Area  \\\n",
       "0  Mudflats And Sand Exposed At Low Tide      14   7524.321019  2.115300e+06   \n",
       "1  Mudflats And Sand Exposed At Low Tide      14  48704.931412  7.777595e+06   \n",
       "\n",
       "              Habitats                                           geometry  \n",
       "0  Intertidal Habitats  POLYGON ((53.99011 24.13066, 53.99039 24.13065...  \n",
       "1  Intertidal Habitats  POLYGON ((54.07207 24.15920, 54.07776 24.15455...  "
      ]
     },
     "execution_count": 8,
     "metadata": {},
     "output_type": "execute_result"
    }
   ],
   "source": [
    "habitat.head(2)"
   ]
  },
  {
   "cell_type": "code",
   "execution_count": 9,
   "id": "47c1b53a",
   "metadata": {},
   "outputs": [
    {
     "data": {
      "text/html": [
       "<div>\n",
       "<style scoped>\n",
       "    .dataframe tbody tr th:only-of-type {\n",
       "        vertical-align: middle;\n",
       "    }\n",
       "\n",
       "    .dataframe tbody tr th {\n",
       "        vertical-align: top;\n",
       "    }\n",
       "\n",
       "    .dataframe thead th {\n",
       "        text-align: right;\n",
       "    }\n",
       "</style>\n",
       "<table border=\"1\" class=\"dataframe\">\n",
       "  <thead>\n",
       "    <tr style=\"text-align: right;\">\n",
       "      <th></th>\n",
       "      <th>row</th>\n",
       "      <th>col</th>\n",
       "      <th>value</th>\n",
       "      <th>x</th>\n",
       "      <th>y</th>\n",
       "      <th>geometry</th>\n",
       "    </tr>\n",
       "  </thead>\n",
       "  <tbody>\n",
       "    <tr>\n",
       "      <th>0</th>\n",
       "      <td>0</td>\n",
       "      <td>2347</td>\n",
       "      <td>1.0</td>\n",
       "      <td>54.651806</td>\n",
       "      <td>24.700139</td>\n",
       "      <td>POLYGON ((54.65181 24.70014, 54.65208 24.70014...</td>\n",
       "    </tr>\n",
       "    <tr>\n",
       "      <th>1</th>\n",
       "      <td>0</td>\n",
       "      <td>2348</td>\n",
       "      <td>0.0</td>\n",
       "      <td>54.652084</td>\n",
       "      <td>24.700139</td>\n",
       "      <td>POLYGON ((54.65208 24.70014, 54.65236 24.70014...</td>\n",
       "    </tr>\n",
       "  </tbody>\n",
       "</table>\n",
       "</div>"
      ],
      "text/plain": [
       "   row   col  value          x          y  \\\n",
       "0    0  2347    1.0  54.651806  24.700139   \n",
       "1    0  2348    0.0  54.652084  24.700139   \n",
       "\n",
       "                                            geometry  \n",
       "0  POLYGON ((54.65181 24.70014, 54.65208 24.70014...  \n",
       "1  POLYGON ((54.65208 24.70014, 54.65236 24.70014...  "
      ]
     },
     "execution_count": 9,
     "metadata": {},
     "output_type": "execute_result"
    }
   ],
   "source": [
    "elevation_df.head(2)"
   ]
  },
  {
   "cell_type": "code",
   "execution_count": 10,
   "id": "2b4cbe4c",
   "metadata": {},
   "outputs": [],
   "source": [
    "elevation_df_new = elevation_df.to_crs(\"EPSG:4326\")"
   ]
  },
  {
   "cell_type": "code",
   "execution_count": 11,
   "id": "2b1e2f2b",
   "metadata": {},
   "outputs": [],
   "source": [
    "# This has been running for half an hour without any result, I give up\n",
    "# overlay = gpd.overlay(habitat, elevation_df_new, how='intersection')"
   ]
  },
  {
   "cell_type": "markdown",
   "id": "59184188",
   "metadata": {},
   "source": [
    "# Network"
   ]
  },
  {
   "cell_type": "code",
   "execution_count": 12,
   "id": "4093c8fb",
   "metadata": {},
   "outputs": [],
   "source": [
    "import pgmpy.models\n",
    "import pgmpy.inference\n",
    "from pgmpy.factors.discrete import TabularCPD\n",
    "import networkx as nx\n",
    "import pylab"
   ]
  },
  {
   "cell_type": "markdown",
   "id": "df241e7c",
   "metadata": {},
   "source": [
    "<img src=\"model.png\"></img>"
   ]
  },
  {
   "cell_type": "code",
   "execution_count": 13,
   "id": "44ea8368",
   "metadata": {},
   "outputs": [],
   "source": [
    "model = pgmpy.models.BayesianModel([('SLR', 'AE'),\n",
    "                                    ('VLM', 'AE'),\n",
    "                                    ('E', 'AE'),\n",
    "                                    ('E', 'H'),\n",
    "                                    ('H', 'CR'),\n",
    "                                    ('AE', 'CR')])"
   ]
  },
  {
   "cell_type": "code",
   "execution_count": 14,
   "id": "6293fce2",
   "metadata": {},
   "outputs": [
    {
     "data": {
      "image/png": "[encoded data removed]",
      "text/plain": [
       "<Figure size 432x288 with 1 Axes>"
      ]
     },
     "metadata": {},
     "output_type": "display_data"
    }
   ],
   "source": [
    "nx.draw(model, with_labels=True)"
   ]
  },
  {
   "cell_type": "markdown",
   "id": "459810d2",
   "metadata": {},
   "source": [
    "## Sea level rise"
   ]
  },
  {
   "cell_type": "code",
   "execution_count": 15,
   "id": "35399d78",
   "metadata": {},
   "outputs": [],
   "source": [
    "cpd_slr = TabularCPD('SLR', 4, [[0.25], [0.25], [0.25], [0.25]],\n",
    "                     state_names={'SLR': ['0 - 0.25', '>0.25 - 0.5', '>0.5 - 0.75', '>0.75 - 2']})"
   ]
  },
  {
   "cell_type": "code",
   "execution_count": 16,
   "id": "81cc5041",
   "metadata": {},
   "outputs": [],
   "source": [
    "model.add_cpds(cpd_slr)"
   ]
  },
  {
   "cell_type": "markdown",
   "id": "2086303c",
   "metadata": {},
   "source": [
    "## Vertical land movement"
   ]
  },
  {
   "cell_type": "code",
   "execution_count": 17,
   "id": "c60cfff6",
   "metadata": {},
   "outputs": [],
   "source": [
    "# cpd_vlm = TabularCPD('VLM', 3, [[0.33], [0.33], [0.33]],\n",
    "#                      state_names={'VLM'})"
   ]
  },
  {
   "cell_type": "code",
   "execution_count": 25,
   "id": "c2d8af7d",
   "metadata": {},
   "outputs": [
    {
     "data": {
      "text/html": [
       "<div>\n",
       "<style scoped>\n",
       "    .dataframe tbody tr th:only-of-type {\n",
       "        vertical-align: middle;\n",
       "    }\n",
       "\n",
       "    .dataframe tbody tr th {\n",
       "        vertical-align: top;\n",
       "    }\n",
       "\n",
       "    .dataframe thead th {\n",
       "        text-align: right;\n",
       "    }\n",
       "</style>\n",
       "<table border=\"1\" class=\"dataframe\">\n",
       "  <thead>\n",
       "    <tr style=\"text-align: right;\">\n",
       "      <th></th>\n",
       "      <th>Longitude</th>\n",
       "      <th>Latitude</th>\n",
       "      <th>VLM</th>\n",
       "    </tr>\n",
       "  </thead>\n",
       "  <tbody>\n",
       "    <tr>\n",
       "      <th>0</th>\n",
       "      <td>54.684594</td>\n",
       "      <td>24.796595</td>\n",
       "      <td>-0.207</td>\n",
       "    </tr>\n",
       "    <tr>\n",
       "      <th>1</th>\n",
       "      <td>54.115618</td>\n",
       "      <td>24.303783</td>\n",
       "      <td>1.413</td>\n",
       "    </tr>\n",
       "    <tr>\n",
       "      <th>2</th>\n",
       "      <td>53.848164</td>\n",
       "      <td>24.056855</td>\n",
       "      <td>-0.856</td>\n",
       "    </tr>\n",
       "    <tr>\n",
       "      <th>3</th>\n",
       "      <td>53.141386</td>\n",
       "      <td>24.147625</td>\n",
       "      <td>-0.724</td>\n",
       "    </tr>\n",
       "    <tr>\n",
       "      <th>4</th>\n",
       "      <td>52.587928</td>\n",
       "      <td>24.171598</td>\n",
       "      <td>1.812</td>\n",
       "    </tr>\n",
       "  </tbody>\n",
       "</table>\n",
       "</div>"
      ],
      "text/plain": [
       "   Longitude   Latitude    VLM\n",
       "0  54.684594  24.796595 -0.207\n",
       "1  54.115618  24.303783  1.413\n",
       "2  53.848164  24.056855 -0.856\n",
       "3  53.141386  24.147625 -0.724\n",
       "4  52.587928  24.171598  1.812"
      ]
     },
     "execution_count": 25,
     "metadata": {},
     "output_type": "execute_result"
    }
   ],
   "source": [
    "vlm_df = pd.read_excel('../Week 6/data.xls')\n",
    "vlm = vlm_df.drop(columns=['Station', 'VLM_std'])\n",
    "vlm.head()"
   ]
  },
  {
   "cell_type": "code",
   "execution_count": 59,
   "id": "4fc30789",
   "metadata": {},
   "outputs": [
    {
     "data": {
      "text/html": [
       "<div>\n",
       "<style scoped>\n",
       "    .dataframe tbody tr th:only-of-type {\n",
       "        vertical-align: middle;\n",
       "    }\n",
       "\n",
       "    .dataframe tbody tr th {\n",
       "        vertical-align: top;\n",
       "    }\n",
       "\n",
       "    .dataframe thead th {\n",
       "        text-align: right;\n",
       "    }\n",
       "</style>\n",
       "<table border=\"1\" class=\"dataframe\">\n",
       "  <thead>\n",
       "    <tr style=\"text-align: right;\">\n",
       "      <th></th>\n",
       "      <th>Longitude</th>\n",
       "      <th>Latitude</th>\n",
       "      <th>VLM</th>\n",
       "      <th>Bins</th>\n",
       "      <th>Intervals</th>\n",
       "    </tr>\n",
       "  </thead>\n",
       "  <tbody>\n",
       "    <tr>\n",
       "      <th>0</th>\n",
       "      <td>54.684594</td>\n",
       "      <td>24.796595</td>\n",
       "      <td>-0.207</td>\n",
       "      <td>Bin 2</td>\n",
       "      <td>(-0.517, 0.92]</td>\n",
       "    </tr>\n",
       "    <tr>\n",
       "      <th>1</th>\n",
       "      <td>54.115618</td>\n",
       "      <td>24.303783</td>\n",
       "      <td>1.413</td>\n",
       "      <td>Bin 3</td>\n",
       "      <td>(0.92, 2.471]</td>\n",
       "    </tr>\n",
       "    <tr>\n",
       "      <th>2</th>\n",
       "      <td>53.848164</td>\n",
       "      <td>24.056855</td>\n",
       "      <td>-0.856</td>\n",
       "      <td>Bin 1</td>\n",
       "      <td>(-1.208, -0.517]</td>\n",
       "    </tr>\n",
       "    <tr>\n",
       "      <th>3</th>\n",
       "      <td>53.141386</td>\n",
       "      <td>24.147625</td>\n",
       "      <td>-0.724</td>\n",
       "      <td>Bin 1</td>\n",
       "      <td>(-1.208, -0.517]</td>\n",
       "    </tr>\n",
       "    <tr>\n",
       "      <th>4</th>\n",
       "      <td>52.587928</td>\n",
       "      <td>24.171598</td>\n",
       "      <td>1.812</td>\n",
       "      <td>Bin 3</td>\n",
       "      <td>(0.92, 2.471]</td>\n",
       "    </tr>\n",
       "  </tbody>\n",
       "</table>\n",
       "</div>"
      ],
      "text/plain": [
       "   Longitude   Latitude    VLM   Bins         Intervals\n",
       "0  54.684594  24.796595 -0.207  Bin 2    (-0.517, 0.92]\n",
       "1  54.115618  24.303783  1.413  Bin 3     (0.92, 2.471]\n",
       "2  53.848164  24.056855 -0.856  Bin 1  (-1.208, -0.517]\n",
       "3  53.141386  24.147625 -0.724  Bin 1  (-1.208, -0.517]\n",
       "4  52.587928  24.171598  1.812  Bin 3     (0.92, 2.471]"
      ]
     },
     "execution_count": 59,
     "metadata": {},
     "output_type": "execute_result"
    }
   ],
   "source": [
    "vlm['Bins'] = pd.qcut(vlm.VLM, q=3, labels=['Bin 1', 'Bin 2', 'Bin 3'])\n",
    "vlm['Intervals'] = pd.qcut(vlm.VLM, q=3)\n",
    "vlm.head()"
   ]
  },
  {
   "cell_type": "code",
   "execution_count": 96,
   "id": "49226bac",
   "metadata": {},
   "outputs": [
    {
     "data": {
      "text/html": [
       "<div>\n",
       "<style scoped>\n",
       "    .dataframe tbody tr th:only-of-type {\n",
       "        vertical-align: middle;\n",
       "    }\n",
       "\n",
       "    .dataframe tbody tr th {\n",
       "        vertical-align: top;\n",
       "    }\n",
       "\n",
       "    .dataframe thead th {\n",
       "        text-align: right;\n",
       "    }\n",
       "</style>\n",
       "<table border=\"1\" class=\"dataframe\">\n",
       "  <thead>\n",
       "    <tr style=\"text-align: right;\">\n",
       "      <th></th>\n",
       "      <th>Bins</th>\n",
       "      <th>Probability</th>\n",
       "    </tr>\n",
       "  </thead>\n",
       "  <tbody>\n",
       "    <tr>\n",
       "      <th>Bin 1</th>\n",
       "      <td>9</td>\n",
       "      <td>0.333333</td>\n",
       "    </tr>\n",
       "    <tr>\n",
       "      <th>Bin 2</th>\n",
       "      <td>9</td>\n",
       "      <td>0.333333</td>\n",
       "    </tr>\n",
       "    <tr>\n",
       "      <th>Bin 3</th>\n",
       "      <td>9</td>\n",
       "      <td>0.333333</td>\n",
       "    </tr>\n",
       "  </tbody>\n",
       "</table>\n",
       "</div>"
      ],
      "text/plain": [
       "       Bins  Probability\n",
       "Bin 1     9     0.333333\n",
       "Bin 2     9     0.333333\n",
       "Bin 3     9     0.333333"
      ]
     },
     "execution_count": 96,
     "metadata": {},
     "output_type": "execute_result"
    }
   ],
   "source": [
    "vlm_bins = pd.DataFrame(vlm.Bins.value_counts())\n",
    "vlm_bins['Probability'] = vlm_bins.Bins / vlm_bins.Bins.sum()\n",
    "vlm_bins"
   ]
  },
  {
   "cell_type": "code",
   "execution_count": 102,
   "id": "4fd7d649",
   "metadata": {},
   "outputs": [
    {
     "data": {
      "text/plain": [
       "['Bin 1', 'Bin 2', 'Bin 3']"
      ]
     },
     "execution_count": 102,
     "metadata": {},
     "output_type": "execute_result"
    }
   ],
   "source": [
    "vlm_statenames = list(vlm_bins.index)\n",
    "vlm_statenames"
   ]
  },
  {
   "cell_type": "code",
   "execution_count": 176,
   "id": "d64dcc2b",
   "metadata": {},
   "outputs": [
    {
     "data": {
      "text/plain": [
       "array([[0.33333333],\n",
       "       [0.33333333],\n",
       "       [0.33333333]])"
      ]
     },
     "execution_count": 176,
     "metadata": {},
     "output_type": "execute_result"
    }
   ],
   "source": [
    "vlm_cpd = np.array(vlm_bins.Probability).reshape(-1, 1)\n",
    "vlm_cpd"
   ]
  },
  {
   "cell_type": "code",
   "execution_count": 104,
   "id": "973aba36",
   "metadata": {},
   "outputs": [],
   "source": [
    "cpd_vlm = TabularCPD('VLM', 3, vlm_cpd,\n",
    "                     state_names={'VLM': vlm_statenames})"
   ]
  },
  {
   "cell_type": "code",
   "execution_count": 106,
   "id": "c2215d6a",
   "metadata": {},
   "outputs": [],
   "source": [
    "model.add_cpds(cpd_vlm)"
   ]
  },
  {
   "cell_type": "markdown",
   "id": "914a6007",
   "metadata": {},
   "source": [
    "## Elevation"
   ]
  },
  {
   "cell_type": "markdown",
   "id": "cbb69e4c",
   "metadata": {},
   "source": [
    "Length of dataframe = number of non-NaN values in array"
   ]
  },
  {
   "cell_type": "code",
   "execution_count": 113,
   "id": "f97a3571",
   "metadata": {},
   "outputs": [
    {
     "name": "stdout",
     "output_type": "stream",
     "text": [
      "[[      0 2642257]\n",
      " [      1 1789661]]\n"
     ]
    }
   ],
   "source": [
    "unique, counts = np.unique((elevation != 32767), return_counts=True)\n",
    "print(np.asarray((unique, counts)).T)"
   ]
  },
  {
   "cell_type": "code",
   "execution_count": 115,
   "id": "c84e7cbf",
   "metadata": {},
   "outputs": [
    {
     "data": {
      "text/plain": [
       "(1789661, 6)"
      ]
     },
     "execution_count": 115,
     "metadata": {},
     "output_type": "execute_result"
    }
   ],
   "source": [
    "elevation_df.shape"
   ]
  },
  {
   "cell_type": "code",
   "execution_count": 140,
   "id": "0d837933",
   "metadata": {},
   "outputs": [
    {
     "data": {
      "text/html": [
       "<div>\n",
       "<style scoped>\n",
       "    .dataframe tbody tr th:only-of-type {\n",
       "        vertical-align: middle;\n",
       "    }\n",
       "\n",
       "    .dataframe tbody tr th {\n",
       "        vertical-align: top;\n",
       "    }\n",
       "\n",
       "    .dataframe thead th {\n",
       "        text-align: right;\n",
       "    }\n",
       "</style>\n",
       "<table border=\"1\" class=\"dataframe\">\n",
       "  <thead>\n",
       "    <tr style=\"text-align: right;\">\n",
       "      <th></th>\n",
       "      <th>value</th>\n",
       "    </tr>\n",
       "  </thead>\n",
       "  <tbody>\n",
       "    <tr>\n",
       "      <th>0</th>\n",
       "      <td>1.0</td>\n",
       "    </tr>\n",
       "    <tr>\n",
       "      <th>1</th>\n",
       "      <td>0.0</td>\n",
       "    </tr>\n",
       "    <tr>\n",
       "      <th>2</th>\n",
       "      <td>1.0</td>\n",
       "    </tr>\n",
       "    <tr>\n",
       "      <th>3</th>\n",
       "      <td>1.0</td>\n",
       "    </tr>\n",
       "    <tr>\n",
       "      <th>4</th>\n",
       "      <td>2.0</td>\n",
       "    </tr>\n",
       "  </tbody>\n",
       "</table>\n",
       "</div>"
      ],
      "text/plain": [
       "   value\n",
       "0    1.0\n",
       "1    0.0\n",
       "2    1.0\n",
       "3    1.0\n",
       "4    2.0"
      ]
     },
     "execution_count": 140,
     "metadata": {},
     "output_type": "execute_result"
    }
   ],
   "source": [
    "elev = elevation_df[['value']]\n",
    "elev.head()"
   ]
  },
  {
   "cell_type": "code",
   "execution_count": 121,
   "id": "154ee91c",
   "metadata": {},
   "outputs": [
    {
     "data": {
      "text/plain": [
       "(-89.0, 83.0)"
      ]
     },
     "execution_count": 121,
     "metadata": {},
     "output_type": "execute_result"
    }
   ],
   "source": [
    "elev_min, elev_max = elev.value.min(), elev.value.max()\n",
    "elev_min, elev_max"
   ]
  },
  {
   "cell_type": "markdown",
   "id": "7bb40562",
   "metadata": {},
   "source": [
    "Elevation range: -10 to <-1, -1 to <0, 0 to 1, >1 to 5, >5 to 10, >10\\\n",
    "Currently: use min and max"
   ]
  },
  {
   "cell_type": "code",
   "execution_count": 130,
   "id": "86767305",
   "metadata": {},
   "outputs": [],
   "source": [
    "# Does not work\n",
    "# interval_0 = pd.Interval(elev_min, -1, closed=\"left\")\n",
    "# interval_1 = pd.Interval(-1, 0, closed=\"left\")\n",
    "# interval_2 = pd.Interval(0, 1, closed=\"both\")\n",
    "# interval_3 = pd.Interval(1, 5, closed=\"right\")\n",
    "# interval_4 = pd.Interval(5, 10, closed=\"right\")\n",
    "# interval_5 = pd.Interval(10, elev_max, closed=\"right\")\n",
    "# intervals_list = [interval_0, interval_1, interval_2, interval_3, interval_4, interval_5]\n",
    "# elev_intervals = pd.IntervalIndex.from_intervals(intervals_list)"
   ]
  },
  {
   "cell_type": "code",
   "execution_count": 132,
   "id": "577e6bff",
   "metadata": {},
   "outputs": [
    {
     "data": {
      "text/plain": [
       "IntervalIndex([(-90.0, -1.0], (-1.0, 0.0], (0.0, 1.0], (1.0, 5.0], (5.0, 10.0], (10.0, 84.0]],\n",
       "              closed='right',\n",
       "              dtype='interval[float64]')"
      ]
     },
     "execution_count": 132,
     "metadata": {},
     "output_type": "execute_result"
    }
   ],
   "source": [
    "elev_intervals = pd.IntervalIndex.from_tuples([(elev_min-1, -1), (-1, 0), (0, 1),\n",
    "                                               (1, 5), (5, 10), (10, elev_max+1)])\n",
    "elev_intervals"
   ]
  },
  {
   "cell_type": "code",
   "execution_count": 134,
   "id": "01979779",
   "metadata": {},
   "outputs": [],
   "source": [
    "elev_intervals_labels = ['(-90.0, -1.0]', '(-1.0, 0.0]', '(0.0, 1.0]',\n",
    "                         '(1.0, 5.0]', '(5.0, 10.0]', '(10.0, 84.0]']"
   ]
  },
  {
   "cell_type": "code",
   "execution_count": 141,
   "id": "d2c18450",
   "metadata": {},
   "outputs": [
    {
     "name": "stderr",
     "output_type": "stream",
     "text": [
      "<ipython-input-141-893aa0db0ff6>:2: SettingWithCopyWarning: \n",
      "A value is trying to be set on a copy of a slice from a DataFrame.\n",
      "Try using .loc[row_indexer,col_indexer] = value instead\n",
      "\n",
      "See the caveats in the documentation: https://pandas.pydata.org/pandas-docs/stable/user_guide/indexing.html#returning-a-view-versus-a-copy\n",
      "  elev['Intervals'] = pd.cut(elev.value, elev_intervals, labels=False)\n"
     ]
    }
   ],
   "source": [
    "# labels arg is ignored if bins arg is of type IntervalIndex\n",
    "# elev['Bins'] = pd.cut(elev.value, elev_intervals, labels=['Bin 1', 'Bin 2', 'Bin 3', 'Bin 4', 'Bin 5', 'Bin 6'])\n",
    "elev['Intervals'] = pd.cut(elev.value, elev_intervals, labels=False)"
   ]
  },
  {
   "cell_type": "code",
   "execution_count": 142,
   "id": "5718d185",
   "metadata": {},
   "outputs": [
    {
     "data": {
      "text/html": [
       "<div>\n",
       "<style scoped>\n",
       "    .dataframe tbody tr th:only-of-type {\n",
       "        vertical-align: middle;\n",
       "    }\n",
       "\n",
       "    .dataframe tbody tr th {\n",
       "        vertical-align: top;\n",
       "    }\n",
       "\n",
       "    .dataframe thead th {\n",
       "        text-align: right;\n",
       "    }\n",
       "</style>\n",
       "<table border=\"1\" class=\"dataframe\">\n",
       "  <thead>\n",
       "    <tr style=\"text-align: right;\">\n",
       "      <th></th>\n",
       "      <th>value</th>\n",
       "      <th>Intervals</th>\n",
       "    </tr>\n",
       "  </thead>\n",
       "  <tbody>\n",
       "    <tr>\n",
       "      <th>0</th>\n",
       "      <td>1.0</td>\n",
       "      <td>(0.0, 1.0]</td>\n",
       "    </tr>\n",
       "    <tr>\n",
       "      <th>1</th>\n",
       "      <td>0.0</td>\n",
       "      <td>(-1.0, 0.0]</td>\n",
       "    </tr>\n",
       "    <tr>\n",
       "      <th>2</th>\n",
       "      <td>1.0</td>\n",
       "      <td>(0.0, 1.0]</td>\n",
       "    </tr>\n",
       "    <tr>\n",
       "      <th>3</th>\n",
       "      <td>1.0</td>\n",
       "      <td>(0.0, 1.0]</td>\n",
       "    </tr>\n",
       "    <tr>\n",
       "      <th>4</th>\n",
       "      <td>2.0</td>\n",
       "      <td>(1.0, 5.0]</td>\n",
       "    </tr>\n",
       "  </tbody>\n",
       "</table>\n",
       "</div>"
      ],
      "text/plain": [
       "   value    Intervals\n",
       "0    1.0   (0.0, 1.0]\n",
       "1    0.0  (-1.0, 0.0]\n",
       "2    1.0   (0.0, 1.0]\n",
       "3    1.0   (0.0, 1.0]\n",
       "4    2.0   (1.0, 5.0]"
      ]
     },
     "execution_count": 142,
     "metadata": {},
     "output_type": "execute_result"
    }
   ],
   "source": [
    "elev.head()"
   ]
  },
  {
   "cell_type": "code",
   "execution_count": 157,
   "id": "c251bf74",
   "metadata": {},
   "outputs": [
    {
     "data": {
      "text/html": [
       "<div>\n",
       "<style scoped>\n",
       "    .dataframe tbody tr th:only-of-type {\n",
       "        vertical-align: middle;\n",
       "    }\n",
       "\n",
       "    .dataframe tbody tr th {\n",
       "        vertical-align: top;\n",
       "    }\n",
       "\n",
       "    .dataframe thead th {\n",
       "        text-align: right;\n",
       "    }\n",
       "</style>\n",
       "<table border=\"1\" class=\"dataframe\">\n",
       "  <thead>\n",
       "    <tr style=\"text-align: right;\">\n",
       "      <th></th>\n",
       "      <th>Intervals</th>\n",
       "      <th>Probability</th>\n",
       "    </tr>\n",
       "  </thead>\n",
       "  <tbody>\n",
       "    <tr>\n",
       "      <th>(-90.0, -1.0]</th>\n",
       "      <td>156081</td>\n",
       "      <td>0.087213</td>\n",
       "    </tr>\n",
       "    <tr>\n",
       "      <th>(-1.0, 0.0]</th>\n",
       "      <td>184253</td>\n",
       "      <td>0.102954</td>\n",
       "    </tr>\n",
       "    <tr>\n",
       "      <th>(0.0, 1.0]</th>\n",
       "      <td>205379</td>\n",
       "      <td>0.114759</td>\n",
       "    </tr>\n",
       "    <tr>\n",
       "      <th>(1.0, 5.0]</th>\n",
       "      <td>603235</td>\n",
       "      <td>0.337067</td>\n",
       "    </tr>\n",
       "    <tr>\n",
       "      <th>(5.0, 10.0]</th>\n",
       "      <td>231449</td>\n",
       "      <td>0.129326</td>\n",
       "    </tr>\n",
       "    <tr>\n",
       "      <th>(10.0, 84.0]</th>\n",
       "      <td>409264</td>\n",
       "      <td>0.228682</td>\n",
       "    </tr>\n",
       "  </tbody>\n",
       "</table>\n",
       "</div>"
      ],
      "text/plain": [
       "               Intervals  Probability\n",
       "(-90.0, -1.0]     156081     0.087213\n",
       "(-1.0, 0.0]       184253     0.102954\n",
       "(0.0, 1.0]        205379     0.114759\n",
       "(1.0, 5.0]        603235     0.337067\n",
       "(5.0, 10.0]       231449     0.129326\n",
       "(10.0, 84.0]      409264     0.228682"
      ]
     },
     "execution_count": 157,
     "metadata": {},
     "output_type": "execute_result"
    }
   ],
   "source": [
    "elev_bins = pd.DataFrame(elev.Intervals.value_counts())\n",
    "elev_bins.sort_index(inplace=True)\n",
    "elev_bins['Probability'] = elev_bins.Intervals / elev_bins.Intervals.sum()\n",
    "elev_bins"
   ]
  },
  {
   "cell_type": "code",
   "execution_count": 155,
   "id": "e0d456d5",
   "metadata": {},
   "outputs": [
    {
     "data": {
      "text/plain": [
       "<seaborn.axisgrid.FacetGrid at 0x7fa92b8e36a0>"
      ]
     },
     "execution_count": 155,
     "metadata": {},
     "output_type": "execute_result"
    },
    {
     "data": {
      "image/png": "[encoded data removed]",
      "text/plain": [
       "<Figure size 540x360 with 1 Axes>"
      ]
     },
     "metadata": {},
     "output_type": "display_data"
    }
   ],
   "source": [
    "sns.catplot(x=\"Intervals\", kind=\"count\", palette=\"mako\", data=elev, height=5, aspect=1.5)"
   ]
  },
  {
   "cell_type": "code",
   "execution_count": 170,
   "id": "3957a62f",
   "metadata": {},
   "outputs": [
    {
     "data": {
      "text/plain": [
       "<AxesSubplot:ylabel='Probability'>"
      ]
     },
     "execution_count": 170,
     "metadata": {},
     "output_type": "execute_result"
    },
    {
     "data": {
      "image/png": "[encoded data removed]",
      "text/plain": [
       "<Figure size 432x288 with 1 Axes>"
      ]
     },
     "metadata": {},
     "output_type": "display_data"
    }
   ],
   "source": [
    "sns.barplot(x=elev_bins.index, y=\"Probability\", palette=\"rocket\", data=elev_bins)"
   ]
  },
  {
   "cell_type": "code",
   "execution_count": 174,
   "id": "7dcf78ae",
   "metadata": {},
   "outputs": [
    {
     "data": {
      "text/plain": [
       "['(-90.0, -1.0]',\n",
       " '(-1.0, 0.0]',\n",
       " '(0.0, 1.0]',\n",
       " '(1.0, 5.0]',\n",
       " '(5.0, 10.0]',\n",
       " '(10.0, 84.0]']"
      ]
     },
     "execution_count": 174,
     "metadata": {},
     "output_type": "execute_result"
    }
   ],
   "source": [
    "elev_statenames = ['(-90.0, -1.0]', '(-1.0, 0.0]', '(0.0, 1.0]',\n",
    "                   '(1.0, 5.0]', '(5.0, 10.0]', '(10.0, 84.0]']\n",
    "elev_statenames"
   ]
  },
  {
   "cell_type": "code",
   "execution_count": 177,
   "id": "96112ab5",
   "metadata": {},
   "outputs": [
    {
     "data": {
      "text/plain": [
       "array([[0.08721261],\n",
       "       [0.10295413],\n",
       "       [0.11475861],\n",
       "       [0.33706663],\n",
       "       [0.12932561],\n",
       "       [0.22868242]])"
      ]
     },
     "execution_count": 177,
     "metadata": {},
     "output_type": "execute_result"
    }
   ],
   "source": [
    "elev_cpd = np.array(elev_bins.Probability).reshape(-1, 1)\n",
    "elev_cpd"
   ]
  },
  {
   "cell_type": "code",
   "execution_count": 178,
   "id": "9cda5f78",
   "metadata": {},
   "outputs": [],
   "source": [
    "cpd_elev = TabularCPD('E', 6, elev_cpd,\n",
    "                      state_names={'E': elev_statenames})\n",
    "model.add_cpds(cpd_elev)"
   ]
  },
  {
   "cell_type": "markdown",
   "id": "46ed279a",
   "metadata": {},
   "source": [
    "- Habitat & elevation: crop the habitat map using boundaries of elevation map first then try join or overlay\n",
    "- Also try griddata\n",
    "- VLM: use interpolation map\n",
    "- User input for number of bins (VLM) (later, keep 3 for now)"
   ]
  },
  {
   "cell_type": "code",
   "execution_count": null,
   "id": "3349ff3e",
   "metadata": {},
   "outputs": [],
   "source": []
  }
 ],
 "metadata": {
  "kernelspec": {
   "display_name": "Python 3",
   "language": "python",
   "name": "python3"
  },
  "language_info": {
   "codemirror_mode": {
    "name": "ipython",
    "version": 3
   },
   "file_extension": ".py",
   "mimetype": "text/x-python",
   "name": "python",
   "nbconvert_exporter": "python",
   "pygments_lexer": "ipython3",
   "version": "3.8.5"
  }
 },
 "nbformat": 4,
 "nbformat_minor": 5
}
