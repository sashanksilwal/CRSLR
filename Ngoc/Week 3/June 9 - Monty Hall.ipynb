{
 "cells": [
  {
   "cell_type": "code",
   "execution_count": 2,
   "id": "50500f0b",
   "metadata": {},
   "outputs": [],
   "source": [
    "import pgmpy.models\n",
    "import pgmpy.inference\n",
    "import networkx as nx\n",
    "import pylab as plt"
   ]
  },
  {
   "cell_type": "code",
   "execution_count": 7,
   "id": "54092b01",
   "metadata": {},
   "outputs": [
    {
     "data": {
      "text/plain": [
       "<pgmpy.models.BayesianModel.BayesianModel at 0x7fd7214f7d30>"
      ]
     },
     "execution_count": 7,
     "metadata": {},
     "output_type": "execute_result"
    }
   ],
   "source": [
    "# Create a bayesian network\n",
    "model = pgmpy.models.BayesianModel([('guest', 'monty'), ('prize', 'monty')])\n",
    "model"
   ]
  },
  {
   "cell_type": "code",
   "execution_count": 21,
   "id": "7de8f3fa",
   "metadata": {},
   "outputs": [],
   "source": [
    "# Define conditional probability distributions (CPD)\n",
    "# Probability of guest selecting door 0, 1 and 2\n",
    "cpd_guest = pgmpy.factors.discrete.TabularCPD('guest', 3, [[0.33], [0.33], [0.33]])\n",
    "# Probability that the price is behind door 0, 1 and 2\n",
    "cpd_prize = pgmpy.factors.discrete.TabularCPD('prize', 3, [[0.33], [0.33], [0.33]])"
   ]
  },
  {
   "cell_type": "code",
   "execution_count": 22,
   "id": "23cfddae",
   "metadata": {},
   "outputs": [],
   "source": [
    "# Probability that Monty selects a door (0, 1, 2), when we know which door the guest has selected and we know were the prize is\n",
    "cpd_monty = pgmpy.factors.discrete.TabularCPD('monty', 3, [[0, 0, 0, 0, 0.5, 1, 0, 1, 0.5], \n",
    "[0.5, 0, 1, 0, 0, 0, 1, 0, 0.5], \n",
    "[0.5, 1, 0, 1, 0.5, 0, 0, 0, 0]], \n",
    "evidence=['guest', 'prize'], \n",
    "evidence_card=[3, 3])"
   ]
  },
  {
   "cell_type": "code",
   "execution_count": 23,
   "id": "267243ed",
   "metadata": {
    "scrolled": true
   },
   "outputs": [
    {
     "name": "stderr",
     "output_type": "stream",
     "text": [
      "WARNING:root:Replacing existing CPD for guest\n",
      "WARNING:root:Replacing existing CPD for prize\n",
      "WARNING:root:Replacing existing CPD for monty\n"
     ]
    },
    {
     "data": {
      "text/plain": [
       "True"
      ]
     },
     "execution_count": 23,
     "metadata": {},
     "output_type": "execute_result"
    }
   ],
   "source": [
    "# Add CPDs to the network structure\n",
    "model.add_cpds(cpd_guest, cpd_prize, cpd_monty)\n",
    "# Check if the model is valid, throw an exception otherwise\n",
    "model.check_model()"
   ]
  },
  {
   "cell_type": "code",
   "execution_count": 24,
   "id": "e7ca5a5f",
   "metadata": {},
   "outputs": [
    {
     "name": "stdout",
     "output_type": "stream",
     "text": [
      "Probability distribution, P(Guest)\n",
      "+----------+------+\n",
      "| guest(0) | 0.33 |\n",
      "+----------+------+\n",
      "| guest(1) | 0.33 |\n",
      "+----------+------+\n",
      "| guest(2) | 0.33 |\n",
      "+----------+------+\n",
      "\n",
      "Probability distribution, P(Prize)\n",
      "+----------+------+\n",
      "| prize(0) | 0.33 |\n",
      "+----------+------+\n",
      "| prize(1) | 0.33 |\n",
      "+----------+------+\n",
      "| prize(2) | 0.33 |\n",
      "+----------+------+\n",
      "\n",
      "Joint probability distribution, P(Monty | Guest, Prize)\n",
      "+----------+----------+----------+----------+----------+----------+----------+----------+----------+----------+\n",
      "| guest    | guest(0) | guest(0) | guest(0) | guest(1) | guest(1) | guest(1) | guest(2) | guest(2) | guest(2) |\n",
      "+----------+----------+----------+----------+----------+----------+----------+----------+----------+----------+\n",
      "| prize    | prize(0) | prize(1) | prize(2) | prize(0) | prize(1) | prize(2) | prize(0) | prize(1) | prize(2) |\n",
      "+----------+----------+----------+----------+----------+----------+----------+----------+----------+----------+\n",
      "| monty(0) | 0.0      | 0.0      | 0.0      | 0.0      | 0.5      | 1.0      | 0.0      | 1.0      | 0.5      |\n",
      "+----------+----------+----------+----------+----------+----------+----------+----------+----------+----------+\n",
      "| monty(1) | 0.5      | 0.0      | 1.0      | 0.0      | 0.0      | 0.0      | 1.0      | 0.0      | 0.5      |\n",
      "+----------+----------+----------+----------+----------+----------+----------+----------+----------+----------+\n",
      "| monty(2) | 0.5      | 1.0      | 0.0      | 1.0      | 0.5      | 0.0      | 0.0      | 0.0      | 0.0      |\n",
      "+----------+----------+----------+----------+----------+----------+----------+----------+----------+----------+\n",
      "\n"
     ]
    },
    {
     "data": {
      "image/png": "[encoded data removed]",
      "text/plain": [
       "<Figure size 432x288 with 1 Axes>"
      ]
     },
     "metadata": {},
     "output_type": "display_data"
    }
   ],
   "source": [
    "# Print probability distributions\n",
    "print('Probability distribution, P(Guest)')\n",
    "print(cpd_guest)\n",
    "print()\n",
    "print('Probability distribution, P(Prize)')\n",
    "print(cpd_prize)\n",
    "print()\n",
    "print('Joint probability distribution, P(Monty | Guest, Prize)')\n",
    "print(cpd_monty)\n",
    "print()\n",
    "\n",
    "# Plot the model\n",
    "nx.draw(model, with_labels=True)"
   ]
  },
  {
   "cell_type": "code",
   "execution_count": 25,
   "id": "a8dd8afb",
   "metadata": {},
   "outputs": [],
   "source": [
    "# Perform variable elimination for inference\n",
    "# Variable elimination (VE) is a an exact inference algorithm in bayesian networks\n",
    "infer = pgmpy.inference.VariableElimination(model)\n",
    "\n",
    "# Calculate probabilites for doors including prize, the guest has selected door 0 and Monty has selected door 2"
   ]
  },
  {
   "cell_type": "code",
   "execution_count": 27,
   "id": "310a9ce1",
   "metadata": {},
   "outputs": [
    {
     "name": "stderr",
     "output_type": "stream",
     "text": [
      "Finding Elimination Order: : : 0it [00:00, ?it/s]\n",
      "Finding Elimination Order: : : 0it [00:10, ?it/s]\n",
      "0it [00:10, ?it/s]"
     ]
    },
    {
     "name": "stdout",
     "output_type": "stream",
     "text": [
      "Posterior probability, Guest(0) and Monty(2)\n",
      "+----------+--------------+\n",
      "| prize    |   phi(prize) |\n",
      "+==========+==============+\n",
      "| prize(0) |       0.3333 |\n",
      "+----------+--------------+\n",
      "| prize(1) |       0.6667 |\n",
      "+----------+--------------+\n",
      "| prize(2) |       0.0000 |\n",
      "+----------+--------------+\n",
      "\n"
     ]
    },
    {
     "name": "stderr",
     "output_type": "stream",
     "text": [
      "\n"
     ]
    }
   ],
   "source": [
    "# Calculate probabilities for doors including prize, the guest has selected door 0 and Monty has selected door 2\n",
    "posterior_probability = infer.query(['prize'], evidence={'guest': 0, 'monty': 2})\n",
    "# Print posterior probability\n",
    "print('Posterior probability, Guest(0) and Monty(2)')\n",
    "print(posterior_probability)\n",
    "print()"
   ]
  },
  {
   "cell_type": "markdown",
   "id": "ac449a43",
   "metadata": {},
   "source": [
    "https://github.com/pgmpy/pgmpy_notebook/blob/master/notebooks/9.%20Learning%20Bayesian%20Networks%20from%20Data.ipynb\n",
    "\n",
    "\n",
    "\n",
    "https://www.programmersought.com/article/74205101984/\n",
    "\n",
    "DATA: https://github.com/frealter/wncg/tree/master/%E6%9C%BA%E5%99%A8%E5%AD%A6%E4%B9%A0%E5%AE%9E%E6%88%98/%E8%B4%9D%E5%8F%B6%E6%96%AF%E7%BD%91%E7%BB%9C"
   ]
  },
  {
   "cell_type": "markdown",
   "id": "d04d8998",
   "metadata": {},
   "source": [
    "- Run model - display inference\n",
    "- Output, graphs, plots of the model"
   ]
  },
  {
   "cell_type": "markdown",
   "id": "9da94f27",
   "metadata": {},
   "source": [
    "- Merge the data, shuffle into train & test data: 10-fold cross validation\n",
    "- Beautify the plots\n",
    "- Add comments to the code"
   ]
  },
  {
   "cell_type": "code",
   "execution_count": null,
   "id": "d9e97d6a",
   "metadata": {},
   "outputs": [],
   "source": []
  }
 ],
 "metadata": {
  "kernelspec": {
   "display_name": "Python 3",
   "language": "python",
   "name": "python3"
  },
  "language_info": {
   "codemirror_mode": {
    "name": "ipython",
    "version": 3
   },
   "file_extension": ".py",
   "mimetype": "text/x-python",
   "name": "python",
   "nbconvert_exporter": "python",
   "pygments_lexer": "ipython3",
   "version": "3.8.5"
  }
 },
 "nbformat": 4,
 "nbformat_minor": 5
}
