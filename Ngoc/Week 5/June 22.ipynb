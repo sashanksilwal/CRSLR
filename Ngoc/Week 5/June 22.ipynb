{
 "cells": [
  {
   "cell_type": "code",
   "execution_count": 1,
   "id": "07317765",
   "metadata": {},
   "outputs": [
    {
     "name": "stderr",
     "output_type": "stream",
     "text": [
      "/Users/ngochoang/opt/anaconda3/lib/python3.8/site-packages/geopandas/_compat.py:106: UserWarning: The Shapely GEOS version (3.8.1-CAPI-1.13.3) is incompatible with the GEOS version PyGEOS was compiled with (3.9.1-CAPI-1.14.2). Conversions between both will be slow.\n",
      "  warnings.warn(\n"
     ]
    }
   ],
   "source": [
    "import pandas as pd\n",
    "import geopandas as gpd\n",
    "from osgeo import osr, gdal\n",
    "import matplotlib.pyplot as plt\n",
    "import numpy as np"
   ]
  },
  {
   "cell_type": "code",
   "execution_count": 2,
   "id": "634e1db0",
   "metadata": {},
   "outputs": [],
   "source": [
    "vlm = pd.read_excel('data.xls')"
   ]
  },
  {
   "cell_type": "code",
   "execution_count": 3,
   "id": "c33e2467",
   "metadata": {},
   "outputs": [
    {
     "data": {
      "text/html": [
       "<div>\n",
       "<style scoped>\n",
       "    .dataframe tbody tr th:only-of-type {\n",
       "        vertical-align: middle;\n",
       "    }\n",
       "\n",
       "    .dataframe tbody tr th {\n",
       "        vertical-align: top;\n",
       "    }\n",
       "\n",
       "    .dataframe thead th {\n",
       "        text-align: right;\n",
       "    }\n",
       "</style>\n",
       "<table border=\"1\" class=\"dataframe\">\n",
       "  <thead>\n",
       "    <tr style=\"text-align: right;\">\n",
       "      <th></th>\n",
       "      <th>Station</th>\n",
       "      <th>Longitude</th>\n",
       "      <th>Latitude</th>\n",
       "      <th>VLM</th>\n",
       "      <th>VLM_std</th>\n",
       "    </tr>\n",
       "  </thead>\n",
       "  <tbody>\n",
       "    <tr>\n",
       "      <th>0</th>\n",
       "      <td>NYWV</td>\n",
       "      <td>54.684594</td>\n",
       "      <td>24.796595</td>\n",
       "      <td>-0.207</td>\n",
       "      <td>0.223</td>\n",
       "    </tr>\n",
       "    <tr>\n",
       "      <th>1</th>\n",
       "      <td>NYWT</td>\n",
       "      <td>54.115618</td>\n",
       "      <td>24.303783</td>\n",
       "      <td>1.413</td>\n",
       "      <td>0.158</td>\n",
       "    </tr>\n",
       "    <tr>\n",
       "      <th>2</th>\n",
       "      <td>NYSM</td>\n",
       "      <td>53.848164</td>\n",
       "      <td>24.056855</td>\n",
       "      <td>-0.856</td>\n",
       "      <td>0.154</td>\n",
       "    </tr>\n",
       "    <tr>\n",
       "      <th>3</th>\n",
       "      <td>NYRH</td>\n",
       "      <td>53.141386</td>\n",
       "      <td>24.147625</td>\n",
       "      <td>-0.724</td>\n",
       "      <td>0.166</td>\n",
       "    </tr>\n",
       "    <tr>\n",
       "      <th>4</th>\n",
       "      <td>NYRB</td>\n",
       "      <td>52.587928</td>\n",
       "      <td>24.171598</td>\n",
       "      <td>1.812</td>\n",
       "      <td>0.274</td>\n",
       "    </tr>\n",
       "    <tr>\n",
       "      <th>5</th>\n",
       "      <td>NYQN</td>\n",
       "      <td>52.763306</td>\n",
       "      <td>24.027073</td>\n",
       "      <td>-0.724</td>\n",
       "      <td>0.135</td>\n",
       "    </tr>\n",
       "    <tr>\n",
       "      <th>6</th>\n",
       "      <td>NYPD</td>\n",
       "      <td>53.470797</td>\n",
       "      <td>23.925228</td>\n",
       "      <td>2.240</td>\n",
       "      <td>0.164</td>\n",
       "    </tr>\n",
       "    <tr>\n",
       "      <th>7</th>\n",
       "      <td>NYPB</td>\n",
       "      <td>54.162907</td>\n",
       "      <td>24.134528</td>\n",
       "      <td>2.164</td>\n",
       "      <td>0.162</td>\n",
       "    </tr>\n",
       "    <tr>\n",
       "      <th>8</th>\n",
       "      <td>NYON</td>\n",
       "      <td>54.429235</td>\n",
       "      <td>24.539444</td>\n",
       "      <td>-0.683</td>\n",
       "      <td>0.170</td>\n",
       "    </tr>\n",
       "    <tr>\n",
       "      <th>9</th>\n",
       "      <td>NYNB</td>\n",
       "      <td>54.319712</td>\n",
       "      <td>24.460688</td>\n",
       "      <td>-0.259</td>\n",
       "      <td>0.255</td>\n",
       "    </tr>\n",
       "    <tr>\n",
       "      <th>10</th>\n",
       "      <td>NYML</td>\n",
       "      <td>54.684505</td>\n",
       "      <td>24.697955</td>\n",
       "      <td>2.471</td>\n",
       "      <td>0.167</td>\n",
       "    </tr>\n",
       "    <tr>\n",
       "      <th>11</th>\n",
       "      <td>NYMD</td>\n",
       "      <td>52.594159</td>\n",
       "      <td>23.957836</td>\n",
       "      <td>-0.491</td>\n",
       "      <td>0.147</td>\n",
       "    </tr>\n",
       "    <tr>\n",
       "      <th>12</th>\n",
       "      <td>NYLV</td>\n",
       "      <td>53.007917</td>\n",
       "      <td>23.783962</td>\n",
       "      <td>1.234</td>\n",
       "      <td>0.162</td>\n",
       "    </tr>\n",
       "    <tr>\n",
       "      <th>13</th>\n",
       "      <td>NYLP</td>\n",
       "      <td>52.954129</td>\n",
       "      <td>24.077970</td>\n",
       "      <td>-0.336</td>\n",
       "      <td>0.143</td>\n",
       "    </tr>\n",
       "    <tr>\n",
       "      <th>14</th>\n",
       "      <td>NYLC</td>\n",
       "      <td>53.714456</td>\n",
       "      <td>23.875943</td>\n",
       "      <td>-0.532</td>\n",
       "      <td>0.143</td>\n",
       "    </tr>\n",
       "    <tr>\n",
       "      <th>15</th>\n",
       "      <td>NYKT</td>\n",
       "      <td>54.080777</td>\n",
       "      <td>23.892600</td>\n",
       "      <td>-0.653</td>\n",
       "      <td>0.356</td>\n",
       "    </tr>\n",
       "    <tr>\n",
       "      <th>16</th>\n",
       "      <td>NYIL</td>\n",
       "      <td>54.337228</td>\n",
       "      <td>24.126542</td>\n",
       "      <td>1.601</td>\n",
       "      <td>0.261</td>\n",
       "    </tr>\n",
       "    <tr>\n",
       "      <th>17</th>\n",
       "      <td>NYHM</td>\n",
       "      <td>54.509155</td>\n",
       "      <td>24.440468</td>\n",
       "      <td>-0.309</td>\n",
       "      <td>0.238</td>\n",
       "    </tr>\n",
       "    <tr>\n",
       "      <th>18</th>\n",
       "      <td>NYHL</td>\n",
       "      <td>54.745020</td>\n",
       "      <td>24.534983</td>\n",
       "      <td>2.138</td>\n",
       "      <td>0.241</td>\n",
       "    </tr>\n",
       "    <tr>\n",
       "      <th>19</th>\n",
       "      <td>NYHF</td>\n",
       "      <td>54.583853</td>\n",
       "      <td>24.284389</td>\n",
       "      <td>0.763</td>\n",
       "      <td>0.287</td>\n",
       "    </tr>\n",
       "    <tr>\n",
       "      <th>20</th>\n",
       "      <td>NYHC</td>\n",
       "      <td>53.402955</td>\n",
       "      <td>23.721481</td>\n",
       "      <td>-0.440</td>\n",
       "      <td>0.155</td>\n",
       "    </tr>\n",
       "    <tr>\n",
       "      <th>21</th>\n",
       "      <td>NYHB</td>\n",
       "      <td>54.371240</td>\n",
       "      <td>23.931684</td>\n",
       "      <td>-0.619</td>\n",
       "      <td>0.194</td>\n",
       "    </tr>\n",
       "    <tr>\n",
       "      <th>22</th>\n",
       "      <td>NYFS</td>\n",
       "      <td>54.707363</td>\n",
       "      <td>24.129336</td>\n",
       "      <td>-0.510</td>\n",
       "      <td>0.147</td>\n",
       "    </tr>\n",
       "    <tr>\n",
       "      <th>23</th>\n",
       "      <td>NYFD</td>\n",
       "      <td>54.959540</td>\n",
       "      <td>24.400893</td>\n",
       "      <td>-1.207</td>\n",
       "      <td>0.159</td>\n",
       "    </tr>\n",
       "    <tr>\n",
       "      <th>24</th>\n",
       "      <td>NYET</td>\n",
       "      <td>53.242940</td>\n",
       "      <td>23.930465</td>\n",
       "      <td>1.776</td>\n",
       "      <td>0.168</td>\n",
       "    </tr>\n",
       "    <tr>\n",
       "      <th>25</th>\n",
       "      <td>NYDV</td>\n",
       "      <td>52.832057</td>\n",
       "      <td>23.872192</td>\n",
       "      <td>-0.875</td>\n",
       "      <td>0.187</td>\n",
       "    </tr>\n",
       "    <tr>\n",
       "      <th>26</th>\n",
       "      <td>NYCP</td>\n",
       "      <td>53.884195</td>\n",
       "      <td>23.773642</td>\n",
       "      <td>-0.308</td>\n",
       "      <td>0.206</td>\n",
       "    </tr>\n",
       "  </tbody>\n",
       "</table>\n",
       "</div>"
      ],
      "text/plain": [
       "   Station  Longitude   Latitude    VLM  VLM_std\n",
       "0     NYWV  54.684594  24.796595 -0.207    0.223\n",
       "1     NYWT  54.115618  24.303783  1.413    0.158\n",
       "2     NYSM  53.848164  24.056855 -0.856    0.154\n",
       "3     NYRH  53.141386  24.147625 -0.724    0.166\n",
       "4     NYRB  52.587928  24.171598  1.812    0.274\n",
       "5     NYQN  52.763306  24.027073 -0.724    0.135\n",
       "6     NYPD  53.470797  23.925228  2.240    0.164\n",
       "7     NYPB  54.162907  24.134528  2.164    0.162\n",
       "8     NYON  54.429235  24.539444 -0.683    0.170\n",
       "9     NYNB  54.319712  24.460688 -0.259    0.255\n",
       "10    NYML  54.684505  24.697955  2.471    0.167\n",
       "11    NYMD  52.594159  23.957836 -0.491    0.147\n",
       "12    NYLV  53.007917  23.783962  1.234    0.162\n",
       "13    NYLP  52.954129  24.077970 -0.336    0.143\n",
       "14    NYLC  53.714456  23.875943 -0.532    0.143\n",
       "15    NYKT  54.080777  23.892600 -0.653    0.356\n",
       "16    NYIL  54.337228  24.126542  1.601    0.261\n",
       "17    NYHM  54.509155  24.440468 -0.309    0.238\n",
       "18    NYHL  54.745020  24.534983  2.138    0.241\n",
       "19    NYHF  54.583853  24.284389  0.763    0.287\n",
       "20    NYHC  53.402955  23.721481 -0.440    0.155\n",
       "21    NYHB  54.371240  23.931684 -0.619    0.194\n",
       "22    NYFS  54.707363  24.129336 -0.510    0.147\n",
       "23    NYFD  54.959540  24.400893 -1.207    0.159\n",
       "24    NYET  53.242940  23.930465  1.776    0.168\n",
       "25    NYDV  52.832057  23.872192 -0.875    0.187\n",
       "26    NYCP  53.884195  23.773642 -0.308    0.206"
      ]
     },
     "execution_count": 3,
     "metadata": {},
     "output_type": "execute_result"
    }
   ],
   "source": [
    "vlm"
   ]
  },
  {
   "cell_type": "code",
   "execution_count": 4,
   "id": "b492e492",
   "metadata": {},
   "outputs": [],
   "source": [
    "elevation = gdal.Open('Elevation.tif', gdal.GA_ReadOnly)"
   ]
  },
  {
   "cell_type": "code",
   "execution_count": 5,
   "id": "913b102e",
   "metadata": {},
   "outputs": [
    {
     "data": {
      "text/plain": [
       "array([[32767, 32767, 32767, ...,    -2,    -4,    -4],\n",
       "       [32767, 32767, 32767, ...,    -3,    -4,    -6],\n",
       "       [32767, 32767, 32767, ...,    -3,    -4,    -4],\n",
       "       ...,\n",
       "       [32767, 32767, 32767, ...,    39,    38,    38],\n",
       "       [32767, 32767, 32767, ...,    38,    39,    40],\n",
       "       [32767, 32767, 32767, ...,    37,    38,    39]], dtype=int16)"
      ]
     },
     "execution_count": 5,
     "metadata": {},
     "output_type": "execute_result"
    }
   ],
   "source": [
    "elev_arr = elevation.GetRasterBand(1).ReadAsArray()\n",
    "elev_arr"
   ]
  },
  {
   "cell_type": "code",
   "execution_count": 6,
   "id": "73a67bd5",
   "metadata": {},
   "outputs": [],
   "source": [
    "def visualize_raster_bands(dataset):\n",
    "    \"\"\"\n",
    "    Iterates through all raster bands of a dataset\n",
    "    and makes plots.\n",
    "    Args:\n",
    "        dataset: GDALDataset object\n",
    "    \n",
    "    Returns:\n",
    "        [PLACEHOLDER]\n",
    "    \"\"\"\n",
    "    raster_count = dataset.RasterCount\n",
    "    # Iterate from band #1 to band #raster_count\n",
    "    bands = []\n",
    "    for i in range(1, raster_count+1):\n",
    "        band = dataset.GetRasterBand(i)\n",
    "        bands.append(band)\n",
    "    arrs = [band.ReadAsArray() for band in bands]\n",
    "    fig, axs = plt.subplots(1, raster_count, figsize=(8*raster_count, 8))\n",
    "    for i in range(raster_count):\n",
    "        if raster_count > 1:\n",
    "            axs[i].imshow(arrs[i], cmap='GnBu')\n",
    "            axs[i].set_title(f\"Band #{i+1}\")\n",
    "        else:\n",
    "            plt.imshow(arrs[0])\n",
    "            plt.title(f\"Band #1\")\n",
    "    plt.show()"
   ]
  },
  {
   "cell_type": "code",
   "execution_count": 7,
   "id": "1fd3a7c2",
   "metadata": {},
   "outputs": [
    {
     "data": {
      "image/png": "[encoded data removed]",
      "text/plain": [
       "<Figure size 576x576 with 1 Axes>"
      ]
     },
     "metadata": {
      "needs_background": "light"
     },
     "output_type": "display_data"
    }
   ],
   "source": [
    "visualize_raster_bands(elevation)"
   ]
  },
  {
   "cell_type": "code",
   "execution_count": 8,
   "id": "fdb9f3ed",
   "metadata": {},
   "outputs": [
    {
     "name": "stdout",
     "output_type": "stream",
     "text": [
      "Origin = (53.99986135, 24.700138706)\n",
      "Pixel Size = (0.00027777780000000054, -0.0002777777999999998)\n"
     ]
    }
   ],
   "source": [
    "gt = elevation.GetGeoTransform()\n",
    "if gt:\n",
    "    print(\"Origin = ({}, {})\".format(gt[0], gt[3]))\n",
    "    print(\"Pixel Size = ({}, {})\".format(gt[1], gt[5]))"
   ]
  },
  {
   "cell_type": "code",
   "execution_count": 9,
   "id": "9dc0a2a1",
   "metadata": {},
   "outputs": [],
   "source": [
    "old_cs = osr.SpatialReference()"
   ]
  },
  {
   "cell_type": "code",
   "execution_count": 10,
   "id": "f3f91d82",
   "metadata": {},
   "outputs": [
    {
     "data": {
      "text/plain": [
       "0"
      ]
     },
     "execution_count": 10,
     "metadata": {},
     "output_type": "execute_result"
    }
   ],
   "source": [
    "old_cs.ImportFromWkt(elevation.GetProjectionRef())"
   ]
  },
  {
   "cell_type": "code",
   "execution_count": 11,
   "id": "1c26ad47",
   "metadata": {},
   "outputs": [
    {
     "data": {
      "text/plain": [
       "'GEOGCS[\"WGS 84\",DATUM[\"WGS_1984\",SPHEROID[\"WGS 84\",6378137,298.257223563,AUTHORITY[\"EPSG\",\"7030\"]],AUTHORITY[\"EPSG\",\"6326\"]],PRIMEM[\"Greenwich\",0],UNIT[\"degree\",0.0174532925199433,AUTHORITY[\"EPSG\",\"9122\"]],AXIS[\"Latitude\",NORTH],AXIS[\"Longitude\",EAST],AUTHORITY[\"EPSG\",\"4326\"]]'"
      ]
     },
     "execution_count": 11,
     "metadata": {},
     "output_type": "execute_result"
    }
   ],
   "source": [
    "elevation.GetProjectionRef()"
   ]
  },
  {
   "cell_type": "code",
   "execution_count": 12,
   "id": "83afb7d6",
   "metadata": {},
   "outputs": [
    {
     "data": {
      "text/plain": [
       "0"
      ]
     },
     "execution_count": 12,
     "metadata": {},
     "output_type": "execute_result"
    }
   ],
   "source": [
    "wgs84_wkt = \"\"\"\n",
    "GEOGCS[\"WGS 84\",\n",
    "    DATUM[\"WGS_1984\",\n",
    "        SPHEROID[\"WGS 84\",6378137,298.257223563,\n",
    "            AUTHORITY[\"EPSG\",\"7030\"]],\n",
    "        AUTHORITY[\"EPSG\",\"6326\"]],\n",
    "    PRIMEM[\"Greenwich\",0,\n",
    "        AUTHORITY[\"EPSG\",\"8901\"]],\n",
    "    UNIT[\"degree\",0.01745329251994328,\n",
    "        AUTHORITY[\"EPSG\",\"9122\"]],\n",
    "    AUTHORITY[\"EPSG\",\"4326\"]]\"\"\"\n",
    "new_cs = osr.SpatialReference()\n",
    "new_cs.ImportFromWkt(wgs84_wkt)"
   ]
  },
  {
   "cell_type": "markdown",
   "id": "840a11b8",
   "metadata": {},
   "source": [
    "GT(0) x-coordinate of the upper-left corner of the upper-left pixel.\n",
    "\n",
    "GT(1) w-e pixel resolution / pixel width.\n",
    "\n",
    "GT(2) row rotation (typically zero).\n",
    "\n",
    "GT(3) y-coordinate of the upper-left corner of the upper-left pixel.\n",
    "\n",
    "GT(4) column rotation (typically zero).\n",
    "\n",
    "GT(5) n-s pixel resolution / pixel height (negative value for a north-up image)."
   ]
  },
  {
   "cell_type": "code",
   "execution_count": 13,
   "id": "dd99277a",
   "metadata": {},
   "outputs": [],
   "source": [
    "transform = osr.CoordinateTransformation(old_cs, new_cs)"
   ]
  },
  {
   "cell_type": "code",
   "execution_count": 14,
   "id": "c29af8cf",
   "metadata": {},
   "outputs": [],
   "source": [
    "width = elevation.RasterXSize\n",
    "height = elevation.RasterYSize\n",
    "minx = gt[0]\n",
    "miny = gt[3] + width*gt[4] + height*gt[5]"
   ]
  },
  {
   "cell_type": "code",
   "execution_count": 15,
   "id": "3c5cd6af",
   "metadata": {},
   "outputs": [
    {
     "data": {
      "text/plain": [
       "((2521, 1758), (53.99986135, 24.2118053336))"
      ]
     },
     "execution_count": 15,
     "metadata": {},
     "output_type": "execute_result"
    }
   ],
   "source": [
    "(width, height), (minx, miny)"
   ]
  },
  {
   "cell_type": "code",
   "execution_count": 16,
   "id": "73fc4d49",
   "metadata": {},
   "outputs": [],
   "source": [
    "latlong = transform.TransformPoint(minx, miny)"
   ]
  },
  {
   "cell_type": "code",
   "execution_count": 17,
   "id": "8411262a",
   "metadata": {},
   "outputs": [
    {
     "data": {
      "text/plain": [
       "(53.99986135, 24.2118053336, 0.0)"
      ]
     },
     "execution_count": 17,
     "metadata": {},
     "output_type": "execute_result"
    }
   ],
   "source": [
    "latlong"
   ]
  },
  {
   "cell_type": "code",
   "execution_count": 18,
   "id": "ce60bef9",
   "metadata": {},
   "outputs": [],
   "source": [
    "import georasters as gr"
   ]
  },
  {
   "cell_type": "code",
   "execution_count": 19,
   "id": "c5e2147a",
   "metadata": {},
   "outputs": [],
   "source": [
    "file = 'Elevation.tif'"
   ]
  },
  {
   "cell_type": "code",
   "execution_count": 20,
   "id": "97922192",
   "metadata": {},
   "outputs": [],
   "source": [
    "data = gr.from_file(file)"
   ]
  },
  {
   "cell_type": "code",
   "execution_count": 21,
   "id": "a32bdd59",
   "metadata": {},
   "outputs": [
    {
     "data": {
      "text/plain": [
       "<AxesSubplot:>"
      ]
     },
     "execution_count": 21,
     "metadata": {},
     "output_type": "execute_result"
    },
    {
     "data": {
      "image/png": "[encoded data removed]",
      "text/plain": [
       "<Figure size 432x288 with 1 Axes>"
      ]
     },
     "metadata": {
      "needs_background": "light"
     },
     "output_type": "display_data"
    }
   ],
   "source": [
    "data.plot()"
   ]
  },
  {
   "cell_type": "code",
   "execution_count": 22,
   "id": "0a54deb1",
   "metadata": {},
   "outputs": [
    {
     "data": {
      "text/html": [
       "<div>\n",
       "<style scoped>\n",
       "    .dataframe tbody tr th:only-of-type {\n",
       "        vertical-align: middle;\n",
       "    }\n",
       "\n",
       "    .dataframe tbody tr th {\n",
       "        vertical-align: top;\n",
       "    }\n",
       "\n",
       "    .dataframe thead th {\n",
       "        text-align: right;\n",
       "    }\n",
       "</style>\n",
       "<table border=\"1\" class=\"dataframe\">\n",
       "  <thead>\n",
       "    <tr style=\"text-align: right;\">\n",
       "      <th></th>\n",
       "      <th>row</th>\n",
       "      <th>col</th>\n",
       "      <th>value</th>\n",
       "      <th>x</th>\n",
       "      <th>y</th>\n",
       "    </tr>\n",
       "  </thead>\n",
       "  <tbody>\n",
       "    <tr>\n",
       "      <th>0</th>\n",
       "      <td>0</td>\n",
       "      <td>2347</td>\n",
       "      <td>1.0</td>\n",
       "      <td>54.651806</td>\n",
       "      <td>24.700139</td>\n",
       "    </tr>\n",
       "    <tr>\n",
       "      <th>1</th>\n",
       "      <td>0</td>\n",
       "      <td>2348</td>\n",
       "      <td>0.0</td>\n",
       "      <td>54.652084</td>\n",
       "      <td>24.700139</td>\n",
       "    </tr>\n",
       "    <tr>\n",
       "      <th>2</th>\n",
       "      <td>0</td>\n",
       "      <td>2349</td>\n",
       "      <td>1.0</td>\n",
       "      <td>54.652361</td>\n",
       "      <td>24.700139</td>\n",
       "    </tr>\n",
       "    <tr>\n",
       "      <th>3</th>\n",
       "      <td>0</td>\n",
       "      <td>2350</td>\n",
       "      <td>1.0</td>\n",
       "      <td>54.652639</td>\n",
       "      <td>24.700139</td>\n",
       "    </tr>\n",
       "    <tr>\n",
       "      <th>4</th>\n",
       "      <td>0</td>\n",
       "      <td>2351</td>\n",
       "      <td>2.0</td>\n",
       "      <td>54.652917</td>\n",
       "      <td>24.700139</td>\n",
       "    </tr>\n",
       "    <tr>\n",
       "      <th>...</th>\n",
       "      <td>...</td>\n",
       "      <td>...</td>\n",
       "      <td>...</td>\n",
       "      <td>...</td>\n",
       "      <td>...</td>\n",
       "    </tr>\n",
       "    <tr>\n",
       "      <th>1789656</th>\n",
       "      <td>1757</td>\n",
       "      <td>2516</td>\n",
       "      <td>37.0</td>\n",
       "      <td>54.698750</td>\n",
       "      <td>24.212083</td>\n",
       "    </tr>\n",
       "    <tr>\n",
       "      <th>1789657</th>\n",
       "      <td>1757</td>\n",
       "      <td>2517</td>\n",
       "      <td>36.0</td>\n",
       "      <td>54.699028</td>\n",
       "      <td>24.212083</td>\n",
       "    </tr>\n",
       "    <tr>\n",
       "      <th>1789658</th>\n",
       "      <td>1757</td>\n",
       "      <td>2518</td>\n",
       "      <td>37.0</td>\n",
       "      <td>54.699306</td>\n",
       "      <td>24.212083</td>\n",
       "    </tr>\n",
       "    <tr>\n",
       "      <th>1789659</th>\n",
       "      <td>1757</td>\n",
       "      <td>2519</td>\n",
       "      <td>38.0</td>\n",
       "      <td>54.699584</td>\n",
       "      <td>24.212083</td>\n",
       "    </tr>\n",
       "    <tr>\n",
       "      <th>1789660</th>\n",
       "      <td>1757</td>\n",
       "      <td>2520</td>\n",
       "      <td>39.0</td>\n",
       "      <td>54.699861</td>\n",
       "      <td>24.212083</td>\n",
       "    </tr>\n",
       "  </tbody>\n",
       "</table>\n",
       "<p>1789661 rows × 5 columns</p>\n",
       "</div>"
      ],
      "text/plain": [
       "          row   col  value          x          y\n",
       "0           0  2347    1.0  54.651806  24.700139\n",
       "1           0  2348    0.0  54.652084  24.700139\n",
       "2           0  2349    1.0  54.652361  24.700139\n",
       "3           0  2350    1.0  54.652639  24.700139\n",
       "4           0  2351    2.0  54.652917  24.700139\n",
       "...       ...   ...    ...        ...        ...\n",
       "1789656  1757  2516   37.0  54.698750  24.212083\n",
       "1789657  1757  2517   36.0  54.699028  24.212083\n",
       "1789658  1757  2518   37.0  54.699306  24.212083\n",
       "1789659  1757  2519   38.0  54.699584  24.212083\n",
       "1789660  1757  2520   39.0  54.699861  24.212083\n",
       "\n",
       "[1789661 rows x 5 columns]"
      ]
     },
     "execution_count": 22,
     "metadata": {},
     "output_type": "execute_result"
    }
   ],
   "source": [
    "df = data.to_pandas()\n",
    "df"
   ]
  },
  {
   "cell_type": "code",
   "execution_count": 23,
   "id": "cc4eb41a",
   "metadata": {},
   "outputs": [
    {
     "data": {
      "text/plain": [
       "(54.01375024, 54.699861406000004)"
      ]
     },
     "execution_count": 23,
     "metadata": {},
     "output_type": "execute_result"
    }
   ],
   "source": [
    "df.x.min(), df.x.max()"
   ]
  },
  {
   "cell_type": "code",
   "execution_count": 24,
   "id": "bf36a596",
   "metadata": {},
   "outputs": [
    {
     "data": {
      "text/plain": [
       "(24.212083111400002, 24.700138706)"
      ]
     },
     "execution_count": 24,
     "metadata": {},
     "output_type": "execute_result"
    }
   ],
   "source": [
    "df.y.min(), df.y.max()"
   ]
  },
  {
   "cell_type": "code",
   "execution_count": 25,
   "id": "141fe175",
   "metadata": {},
   "outputs": [
    {
     "data": {
      "text/plain": [
       "52.587928"
      ]
     },
     "execution_count": 25,
     "metadata": {},
     "output_type": "execute_result"
    }
   ],
   "source": [
    "vlm.Longitude.min()"
   ]
  },
  {
   "cell_type": "code",
   "execution_count": 26,
   "id": "d7028f06",
   "metadata": {},
   "outputs": [],
   "source": [
    "new_vlm = vlm.drop(columns=[\"Station\", \"VLM_std\"], axis=1)"
   ]
  },
  {
   "cell_type": "code",
   "execution_count": 27,
   "id": "b493a525",
   "metadata": {},
   "outputs": [
    {
     "data": {
      "image/png": "[encoded data removed]",
      "text/plain": [
       "<Figure size 864x576 with 1 Axes>"
      ]
     },
     "metadata": {
      "needs_background": "light"
     },
     "output_type": "display_data"
    }
   ],
   "source": [
    "plt.figure(figsize=(12, 8))\n",
    "plt.scatter(df.x, df.y, alpha=0.5)\n",
    "plt.scatter(vlm.Longitude, vlm.Latitude, color='r', alpha=0.5)\n",
    "# plt.scatter(52.587928, 24.171598, color='g')\n",
    "# plt.scatter(53.402955, 23.721481, color='g')\n",
    "plt.show()"
   ]
  },
  {
   "cell_type": "code",
   "execution_count": null,
   "id": "2a9d1c2b",
   "metadata": {},
   "outputs": [],
   "source": []
  }
 ],
 "metadata": {
  "kernelspec": {
   "display_name": "Python 3",
   "language": "python",
   "name": "python3"
  },
  "language_info": {
   "codemirror_mode": {
    "name": "ipython",
    "version": 3
   },
   "file_extension": ".py",
   "mimetype": "text/x-python",
   "name": "python",
   "nbconvert_exporter": "python",
   "pygments_lexer": "ipython3",
   "version": "3.8.5"
  }
 },
 "nbformat": 4,
 "nbformat_minor": 5
}
